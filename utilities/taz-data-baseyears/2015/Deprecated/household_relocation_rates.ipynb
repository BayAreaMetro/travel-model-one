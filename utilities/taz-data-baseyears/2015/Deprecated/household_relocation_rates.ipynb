{
 "cells": [
  {
   "cell_type": "code",
   "execution_count": 174,
   "metadata": {
    "collapsed": true
   },
   "outputs": [],
   "source": [
    "import pandas as pd"
   ]
  },
  {
   "cell_type": "markdown",
   "metadata": {},
   "source": [
    "### 2013-2017 ACS 5-year PUMS"
   ]
  },
  {
   "cell_type": "code",
   "execution_count": 175,
   "metadata": {},
   "outputs": [],
   "source": [
    "# copied from M:\\Data\\Census\\corrlib\n",
    "ba_puma = pd.read_csv('./PUMS Relocation Rates/Bay_puma_2010.csv')"
   ]
  },
  {
   "cell_type": "code",
   "execution_count": 176,
   "metadata": {},
   "outputs": [],
   "source": [
    "# available online: https://factfinder.census.gov/faces/tableservices/jsf/pages/productview.xhtml?pid=ACS_pums_csv_2013_2017&prodType=document\n",
    "# data dic: https://www2.census.gov/programs-surveys/acs/tech_docs/pums/data_dict/PUMS_Data_Dictionary_2013-2017.pdf?#\n",
    "pums = pd.read_csv('./PUMS Relocation Rates/psam_h06.csv')"
   ]
  },
  {
   "cell_type": "code",
   "execution_count": 177,
   "metadata": {
    "collapsed": true
   },
   "outputs": [],
   "source": [
    "# subset PUMS data to bay area\n",
    "pums_ba = pums[pums.PUMA.isin(ba_puma.PUMARC)]"
   ]
  },
  {
   "cell_type": "code",
   "execution_count": 178,
   "metadata": {
    "collapsed": true
   },
   "outputs": [],
   "source": [
    "# select relevant columns\n",
    "pums_ba = pums_ba[['SERIALNO', 'DIVISION', 'PUMA', 'REGION', 'ST', 'TEN', 'ADJINC', 'HINCP', 'MV', 'WGTP']]"
   ]
  },
  {
   "cell_type": "code",
   "execution_count": 179,
   "metadata": {
    "collapsed": true
   },
   "outputs": [],
   "source": [
    "# 0) use ADJINC to adjust to 2017, use inflation rate to adjust to 2015\n",
    "#Adjustment factor for income and earnings dollar amounts (6 implied decimal places)\n",
    "#1061971 .2013 factor (1.007549 * 1.05401460)\n",
    "#1045195 .2014 factor (1.008425 * 1.03646282)\n",
    "#1035988 .2015 factor (1.001264 * 1.03468042)\n",
    "#1029257 .2016 factor (1.007588 * 1.02150538)\n",
    "#1011189 .2017 factor (1.011189 * 1.00000000)\n",
    "pums_ba.loc[pums_ba.ADJINC==1061971, 'hh_inc'] = pums_ba.HINCP * (1061971.0/1000000.0)*.96239484\n",
    "pums_ba.loc[pums_ba.ADJINC==1045195, 'hh_inc'] = pums_ba.HINCP * (1045195.0/1000000.0)*.96239484\n",
    "pums_ba.loc[pums_ba.ADJINC==1035988, 'hh_inc'] = pums_ba.HINCP * (1035988.0/1000000.0)*.96239484\n",
    "pums_ba.loc[pums_ba.ADJINC==1029257, 'hh_inc'] = pums_ba.HINCP * (1029257.0/1000000.0)*.96239484\n",
    "pums_ba.loc[pums_ba.ADJINC==1011189, 'hh_inc'] = pums_ba.HINCP * (1011189.0/1000000.0)*.96239484"
   ]
  },
  {
   "cell_type": "code",
   "execution_count": 180,
   "metadata": {
    "collapsed": true
   },
   "outputs": [],
   "source": [
    "# 1) add household income quartile\n",
    "#Household income (past 12 months, use ADJINC to adjust HINCP to constant dollars)\n",
    "#bbbbbbbb .N/A (GQ/vacant)\n",
    "#00000000 .No household income\n",
    "#-0059999 .Loss of $59,999 or more\n",
    "#-0059998..-0000001 .Loss of $1 to $59,998\n",
    "#00000001 .$1 or Break even\n",
    "#00000002..99999999 .Total household in\n",
    "pums_ba.loc[(pums_ba.hh_inc > -999999999) & (pums_ba.hh_inc <= 30000), 'hh_inc_quartile'] = 1\n",
    "pums_ba.loc[(pums_ba.hh_inc > 30000) & (pums_ba.hh_inc <= 60000), 'hh_inc_quartile'] = 2\n",
    "pums_ba.loc[(pums_ba.hh_inc > 60000) & (pums_ba.hh_inc <= 100000), 'hh_inc_quartile'] = 3\n",
    "pums_ba.loc[(pums_ba.hh_inc > 100000) & (pums_ba.hh_inc <= 999999999), 'hh_inc_quartile'] = 4"
   ]
  },
  {
   "cell_type": "code",
   "execution_count": 181,
   "metadata": {
    "collapsed": true
   },
   "outputs": [],
   "source": [
    "# 2) add tenure\n",
    "#Tenure\n",
    "#b .N/A (GQ/vacant)\n",
    "#1 .Owned with mortgage or loan (include home equity loans)\n",
    "#2 .Owned free and clear\n",
    "#3 .Rented\n",
    "#4 .Occupied without payment of rent\n",
    "pums_ba.loc[(pums_ba.TEN == 1.0) | (pums_ba.TEN == 2.0), 'tenure'] = 'own'\n",
    "pums_ba.loc[(pums_ba.TEN == 3.0), 'tenure'] = 'rent'"
   ]
  },
  {
   "cell_type": "code",
   "execution_count": 182,
   "metadata": {
    "collapsed": true
   },
   "outputs": [],
   "source": [
    "# 3) add boolean for whether household moved in the last 5 years -- PUMS provides last 4 years\n",
    "#When moved into this house or apartment\n",
    "#b .N/A (GQ/vacant)\n",
    "#1 .12 months or less\n",
    "#2 .13 to 23 months\n",
    "#3 .2 to 4 years\n",
    "#4 .5 to 9 years\n",
    "#5 .10 to 19 years\n",
    "#6 .20 to 29 years\n",
    "#7 .30 years or more\n",
    "pums_ba.loc[(pums_ba.MV == 1.0) | (pums_ba.MV == 2.0) | (pums_ba.MV == 3.0), 'moved_last_4yrs'] = 1\n",
    "pums_ba.loc[(pums_ba.MV == 4.0) | (pums_ba.MV == 5.0) | (pums_ba.MV == 6.0) | (pums_ba.MV == 7.0), 'moved_last_4yrs'] = 0"
   ]
  },
  {
   "cell_type": "code",
   "execution_count": 183,
   "metadata": {
    "collapsed": true
   },
   "outputs": [],
   "source": [
    "# subset into tenure X income\n",
    "own_q1 = pums_ba[(pums_ba.tenure == 'own') & (pums_ba.hh_inc_quartile == 1.0)]\n",
    "own_q1_mv = own_q1[own_q1.moved_last_4yrs==1]\n",
    "own_q2 = pums_ba[(pums_ba.tenure == 'own') & (pums_ba.hh_inc_quartile == 2.0)]\n",
    "own_q2_mv = own_q2[own_q2.moved_last_4yrs==1]\n",
    "own_q3 = pums_ba[(pums_ba.tenure == 'own') & (pums_ba.hh_inc_quartile == 3.0)]\n",
    "own_q3_mv = own_q3[own_q3.moved_last_4yrs==1]\n",
    "own_q4 = pums_ba[(pums_ba.tenure == 'own') & (pums_ba.hh_inc_quartile == 4.0)]\n",
    "own_q4_mv = own_q4[own_q4.moved_last_4yrs==1]\n",
    "rent_q1 = pums_ba[(pums_ba.tenure == 'rent') & (pums_ba.hh_inc_quartile == 1.0)]\n",
    "rent_q1_mv = rent_q1[rent_q1.moved_last_4yrs==1]\n",
    "rent_q2 = pums_ba[(pums_ba.tenure == 'rent') & (pums_ba.hh_inc_quartile == 2.0)]\n",
    "rent_q2_mv = rent_q2[rent_q2.moved_last_4yrs==1]\n",
    "rent_q3 = pums_ba[(pums_ba.tenure == 'rent') & (pums_ba.hh_inc_quartile == 3.0)]\n",
    "rent_q3_mv = rent_q3[rent_q3.moved_last_4yrs==1]\n",
    "rent_q4 = pums_ba[(pums_ba.tenure == 'rent') & (pums_ba.hh_inc_quartile == 4.0)]\n",
    "rent_q4_mv = rent_q4[rent_q4.moved_last_4yrs==1]"
   ]
  },
  {
   "cell_type": "code",
   "execution_count": 186,
   "metadata": {},
   "outputs": [
    {
     "name": "stdout",
     "output_type": "stream",
     "text": [
      "0.197694819916\n",
      "0.217176743899\n",
      "0.244698247936\n",
      "0.324910234405\n",
      "0.668657041651\n",
      "0.737930045983\n",
      "0.806149839344\n",
      "0.911928230745\n"
     ]
    }
   ],
   "source": [
    "# get proportion of movers within those groups, weighted first\n",
    "# and then normalize to 5-year probabilities\n",
    "own_q1_move_prop = float(own_q1_mv.WGTP.sum())/float(own_q1.WGTP.sum())\n",
    "own_q1_move_prop = own_q1_move_prop*(5.0/4.0)\n",
    "print(own_q1_move_prop)\n",
    "own_q2_move_prop = float(own_q2_mv.WGTP.sum())/float(own_q2.WGTP.sum())\n",
    "own_q2_move_prop = own_q2_move_prop*(5.0/4.0)\n",
    "print(own_q2_move_prop)\n",
    "own_q3_move_prop = float(own_q3_mv.WGTP.sum())/float(own_q3.WGTP.sum())\n",
    "own_q3_move_prop = own_q3_move_prop*(5.0/4.0)\n",
    "print(own_q3_move_prop)\n",
    "own_q4_move_prop = float(own_q4_mv.WGTP.sum())/float(own_q4.WGTP.sum())\n",
    "own_q4_move_prop = own_q4_move_prop*(5.0/4.0)\n",
    "print(own_q4_move_prop)\n",
    "rent_q1_move_prop = float(rent_q1_mv.WGTP.sum())/float(rent_q1.WGTP.sum())\n",
    "rent_q1_move_prop = rent_q1_move_prop*(5.0/4.0)\n",
    "print(rent_q1_move_prop)\n",
    "rent_q2_move_prop = float(rent_q2_mv.WGTP.sum())/float(rent_q2.WGTP.sum())\n",
    "rent_q2_move_prop = rent_q2_move_prop*(5.0/4.0)\n",
    "print(rent_q2_move_prop)\n",
    "rent_q3_move_prop = float(rent_q3_mv.WGTP.sum())/float(rent_q3.WGTP.sum())\n",
    "rent_q3_move_prop = rent_q3_move_prop*(5.0/4.0)\n",
    "print(rent_q3_move_prop)\n",
    "rent_q4_move_prop = float(rent_q4_mv.WGTP.sum())/float(rent_q4.WGTP.sum())\n",
    "rent_q4_move_prop = rent_q4_move_prop*(5.0/4.0)\n",
    "print(rent_q4_move_prop)"
   ]
  },
  {
   "cell_type": "markdown",
   "metadata": {},
   "source": [
    "### Now compare against older PUMS: 2006-2008 ACS PUMS"
   ]
  },
  {
   "cell_type": "code",
   "execution_count": 27,
   "metadata": {},
   "outputs": [],
   "source": [
    "# copied from M:\\Data\\Census\\corrlib\n",
    "ba_puma_00 = pd.read_csv('./PUMS Relocation Rates/BayArea_puma5_cens2000.csv')"
   ]
  },
  {
   "cell_type": "code",
   "execution_count": 25,
   "metadata": {},
   "outputs": [],
   "source": [
    "# copied from: M:\\Data\\Census\\PUMS\\PUMS 2006-08\n",
    "pums_07 = pd.read_csv('./PUMS Relocation Rates/ss06_08hca.csv')"
   ]
  },
  {
   "cell_type": "code",
   "execution_count": 28,
   "metadata": {},
   "outputs": [],
   "source": [
    "# subset PUMS data to bay area\n",
    "pums_07_ba = pums_07[pums_07.PUMA.isin(ba_puma_00.PUMA)]"
   ]
  },
  {
   "cell_type": "code",
   "execution_count": 29,
   "metadata": {},
   "outputs": [],
   "source": [
    "# select relevant columns\n",
    "pums_07_ba = pums_07_ba[['SERIALNO', 'DIVISION', 'PUMA', 'REGION', 'ST', 'TEN', 'ADJINC', 'HINCP', 'MV', 'WGTP']]"
   ]
  },
  {
   "cell_type": "code",
   "execution_count": 31,
   "metadata": {},
   "outputs": [],
   "source": [
    "# 0) use ADJINC to adjust to 2008\n",
    "#Adjustment factor for income and earnings dollar amounts (6 implied decimal places)\n",
    "#1084622 .2006 factor (1.015675 * 1.06788247)\n",
    "#1055856 .2007 factor (1.016787 * 1.03842365)\n",
    "#1018389 .2008 factor (1.018389 * 1.00000000)\n",
    "pums_07_ba.loc[pums_07_ba.ADJINC==1084622, 'hh_inc'] = pums_07_ba.HINCP * (1084622.0/1000000.0)\n",
    "pums_07_ba.loc[pums_07_ba.ADJINC==1055856, 'hh_inc'] = pums_07_ba.HINCP * (1055856.0/1000000.0)\n",
    "pums_07_ba.loc[pums_07_ba.ADJINC==1018389, 'hh_inc'] = pums_07_ba.HINCP * (1018389.0/1000000.0)"
   ]
  },
  {
   "cell_type": "code",
   "execution_count": 32,
   "metadata": {
    "collapsed": true
   },
   "outputs": [],
   "source": [
    "# 1) add household income quartile\n",
    "#Household income (past 12 months, use ADJINC to adjust HINCP to constant dollars)\n",
    "#bbbbbbbb .N/A (GQ/vacant)\n",
    "#00000000 .No household income\n",
    "#-0059999 .Loss of $59,999 or more\n",
    "#-0059998..-0000001 .Loss of $1 to $59,998\n",
    "#00000001 .$1 or Break even\n",
    "#00000002..99999999 .Total household in\n",
    "pums_07_ba.loc[(pums_07_ba.hh_inc > -999999999) & (pums_07_ba.hh_inc <= 30000), 'hh_inc_quartile'] = 1\n",
    "pums_07_ba.loc[(pums_07_ba.hh_inc > 30000) & (pums_07_ba.hh_inc <= 60000), 'hh_inc_quartile'] = 2\n",
    "pums_07_ba.loc[(pums_07_ba.hh_inc > 60000) & (pums_07_ba.hh_inc <= 100000), 'hh_inc_quartile'] = 3\n",
    "pums_07_ba.loc[(pums_07_ba.hh_inc > 100000) & (pums_07_ba.hh_inc <= 999999999), 'hh_inc_quartile'] = 4"
   ]
  },
  {
   "cell_type": "code",
   "execution_count": 33,
   "metadata": {},
   "outputs": [],
   "source": [
    "# 2) add tenure\n",
    "#Tenure\n",
    "#b .N/A (GQ/vacant)\n",
    "#1 .Owned with mortgage or loan (include home equity loans)\n",
    "#2 .Owned free and clear\n",
    "#3 .Rented\n",
    "#4 .Occupied without payment of rent\n",
    "pums_07_ba.loc[(pums_07_ba.TEN == 1.0) | (pums_07_ba.TEN == 2.0), 'tenure'] = 'own'\n",
    "pums_07_ba.loc[(pums_07_ba.TEN == 3.0), 'tenure'] = 'rent'"
   ]
  },
  {
   "cell_type": "code",
   "execution_count": 34,
   "metadata": {},
   "outputs": [],
   "source": [
    "# 3) add boolean for whether household moved in the last 5 years -- PUMS provides last 4 years\n",
    "#When moved into this house or apartment\n",
    "#b .N/A (GQ/vacant)\n",
    "#1 .12 months or less\n",
    "#2 .13 to 23 months\n",
    "#3 .2 to 4 years\n",
    "#4 .5 to 9 years\n",
    "#5 .10 to 19 years\n",
    "#6 .20 to 29 years\n",
    "#7 .30 years or more\n",
    "pums_07_ba.loc[(pums_07_ba.MV == 1.0) | (pums_07_ba.MV == 2.0) | (pums_07_ba.MV == 3.0), 'moved_last_4yrs'] = 1\n",
    "pums_07_ba.loc[(pums_07_ba.MV == 4.0) | (pums_07_ba.MV == 5.0) | (pums_07_ba.MV == 6.0) | (pums_07_ba.MV == 7.0), 'moved_last_4yrs'] = 0"
   ]
  },
  {
   "cell_type": "code",
   "execution_count": 36,
   "metadata": {
    "collapsed": true
   },
   "outputs": [],
   "source": [
    "# subset into tenure X income\n",
    "own_q1_07 = pums_07_ba[(pums_07_ba.tenure == 'own') & (pums_07_ba.hh_inc_quartile == 1.0)]\n",
    "own_q1_mv_07 = own_q1_07[own_q1_07.moved_last_4yrs==1]\n",
    "own_q2_07 = pums_07_ba[(pums_07_ba.tenure == 'own') & (pums_07_ba.hh_inc_quartile == 2.0)]\n",
    "own_q2_mv_07 = own_q2_07[own_q2_07.moved_last_4yrs==1]\n",
    "own_q3_07 = pums_07_ba[(pums_07_ba.tenure == 'own') & (pums_07_ba.hh_inc_quartile == 3.0)]\n",
    "own_q3_mv_07 = own_q3_07[own_q3_07.moved_last_4yrs==1]\n",
    "own_q4_07 = pums_07_ba[(pums_07_ba.tenure == 'own') & (pums_07_ba.hh_inc_quartile == 4.0)]\n",
    "own_q4_mv_07 = own_q4_07[own_q4_07.moved_last_4yrs==1]\n",
    "rent_q1_07 = pums_07_ba[(pums_07_ba.tenure == 'rent') & (pums_07_ba.hh_inc_quartile == 1.0)]\n",
    "rent_q1_mv_07 = rent_q1_07[rent_q1_07.moved_last_4yrs==1]\n",
    "rent_q2_07 = pums_07_ba[(pums_07_ba.tenure == 'rent') & (pums_07_ba.hh_inc_quartile == 2.0)]\n",
    "rent_q2_mv_07 = rent_q2_07[rent_q2_07.moved_last_4yrs==1]\n",
    "rent_q3_07 = pums_07_ba[(pums_07_ba.tenure == 'rent') & (pums_07_ba.hh_inc_quartile == 3.0)]\n",
    "rent_q3_mv_07 = rent_q3_07[rent_q3_07.moved_last_4yrs==1]\n",
    "rent_q4_07 = pums_07_ba[(pums_07_ba.tenure == 'rent') & (pums_07_ba.hh_inc_quartile == 4.0)]\n",
    "rent_q4_mv_07 = rent_q4_07[rent_q4_07.moved_last_4yrs==1]"
   ]
  },
  {
   "cell_type": "code",
   "execution_count": 37,
   "metadata": {},
   "outputs": [
    {
     "name": "stdout",
     "output_type": "stream",
     "text": [
      "0.168620608289\n",
      "0.228811256868\n",
      "0.281970008437\n",
      "0.319342557341\n",
      "0.634495126447\n",
      "0.701124876492\n",
      "0.723014064375\n",
      "0.765592017364\n"
     ]
    }
   ],
   "source": [
    "# get proportion of movers within those groups, weighted first\n",
    "own_q1_move_prop_07 = float(own_q1_mv_07.WGTP.sum())/float(own_q1_07.WGTP.sum())\n",
    "print(own_q1_move_prop_07)\n",
    "own_q2_move_prop_07 = float(own_q2_mv_07.WGTP.sum())/float(own_q2_07.WGTP.sum())\n",
    "print(own_q2_move_prop_07)\n",
    "own_q3_move_prop_07 = float(own_q3_mv_07.WGTP.sum())/float(own_q3_07.WGTP.sum())\n",
    "print(own_q3_move_prop_07)\n",
    "own_q4_move_prop_07 = float(own_q4_mv_07.WGTP.sum())/float(own_q4_07.WGTP.sum())\n",
    "print(own_q4_move_prop_07)\n",
    "rent_q1_move_prop_07 = float(rent_q1_mv_07.WGTP.sum())/float(rent_q1_07.WGTP.sum())\n",
    "print(rent_q1_move_prop_07)\n",
    "rent_q2_move_prop_07 = float(rent_q2_mv_07.WGTP.sum())/float(rent_q2_07.WGTP.sum())\n",
    "print(rent_q2_move_prop_07)\n",
    "rent_q3_move_prop_07 = float(rent_q3_mv_07.WGTP.sum())/float(rent_q3_07.WGTP.sum())\n",
    "print(rent_q3_move_prop_07)\n",
    "rent_q4_move_prop_07 = float(rent_q4_mv_07.WGTP.sum())/float(rent_q4_07.WGTP.sum())\n",
    "print(rent_q4_move_prop_07)"
   ]
  },
  {
   "cell_type": "markdown",
   "metadata": {},
   "source": [
    "### Now compare against another older PUMS: 2000 PUMS"
   ]
  },
  {
   "cell_type": "code",
   "execution_count": 38,
   "metadata": {
    "collapsed": true
   },
   "outputs": [],
   "source": [
    "# copied from: M:\\Data\\Census\\PUMS\\PUMS 2000\n",
    "pums_00 = pd.read_csv('./PUMS Relocation Rates/hbayarea5_2000.csv')"
   ]
  },
  {
   "cell_type": "code",
   "execution_count": 39,
   "metadata": {},
   "outputs": [],
   "source": [
    "# subset PUMS data to bay area\n",
    "pums_00_ba = pums_00[pums_00.puma5.isin(ba_puma_00.PUMA)]"
   ]
  },
  {
   "cell_type": "code",
   "execution_count": 40,
   "metadata": {},
   "outputs": [],
   "source": [
    "# select relevant columns\n",
    "pums_00_ba = pums_00_ba[['puma5', 'tenure', 'hinc', 'yrmoved', 'hweight']]\n",
    "pums_00_ba.rename(columns={'tenure':'ten'}, inplace=True)"
   ]
  },
  {
   "cell_type": "code",
   "execution_count": 41,
   "metadata": {},
   "outputs": [],
   "source": [
    "# 1) add household income quartile\n",
    "#T Household Total Income in 1999\n",
    "#V –0059999 . Loss of $59,999 or more\n",
    "#R –0000001..–0059998 . Loss of $1 to $59,998\n",
    "#V 00000000 . Not in universe (vacant, GQ, no income)\n",
    "#V 00000001 . $1 or break even\n",
    "#R 00000002..99999998 . $2 to $99,999,998\n",
    "#V 99999999 . $99,999,999 or more\n",
    "pums_00_ba.loc[(pums_00_ba.hinc > -999999999) & (pums_00_ba.hinc <= 30000), 'hh_inc_quartile'] = 1\n",
    "pums_00_ba.loc[(pums_00_ba.hinc > 30000) & (pums_00_ba.hinc <= 60000), 'hh_inc_quartile'] = 2\n",
    "pums_00_ba.loc[(pums_00_ba.hinc > 60000) & (pums_00_ba.hinc <= 100000), 'hh_inc_quartile'] = 3\n",
    "pums_00_ba.loc[(pums_00_ba.hinc > 100000) & (pums_00_ba.hinc <= 999999999), 'hh_inc_quartile'] = 4"
   ]
  },
  {
   "cell_type": "code",
   "execution_count": 42,
   "metadata": {
    "collapsed": true
   },
   "outputs": [],
   "source": [
    "# 2) add tenure\n",
    "#T Home Ownership\n",
    "#V 0 . Not in universe (vacant or GQ)\n",
    "#V 1 . Owned by you or someone in this household with a mortgage or loan\n",
    "#V 2 . Owned by you or someone in this household free and clear (without a mortgage or loan)\n",
    "#V 3 . Rented for cash rent\n",
    "#V 4 . Occupied without payment of cash rent\n",
    "pums_00_ba.loc[(pums_00_ba.ten == 1.0) | (pums_00_ba.ten == 2.0), 'tenure'] = 'own'\n",
    "pums_00_ba.loc[(pums_00_ba.ten == 3.0), 'tenure'] = 'rent'"
   ]
  },
  {
   "cell_type": "code",
   "execution_count": 43,
   "metadata": {},
   "outputs": [],
   "source": [
    "# 3) add boolean for whether household moved in the last 5 years -- 2000 PUMS provides last 5 years\n",
    "#T Year Moved In\n",
    "#V blank . Not in universe (vacant or GQ)\n",
    "#V 1 . 1999 or 2000\n",
    "#V 2 . 1995 to 1998\n",
    "#V 3 . 1990 to 1994\n",
    "#V 4 . 1980 to 1989\n",
    "#V 5 . 1970 to 1979\n",
    "#V 6 . 1969 or earlier\n",
    "pums_00_ba.loc[(pums_00_ba.yrmoved == 1.0) | (pums_00_ba.yrmoved == 2.0), 'moved_last_5yrs'] = 1\n",
    "pums_00_ba.loc[(pums_00_ba.yrmoved == 3.0) | (pums_00_ba.yrmoved == 4.0) | (pums_00_ba.yrmoved == 5.0) | (pums_00_ba.yrmoved == 6.0), 'moved_last_5yrs'] = 0"
   ]
  },
  {
   "cell_type": "code",
   "execution_count": 44,
   "metadata": {},
   "outputs": [],
   "source": [
    "# subset into tenure X income\n",
    "own_q1_00 = pums_00_ba[(pums_00_ba.tenure == 'own') & (pums_00_ba.hh_inc_quartile == 1.0)]\n",
    "own_q1_mv_00 = own_q1_00[own_q1_00.moved_last_5yrs==1]\n",
    "own_q2_00 = pums_00_ba[(pums_00_ba.tenure == 'own') & (pums_00_ba.hh_inc_quartile == 2.0)]\n",
    "own_q2_mv_00 = own_q2_00[own_q2_00.moved_last_5yrs==1]\n",
    "own_q3_00 = pums_00_ba[(pums_00_ba.tenure == 'own') & (pums_00_ba.hh_inc_quartile == 3.0)]\n",
    "own_q3_mv_00 = own_q3_00[own_q3_00.moved_last_5yrs==1]\n",
    "own_q4_00 = pums_00_ba[(pums_00_ba.tenure == 'own') & (pums_00_ba.hh_inc_quartile == 4.0)]\n",
    "own_q4_mv_00 = own_q4_00[own_q4_00.moved_last_5yrs==1]\n",
    "rent_q1_00 = pums_00_ba[(pums_00_ba.tenure == 'rent') & (pums_00_ba.hh_inc_quartile == 1.0)]\n",
    "rent_q1_mv_00 = rent_q1_00[rent_q1_00.moved_last_5yrs==1]\n",
    "rent_q2_00 = pums_00_ba[(pums_00_ba.tenure == 'rent') & (pums_00_ba.hh_inc_quartile == 2.0)]\n",
    "rent_q2_mv_00 = rent_q2_00[rent_q2_00.moved_last_5yrs==1]\n",
    "rent_q3_00 = pums_00_ba[(pums_00_ba.tenure == 'rent') & (pums_00_ba.hh_inc_quartile == 3.0)]\n",
    "rent_q3_mv_00 = rent_q3_00[rent_q3_00.moved_last_5yrs==1]\n",
    "rent_q4_00 = pums_00_ba[(pums_00_ba.tenure == 'rent') & (pums_00_ba.hh_inc_quartile == 4.0)]\n",
    "rent_q4_mv_00 = rent_q4_00[rent_q4_00.moved_last_5yrs==1]"
   ]
  },
  {
   "cell_type": "code",
   "execution_count": 45,
   "metadata": {},
   "outputs": [
    {
     "name": "stdout",
     "output_type": "stream",
     "text": [
      "0.236740098834\n",
      "0.311557629432\n",
      "0.361354534382\n",
      "0.378042500601\n",
      "0.674114296145\n",
      "0.726544850183\n",
      "0.750852017101\n",
      "0.785236851867\n"
     ]
    }
   ],
   "source": [
    "# get proportion of movers within those groups, weighted first\n",
    "own_q1_move_prop_00 = float(own_q1_mv_00.hweight.sum())/float(own_q1_00.hweight.sum())\n",
    "print(own_q1_move_prop_00)\n",
    "own_q2_move_prop_00 = float(own_q2_mv_00.hweight.sum())/float(own_q2_00.hweight.sum())\n",
    "print(own_q2_move_prop_00)\n",
    "own_q3_move_prop_00 = float(own_q3_mv_00.hweight.sum())/float(own_q3_00.hweight.sum())\n",
    "print(own_q3_move_prop_00)\n",
    "own_q4_move_prop_00 = float(own_q4_mv_00.hweight.sum())/float(own_q4_00.hweight.sum())\n",
    "print(own_q4_move_prop_00)\n",
    "rent_q1_move_prop_00 = float(rent_q1_mv_00.hweight.sum())/float(rent_q1_00.hweight.sum())\n",
    "print(rent_q1_move_prop_00)\n",
    "rent_q2_move_prop_00 = float(rent_q2_mv_00.hweight.sum())/float(rent_q2_00.hweight.sum())\n",
    "print(rent_q2_move_prop_00)\n",
    "rent_q3_move_prop_00 = float(rent_q3_mv_00.hweight.sum())/float(rent_q3_00.hweight.sum())\n",
    "print(rent_q3_move_prop_00)\n",
    "rent_q4_move_prop_00 = float(rent_q4_mv_00.hweight.sum())/float(rent_q4_00.hweight.sum())\n",
    "print(rent_q4_move_prop_00)"
   ]
  },
  {
   "cell_type": "markdown",
   "metadata": {},
   "source": [
    "#### 1990? -- haven't been able to get a usable PUMS file format / iPUMS doesn't have the needed vars"
   ]
  },
  {
   "cell_type": "code",
   "execution_count": 48,
   "metadata": {},
   "outputs": [],
   "source": [
    "# https://www.census.gov/data/tables/2017/demo/geographic-mobility/cps-2017.html\n",
    "# https://www.census.gov/data/tables/2018/demo/geographic-mobility/cps-2018.html\n",
    "# 2016-2017: it does seem like for \"persons\" low inc moves more, but for \"householders\" higher inc moves more"
   ]
  },
  {
   "cell_type": "code",
   "execution_count": 47,
   "metadata": {
    "collapsed": true
   },
   "outputs": [],
   "source": [
    "# https://www.theatlantic.com/business/archive/2017/10/geographic-mobility-and-housing/542439/\n",
    "# Highly educated people still relocate for work, but exorbitant housing costs in the best-paying cities \n",
    "# make it difficult for anyone else to do so."
   ]
  },
  {
   "cell_type": "code",
   "execution_count": 49,
   "metadata": {
    "collapsed": true
   },
   "outputs": [],
   "source": [
    "# https://www.npr.org/templates/story/story.php?storyId=235384213\n",
    "# Staying Put: Why Income Inequality Is Up And Geographic Mobility Is Down\n",
    "# Median income is now a little below what it was in the late 1990s. \n",
    "# And you combine that with rising housing prices, then it becomes difficult for people \n",
    "# to move to jobs because they can't afford to live where the new jobs are. "
   ]
  },
  {
   "cell_type": "code",
   "execution_count": 46,
   "metadata": {
    "collapsed": true
   },
   "outputs": [],
   "source": [
    "# q1 has less ability to manage rent burden\n",
    "# q1 could potentially be helped by rent control or deed-restricted units\n",
    "# q4 has more means to move\n",
    "# q4 could also be helped by rent control (which matters less...)"
   ]
  },
  {
   "cell_type": "code",
   "execution_count": null,
   "metadata": {
    "collapsed": true
   },
   "outputs": [],
   "source": []
  }
 ],
 "metadata": {
  "kernelspec": {
   "display_name": "Python [conda env:anaconda2]",
   "language": "python",
   "name": "conda-env-anaconda2-py"
  }
 },
 "nbformat": 4,
 "nbformat_minor": 2
}
