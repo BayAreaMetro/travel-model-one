{
 "cells": [
  {
   "cell_type": "markdown",
   "metadata": {},
   "source": [
    "## Background\n",
    "\n",
    "This script is for estimating an updated WFH model for TM1.6.1. The [initial WFH model created for TM1.6.0](https://github.com/BayAreaMetro/travel-model-one/pull/63) was estimated using ACS 2021 data (and later updated to use ACS 2022 data) based on household income, home county, and industry. However, ACS and ACS PUMS data on WFH has the limitation that for workers who report WFH as their primary journey-to-work mode for the reference week, no distinct workplace (from home) is reported.\n",
    "\n",
    "MTC staff looked at data from the [2023 Bay Area Travel Study (BATS)](https://mtc.ca.gov/tools-resources/survey-program) where workplace location was reported for all respondents who had a workplace, even if they worked from home on a survey day. We [found that the distances between work and home tended to be longer for people who worked from home](https://10ay.online.tableau.com/t/metropolitantransportationcommission/views/BATS-2023-SurveyDataViz--WeightedDataset_09112024_17261683633090/Dist-to-WorkTable), which is intuitve because a longer commute would incentive workers to WFH. However, the ACS-based WFH model implemented resulted in the reverse pattern.\n",
    "\n",
    "Therefore, the goal here is to estimate a simple model using BATS 2023 data and a similar set of independent variables (to minimize implementation effort due to limited time available), but with the addition of a distance-to-work term included.\n",
    "\n",
    "Asana task (internal): [Estimate WFH binomial logit model using BATS2023](https://app.asana.com/0/15119358130897/1208621825395379/f)"
   ]
  },
  {
   "cell_type": "code",
   "execution_count": 1,
   "metadata": {},
   "outputs": [],
   "source": [
    "import pandas as pd\n",
    "import geopandas as gpd\n",
    "import numpy as np\n",
    "import shapely\n",
    "import statsmodels.formula.api as smf\n",
    "import matplotlib.pyplot as plt\n",
    "import os\n",
    "import pathlib\n",
    "\n",
    "pd.options.display.max_rows = 1000\n",
    "\n",
    "WORKSPACE_DIR = pathlib.Path(\"M:\\\\Development\\\\Travel Model One\\\\Estimation\\\\WFH_BATS_2023\")"
   ]
  },
  {
   "cell_type": "markdown",
   "metadata": {},
   "source": [
    "## 1. Prepare BATS 2023 data"
   ]
  },
  {
   "cell_type": "code",
   "execution_count": 2,
   "metadata": {},
   "outputs": [],
   "source": [
    "# default is C:/Users/username/Box\n",
    "BOX_ROOT_DIR = pathlib.Path(\"C:/Users\") / os.environ['USERNAME'] / \"Box\"\n",
    "if (os.environ['USERNAME'] == 'lzorn'):\n",
    "    BOX_ROOT_DIR = pathlib.Path(\"E:/Box\")\n",
    "\n",
    "BATS_DATA_DIR = BOX_ROOT_DIR / \"Modeling and Surveys\" / \"Surveys\" / \"Travel Diary Survey\" / \"Biennial Travel Diary Survey\" / \\\n",
    "    \"MTC_RSG_Partner Repository\" / \"5.Deliverables\" / \"Task 10 - Final Weighted and Expanded Data Files\" / \"WeightedDataset_09112024\""
   ]
  },
  {
   "cell_type": "markdown",
   "metadata": {},
   "source": [
    "### 1.1 Read households data for household income, home location"
   ]
  },
  {
   "cell_type": "code",
   "execution_count": 3,
   "metadata": {},
   "outputs": [
    {
     "name": "stdout",
     "output_type": "stream",
     "text": [
      "Read 8,258 rows from \"E:\\Box\\Modeling and Surveys\\Surveys\\Travel Diary Survey\\Biennial Travel Diary Survey\\MTC_RSG_Partner Repository\\5.Deliverables\\Task 10 - Final Weighted and Expanded Data Files\\WeightedDataset_09112024\\hh.csv\n",
      "\n",
      "All records have home_in_region==1:\n",
      "home_in_region\n",
      "1    8258\n",
      "Name: count, dtype: int64\n"
     ]
    }
   ],
   "source": [
    "# read households\n",
    "bats_hhlds = pd.read_csv(BATS_DATA_DIR / \"hh.csv\")\n",
    "print(f\"Read {len(bats_hhlds):,} rows from \\\"{BATS_DATA_DIR / 'hh.csv'}\")\n",
    "\n",
    "# print(\"\\nbats_hhlds.dtypes:\")\n",
    "# print(bats_hhlds.dtypes)\n",
    "\n",
    "# select relevant variables\n",
    "bats_hhlds = bats_hhlds[[\n",
    "    'hh_id',\n",
    "    'home_lon','home_lat','home_in_region','home_county',\n",
    "    'income_detailed','income_followup','income_broad','income_imputed']]\n",
    "\n",
    "# filter to home_in_region? Not necesary -- these are all 1\n",
    "print(\"\\nAll records have home_in_region==1:\")\n",
    "print(bats_hhlds['home_in_region'].value_counts(dropna=False))"
   ]
  },
  {
   "cell_type": "markdown",
   "metadata": {},
   "source": [
    "#### 1.1.1 Recode household income"
   ]
  },
  {
   "cell_type": "code",
   "execution_count": 4,
   "metadata": {},
   "outputs": [
    {
     "name": "stdout",
     "output_type": "stream",
     "text": [
      "\n",
      "Income variable tabulation:\n",
      "income_detailed  income_imputed\n",
      "7                100to200k         1370\n",
      "10               200plusk          1235\n",
      "8                100to200k          935\n",
      "6                075to100k          852\n",
      "5                050to075k          761\n",
      "9                200plusk           622\n",
      "999              100to200k          547\n",
      "1                000to025k          428\n",
      "4                025to050k          417\n",
      "2                000to025k          305\n",
      "3                025to050k          303\n",
      "999              200plusk           261\n",
      "                 000to025k          122\n",
      "                 025to050k           45\n",
      "                 050to075k           29\n",
      "                 075to100k           26\n",
      "Name: count, dtype: int64\n"
     ]
    }
   ],
   "source": [
    "# recode\n",
    "INCOME_IMPUTED_RECODE = {\n",
    "    'Under $25,000'    : '000to025k',\n",
    "    '$25,000-$49,999'  : '025to050k',\n",
    "    '$50,000-$74,999'  : '050to075k',\n",
    "    '$75,000-$99,999'  : '075to100k',\n",
    "    '$100,000-$199,999': '100to200k',\n",
    "    '$200,000 or more' : '200plusk'\n",
    "}\n",
    "bats_hhlds['income_imputed'] = bats_hhlds.income_imputed.map(INCOME_IMPUTED_RECODE)\n",
    "\n",
    "# use income_imputed?\n",
    "print(\"\\nIncome variable tabulation:\")\n",
    "print(bats_hhlds[['income_detailed','income_imputed']].value_counts(dropna=False))\n",
    "\n",
    "# add dummies for income_imputed\n",
    "hhinc_dummies = pd.get_dummies(data=bats_hhlds.income_imputed, prefix=\"hhinc\")\n",
    "bats_hhlds = bats_hhlds.join(hhinc_dummies)\n",
    "\n",
    "# recode to value\n",
    "# TODO: this is crude, but I don't know that sampling a number in this range would be preferable?\n",
    "# These are the weighted averages of household income from PUMS 2023, filtered to employed persons only\n",
    "# via census-tools-for-planning\\Analysis\\investigateWorkFromHomeMergedPUMS.R\n",
    "# See https://10ay.online.tableau.com/t/metropolitantransportationcommission/views/WFH_BATS_2023/2023PUMSIncome\n",
    "INCOME_IMPUTED_NOMINAL_RECODE = {\n",
    "    '000to025k' : 11775.0,\n",
    "    '025to050k':  35561.0,\n",
    "    '050to075k':  62278.0,\n",
    "    '075to100k':  86847.0,\n",
    "    '100to200k': 144350.0,\n",
    "    '200plusk' : 318930.0,\n",
    "}\n",
    "bats_hhlds['income_imputed_nominal'] = bats_hhlds.income_imputed.map(INCOME_IMPUTED_NOMINAL_RECODE)\n",
    "bats_hhlds['ln_income_imputed_nominal'] = np.log(bats_hhlds.income_imputed_nominal)"
   ]
  },
  {
   "cell_type": "markdown",
   "metadata": {},
   "source": [
    "### 1.2 Read person data for employment status, work location and industry\n",
    "\n",
    "Filter to employed persons who have a recorded work location in the region."
   ]
  },
  {
   "cell_type": "code",
   "execution_count": 5,
   "metadata": {},
   "outputs": [
    {
     "name": "stdout",
     "output_type": "stream",
     "text": [
      "Read 15,985 rows from \"E:\\Box\\Modeling and Surveys\\Surveys\\Travel Diary Survey\\Biennial Travel Diary Survey\\MTC_RSG_Partner Repository\\5.Deliverables\\Task 10 - Final Weighted and Expanded Data Files\\WeightedDataset_09112024\\person.csv\"\n",
      "\n",
      "Filtering to: employment == 1 Employed full-time (paid) or 2 Employed part-time (paid)\n",
      " => 8,374 rows\n",
      "\n",
      "Work in region vs has_work_location tabulation:\n",
      "work_in_region  has_work_location\n",
      "1               True                 5982\n",
      "995             False                2328\n",
      "0               True                   64\n",
      "Name: count, dtype: int64\n",
      "\n",
      "Filtering to: work_in_region==1 and has_work_location==True\n",
      " => 5,982 rows\n"
     ]
    }
   ],
   "source": [
    "# read persons\n",
    "bats_persons = pd.read_csv(BATS_DATA_DIR / \"person.csv\")\n",
    "print(f\"Read {len(bats_persons):,} rows from \\\"{BATS_DATA_DIR / 'person.csv'}\\\"\")\n",
    "\n",
    "# print(\"\\nbats_persons.dtypes:\")\n",
    "# print(bats_persons.dtypes)\n",
    "\n",
    "# select relevant variables\n",
    "bats_persons = bats_persons[[\n",
    "    'hh_id','person_id',\n",
    "    'employment','work_lat','work_lon','work_in_region','work_county',\n",
    "    'industry','industry_other',\n",
    "    'can_telework']]\n",
    "\n",
    "print(\"\\nFiltering to: employment == 1 Employed full-time (paid) or 2 Employed part-time (paid)\")\n",
    "bats_persons = bats_persons.loc[bats_persons.employment.isin([1,2])]\n",
    "print(f\" => {len(bats_persons):,} rows\")\n",
    "\n",
    "# set variable for has_work_location\n",
    "bats_persons['has_work_location'] = False\n",
    "bats_persons.loc[pd.notna(bats_persons.work_lat) & pd.notna(bats_persons.work_lon), \"has_work_location\"] = True\n",
    "\n",
    "print(\"\\nWork in region vs has_work_location tabulation:\")\n",
    "print(bats_persons[[\"work_in_region\",\"has_work_location\"]].value_counts(dropna=False))\n",
    "\n",
    "# It looks like work_in_region==995 => has_work_location==False\n",
    "# Drop work_in_region==0 and has_work_location==False\n",
    "print(\"\\nFiltering to: work_in_region==1 and has_work_location==True\")\n",
    "bats_persons = bats_persons.loc[(bats_persons.work_in_region == 1)&\n",
    "                                (bats_persons.has_work_location==True)]\n",
    "print(f\" => {len(bats_persons):,} rows\")\n",
    "\n"
   ]
  },
  {
   "cell_type": "markdown",
   "metadata": {},
   "source": [
    "#### 1.2.1 Recode industry to TM1 categories\n",
    "\n",
    "See https://github.com/BayAreaMetro/modeling-website/wiki/TazData\n",
    "\n",
    "* `RETEMPN`: Retail trade employment (NAICS-based)\n",
    "* `FPSEMPN`: Financial and professional services employment (NAICS-based)\n",
    "* `HEREMPN`: Health, educational and recreational service employment (NAICS-based)\n",
    "* `AGREMPN`: Agricultural and natural resources employment (NAICS-based)\n",
    "* `MWTEMPN`: Manufacturing, wholesale trade and transportation employment (NAICS-based)\n",
    "* `OTHEMPN`: Other employment (NAICS-based)\n",
    "\n",
    "Also see [NAICS_to_EMPSIX.xlsx](https://github.com/BayAreaMetro/travel-model-one/blob/master/utilities/taz-data-baseyears/2015/Employment/NAICS_to_EMPSIX.xlsx)\n"
   ]
  },
  {
   "cell_type": "code",
   "execution_count": 6,
   "metadata": {},
   "outputs": [
    {
     "name": "stdout",
     "output_type": "stream",
     "text": [
      "After recoding 'industry':\n",
      "empsix\n",
      "HEREMPN    1886\n",
      "FPSEMPN    1379\n",
      "OTHEMPN    1107\n",
      "NaN         754\n",
      "MWTEMPN     604\n",
      "RETEMPN     211\n",
      "AGREMPN      41\n",
      "Name: count, dtype: int64\n",
      "\n",
      "After recoding 'industry_other':\n",
      "empsix\n",
      "HEREMPN    1987\n",
      "FPSEMPN    1588\n",
      "OTHEMPN    1174\n",
      "MWTEMPN     619\n",
      "NaN         358\n",
      "RETEMPN     215\n",
      "AGREMPN      41\n",
      "Name: count, dtype: int64\n"
     ]
    }
   ],
   "source": [
    "INDUSTRY_RECODE = {\n",
    "    1   : 'AGREMPN', # Agriculture, Forestry, Fishing, and Hunting\n",
    "    2   : 'AGREMPN', # Mining, Quarrying, and Oil and Gas Extraction\n",
    "    3   : 'MWTEMPN', # Utilities\n",
    "    4   : 'OTHEMPN', # Construction\n",
    "    5   : 'MWTEMPN', # Manufacturing\n",
    "    6   : 'MWTEMPN', # Wholesale Trade\n",
    "    7   : 'RETEMPN', # Retail Trade\n",
    "    8   : 'MWTEMPN', # Transportation and Warehousing\n",
    "    9   : 'OTHEMPN', # Information\n",
    "    10  : 'FPSEMPN', # Finance and Insurance\n",
    "    11  : 'FPSEMPN', # Real Estate and Rental and Leasing\n",
    "    12  : 'FPSEMPN', # Professional, Scientific, and Technical Services\n",
    "    13  : 'FPSEMPN', # Management of Companies and Enteprises\n",
    "    14  : 'FPSEMPN', # Administrative and Support and Waste Management and Remediation Services\n",
    "    15  : 'HEREMPN', # Educational Servies\n",
    "    16  : 'HEREMPN', # Helath Care and Social Assitance\n",
    "    17  : 'HEREMPN', # Arts, Entertainment, and Recreation\n",
    "    18  : 'HEREMPN', # Accommodation and Food Services\n",
    "    19  : 'OTHEMPN', # Other Services (except Public Administration)\n",
    "    20  : 'OTHEMPN', # Public Administration\n",
    "    # 995 : NA,   # Missing Response\n",
    "    # 997 : NA,   # Other, please specify\n",
    "}\n",
    "\n",
    "bats_persons['empsix'] = bats_persons.industry.map(INDUSTRY_RECODE)\n",
    "print(\"After recoding 'industry':\")\n",
    "print(bats_persons['empsix'].value_counts(dropna=False))\n",
    "\n",
    "# try to resolve some of the remaining\n",
    "bats_persons.industry_other = bats_persons.industry_other.str.lower()\n",
    "bats_persons.industry_other = bats_persons.industry_other.str.strip()\n",
    "\n",
    "INDUSTRY_OTHER_TERM_RECODE = {\n",
    "    'technology'             : 'FPSEMPN',\n",
    "    'biotechnology'          : 'FPSEMPN',\n",
    "    'biotech'                : 'FPSEMPN',\n",
    "    'biomedical'             : 'FPSEMPN',\n",
    "    'tech'                   : 'FPSEMPN',\n",
    "    'software'               : 'FPSEMPN',\n",
    "    'security'               : 'FPSEMPN', # NAICS 561612\n",
    "    'government'             : 'OTHEMPN',\n",
    "    'judicial'               : 'OTHEMPN',\n",
    "    'national park service'  : 'OTHEMPN',\n",
    "    'law enforcement'        : 'OTHEMPN',\n",
    "    'military'               : 'OTHEMPN',\n",
    "    'library'                : 'OTHEMPN',\n",
    "    'automotive'             : 'MWTEMPN',\n",
    "    'nonprofit'              : 'HEREMPN',\n",
    "    'non-profit'             : 'HEREMPN',\n",
    "    'non profit'             : 'HEREMPN',\n",
    "    'philanthropy'           : 'HEREMPN',\n",
    "    'childcare'              : 'HEREMPN',\n",
    "    'health'                 : 'HEREMPN',\n",
    "    'fitness'                : 'HEREMPN',\n",
    "    'school'                 : 'HEREMPN',\n",
    "    'legal'                  : 'FPSEMPN',\n",
    "    'law'                    : 'FPSEMPN',\n",
    "    'attorney'               : 'FPSEMPN',\n",
    "    'marketing'              : 'FPSEMPN',\n",
    "    'hospitality'            : 'HEREMPN',\n",
    "    'hotel'                  : 'HEREMPN',\n",
    "    'e-commerce'             : 'RETEMPN',\n",
    "    'ecommerce'              : 'RETEMPN',\n",
    "}\n",
    "# if any of these words appear, apply it\n",
    "for term in INDUSTRY_OTHER_TERM_RECODE.keys():\n",
    "    bats_persons.loc[pd.isna(bats_persons.empsix) & \n",
    "                     (bats_persons.industry_other.str.find(term) >=0), 'empsix'] = INDUSTRY_OTHER_TERM_RECODE[term]\n",
    "\n",
    "# print(\"\\nindustry_other for NA empsix:\")\n",
    "# print(bats_persons.loc[pd.isna(bats_persons.empsix),'industry_other'].value_counts(dropna=False))\n",
    "\n",
    "print(\"\\nAfter recoding 'industry_other':\")\n",
    "print(bats_persons['empsix'].value_counts(dropna=False))\n",
    "\n",
    "# add dummies for empsix\n",
    "ind_dummies = pd.get_dummies(data=bats_persons.empsix, prefix=\"ind\")\n",
    "bats_persons = bats_persons.join(ind_dummies)"
   ]
  },
  {
   "cell_type": "markdown",
   "metadata": {},
   "source": [
    "### 1.3 Merge persons with households"
   ]
  },
  {
   "cell_type": "code",
   "execution_count": 7,
   "metadata": {},
   "outputs": [],
   "source": [
    "# Merge with households\n",
    "bats_persons = pd.merge(\n",
    "    left=bats_persons,\n",
    "    right=bats_hhlds,\n",
    "    on=['hh_id'],\n",
    "    how='left',\n",
    "    validate='many_to_one',\n",
    "    indicator=True\n",
    ")\n",
    "# verify all person records have household information\n",
    "assert all(bats_persons['_merge'] == 'both'), \"Not all values in _merge are 'both'\"\n",
    "bats_persons.drop(columns=['_merge'],inplace=True)\n",
    "# bats_persons.head()"
   ]
  },
  {
   "cell_type": "markdown",
   "metadata": {},
   "source": [
    "### 1.4 Filter out persons where work location == home location"
   ]
  },
  {
   "cell_type": "code",
   "execution_count": 8,
   "metadata": {},
   "outputs": [
    {
     "name": "stdout",
     "output_type": "stream",
     "text": [
      "bats_persons['work_loc_is_home_loc'].value_counts()=\n",
      "work_loc_is_home_loc\n",
      "False    5782\n",
      "True      200\n",
      "Name: count, dtype: int64\n",
      "\n",
      "Filtering to: work_loc_is_home_loc==False\n",
      " => 5,782 rows\n"
     ]
    }
   ],
   "source": [
    "# If work location == home location, they don't have a work location outside of the home\n",
    "# This isn't a modeled use case, so filter out\n",
    "bats_persons['work_loc_is_home_loc'] = False\n",
    "bats_persons.loc[(bats_persons.work_lon == bats_persons.home_lon) &\n",
    "                 (bats_persons.work_lat == bats_persons.home_lat),\n",
    "                 'work_loc_is_home_loc'] = True\n",
    "print(f\"bats_persons['work_loc_is_home_loc'].value_counts()=\\n{bats_persons['work_loc_is_home_loc'].value_counts()}\")\n",
    "\n",
    "print(\"\\nFiltering to: work_loc_is_home_loc==False\")\n",
    "bats_persons = bats_persons.loc[bats_persons.work_loc_is_home_loc==False]\n",
    "print(f\" => {len(bats_persons):,} rows\")\n"
   ]
  },
  {
   "cell_type": "markdown",
   "metadata": {},
   "source": [
    "#### 1.4.1 Attach TM1 TAZ for home location and work location"
   ]
  },
  {
   "cell_type": "code",
   "execution_count": 9,
   "metadata": {},
   "outputs": [
    {
     "name": "stdout",
     "output_type": "stream",
     "text": [
      "Read 1,454 rows from 'M:\\Data\\GIS layers\\TM1_taz\\bayarea_rtaz1454_rev1_WGS84.shp'\n",
      "EPSG:4326\n"
     ]
    },
    {
     "name": "stderr",
     "output_type": "stream",
     "text": [
      "c:\\Users\\lzorn\\.conda\\envs\\NetworkWrangler\\lib\\site-packages\\geopandas\\array.py:403: UserWarning: Geometry is in a geographic CRS. Results from 'sjoin_nearest' are likely incorrect. Use 'GeoSeries.to_crs()' to re-project geometries to a projected CRS before this operation.\n",
      "\n",
      "  warnings.warn(\n"
     ]
    },
    {
     "name": "stdout",
     "output_type": "stream",
     "text": [
      "Of 5,782 rows, 0 failed the TAZ spatial join for home\n"
     ]
    },
    {
     "name": "stderr",
     "output_type": "stream",
     "text": [
      "c:\\Users\\lzorn\\.conda\\envs\\NetworkWrangler\\lib\\site-packages\\geopandas\\array.py:403: UserWarning: Geometry is in a geographic CRS. Results from 'sjoin_nearest' are likely incorrect. Use 'GeoSeries.to_crs()' to re-project geometries to a projected CRS before this operation.\n",
      "\n",
      "  warnings.warn(\n"
     ]
    },
    {
     "name": "stdout",
     "output_type": "stream",
     "text": [
      "Of 5,782 rows, 0 failed the TAZ spatial join for work\n"
     ]
    }
   ],
   "source": [
    "TM1_SHAPEFILE = pathlib.Path(\"M:\\\\Data\\\\GIS layers\\\\TM1_taz\\\\bayarea_rtaz1454_rev1_WGS84.shp\")\n",
    "taz_shape_gdf = gpd.read_file(TM1_SHAPEFILE)\n",
    "print(f\"Read {len(taz_shape_gdf):,} rows from '{TM1_SHAPEFILE}'\")\n",
    "print(taz_shape_gdf.crs)\n",
    "\n",
    "# spatial join home and work locations with TAZ\n",
    "nrows = len(bats_persons)\n",
    "for loc in ['home','work']:\n",
    "    loc_geometry = [shapely.geometry.Point(xy) for xy in zip(bats_persons[f'{loc}_lon'],bats_persons[f'{loc}_lat'])]\n",
    "    bats_persons_gdf = gpd.GeoDataFrame(\n",
    "        data=bats_persons[['hh_id','person_id']], \n",
    "        geometry=loc_geometry,\n",
    "        crs='EPSG:4326')\n",
    "\n",
    "    assert(nrows == len(bats_persons_gdf))\n",
    "    bats_persons_gdf = gpd.sjoin_nearest(\n",
    "        bats_persons_gdf, \n",
    "        taz_shape_gdf, \n",
    "        how='left')\n",
    "    assert(nrows == len(bats_persons_gdf))\n",
    "\n",
    "    print(f\"Of {len(bats_persons_gdf):,} rows, {len(bats_persons_gdf.loc[pd.isna(bats_persons_gdf.TAZ1454)]):,}\" + \\\n",
    "      f\" failed the TAZ spatial join for {loc}\")\n",
    "\n",
    "    # add back to bats_persons\n",
    "    bats_persons_gdf.rename(columns={'TAZ1454':f'{loc}_TAZ1454'}, inplace=True)\n",
    "    bats_persons = pd.merge(\n",
    "        left=bats_persons,\n",
    "        right=bats_persons_gdf[['hh_id','person_id',f'{loc}_TAZ1454']],\n",
    "        how='left',\n",
    "        on=['hh_id','person_id']\n",
    "    )\n",
    "\n",
    "# note: I visually checked that this looks reasonable"
   ]
  },
  {
   "cell_type": "markdown",
   "metadata": {},
   "source": [
    "#### 1.4.2 Attach home-to-work distance based on TAZs\n",
    "\n",
    "`NONMOTSKM_DIST.csv` is an export of the distance skims generated by [NonMotorizedSkims.job](https://github.com/BayAreaMetro/travel-model-one/blob/master/model-files/scripts/skims/NonMotorizedSkims.job) for the model run `2023_TM161_IPA_07`, but this skim does not include any link restrictions so it should be shortest-link-path."
   ]
  },
  {
   "cell_type": "code",
   "execution_count": 10,
   "metadata": {},
   "outputs": [
    {
     "name": "stdout",
     "output_type": "stream",
     "text": [
      "Read 2,175,625 rows from 'M:\\Development\\Travel Model One\\Estimation\\WFH_BATS_2023\\NONMOTSKM_DIST.csv'\n"
     ]
    }
   ],
   "source": [
    "DIST_SKIM_FILE = WORKSPACE_DIR / \"NONMOTSKM_DIST.csv\"\n",
    "dist_skim_df = pd.read_csv(DIST_SKIM_FILE, header=None, names=[\"home_TAZ1454\",\"work_TAZ1454\",\"ones\",\"distance_home_to_work\"])\n",
    "print(f\"Read {len(dist_skim_df):,} rows from '{DIST_SKIM_FILE}'\")\n",
    "dist_skim_df.drop(columns=[\"ones\"], inplace=True)\n",
    "\n",
    "dist_skim_df.head()\n",
    "\n",
    "# join to bats_persons for home-to-work distance\n",
    "bats_persons = pd.merge(\n",
    "    left=bats_persons,\n",
    "    right=dist_skim_df,\n",
    "    how='left',\n",
    "    on=['home_TAZ1454','work_TAZ1454'],\n",
    "    indicator=True,\n",
    "    validate='many_to_one'\n",
    ")\n",
    "# verify all person records have household information\n",
    "assert all(bats_persons['_merge'] == 'both'), \"Not all values in _merge are 'both'\"\n",
    "bats_persons.drop(columns=['_merge'],inplace=True)\n",
    "\n",
    "# add ln_distance_home_to_work\n",
    "bats_persons['ln_distance_home_to_work'] = np.log(bats_persons.distance_home_to_work)"
   ]
  },
  {
   "cell_type": "markdown",
   "metadata": {},
   "source": [
    "### 1.5 Read day data and merge with persons/households\n",
    "Filter to Tuesdays, Wednesdays and Thursday"
   ]
  },
  {
   "cell_type": "code",
   "execution_count": 11,
   "metadata": {},
   "outputs": [
    {
     "name": "stdout",
     "output_type": "stream",
     "text": [
      "Read 89,112 rows from \"E:\\Box\\Modeling and Surveys\\Surveys\\Travel Diary Survey\\Biennial Travel Diary Survey\\MTC_RSG_Partner Repository\\5.Deliverables\\Task 10 - Final Weighted and Expanded Data Files\\WeightedDataset_09112024\\day.csv\"\n",
      "\n",
      "Filtering to: travel_dow is Tuesday, Wednesday or Thursday\n",
      " => 39,844 rows\n",
      "\n",
      "Merging with employed persons with work locations\n",
      " => 15,718 rows\n"
     ]
    },
    {
     "data": {
      "text/plain": [
       "Text(0, 0.5, 'Frequency')"
      ]
     },
     "execution_count": 11,
     "metadata": {},
     "output_type": "execute_result"
    },
    {
     "data": {
      "image/png": "[encoded data removed]",
      "text/plain": [
       "<Figure size 640x480 with 1 Axes>"
      ]
     },
     "metadata": {},
     "output_type": "display_data"
    }
   ],
   "source": [
    "# read day data for day of week and telecommute time spent\n",
    "bats_day = pd.read_csv(BATS_DATA_DIR / \"day.csv\")\n",
    "print(f\"Read {len(bats_day):,} rows from \\\"{BATS_DATA_DIR / 'day.csv'}\\\"\")\n",
    "\n",
    "# print(\"\\nbats_day.dtypes:\")\n",
    "# print(bats_day.dtypes)\n",
    "\n",
    "# select relevant variables\n",
    "bats_day = bats_day[[\n",
    "    'hh_id','person_id','day_num',\n",
    "    'travel_date','travel_dow',\n",
    "    'telecommute_time']]\n",
    "\n",
    "print(\"\\nFiltering to: travel_dow is Tuesday, Wednesday or Thursday\")\n",
    "bats_day = bats_day.loc[bats_day.travel_dow.isin([2,3,4])]\n",
    "print(f\" => {len(bats_day):,} rows\")\n",
    "\n",
    "# This didn't do anything; holidays were already excluded\n",
    "# import holidays\n",
    "# print(\"\\nFiltering to exclude holidays.US()\")\n",
    "# bats_day = bats_day.loc[~bats_day.travel_date.isin(holidays.US())]\n",
    "# print(f\" => {len(bats_day):,} rows\")\n",
    "\n",
    "print(\"\\nMerging with employed persons with work locations\")\n",
    "bats_day = pd.merge(\n",
    "    left=bats_day,\n",
    "    right=bats_persons,\n",
    "    on=['person_id','hh_id'],\n",
    "    how='right', # keep only days for employed persons with work locations\n",
    "    validate='many_to_one',\n",
    "    indicator=True\n",
    ")\n",
    "# verify all day records have persons/household information\n",
    "assert all(bats_day['_merge'] == 'both'), \"Not all values in _merge are 'both'\"\n",
    "bats_day.drop(columns=['_merge'],inplace=True)\n",
    "print(f\" => {len(bats_day):,} rows\")\n",
    "\n",
    "# Plot telecommute_time distribution\n",
    "plt.hist(bats_day.telecommute_time.loc[bats_day.telecommute_time>0], \n",
    "         bins=list(range(0,660,30)),\n",
    "         edgecolor='black')\n",
    "plt.title('telecommute_time by day (for Tues,Wed,Thurs)\\nfor employed persons with work locations in the region')\n",
    "plt.xlabel('telecommute_time (in minutes)')\n",
    "plt.xticks(list(range(0,660,60)))\n",
    "plt.ylabel('Frequency')"
   ]
  },
  {
   "cell_type": "markdown",
   "metadata": {},
   "source": [
    "### 1.6 Read trips data and filter to complete days\n",
    "Summarize to the day level and flag if work trip was made"
   ]
  },
  {
   "cell_type": "code",
   "execution_count": 12,
   "metadata": {},
   "outputs": [
    {
     "name": "stdout",
     "output_type": "stream",
     "text": [
      "Read 365,831 rows from \"E:\\Box\\Modeling and Surveys\\Surveys\\Travel Diary Survey\\Biennial Travel Diary Survey\\MTC_RSG_Partner Repository\\5.Deliverables\\Task 10 - Final Weighted and Expanded Data Files\\WeightedDataset_09112024\\trip.csv\"\n",
      "\n",
      "Filtering to day_is_complete==1\n",
      " => 335,713 rows\n",
      "\n",
      "made_work_trip tabulation:\n",
      "made_work_trip\n",
      "0    51207\n",
      "1    11884\n",
      "Name: count, dtype: int64\n",
      "\n",
      "bats_trip.dtypes:\n",
      "hh_id             int64\n",
      "person_id         int64\n",
      "day_num           int64\n",
      "num_trips         int64\n",
      "made_work_trip    int64\n",
      "dtype: object\n"
     ]
    }
   ],
   "source": [
    "# read day data for day of week and telecommute time spent\n",
    "bats_trip = pd.read_csv(BATS_DATA_DIR / \"trip.csv\")\n",
    "print(f\"Read {len(bats_trip):,} rows from \\\"{BATS_DATA_DIR / 'trip.csv'}\\\"\")\n",
    "\n",
    "# print(\"\\nbats_trip.dtypes:\")\n",
    "# print(bats_trip.dtypes)\n",
    "\n",
    "# select relevant variables\n",
    "bats_trip = bats_trip[[\n",
    "    'hh_id','person_id','day_num','trip_id',\n",
    "    'd_purpose_category','day_is_complete']]\n",
    "\n",
    "# filter to day_is_complete==1\n",
    "print(\"\\nFiltering to day_is_complete==1\")\n",
    "bats_trip = bats_trip.loc[bats_trip.day_is_complete==1]\n",
    "print(f\" => {len(bats_trip):,} rows\")\n",
    "\n",
    "# create dummy for work trip based on d_purpose_category\n",
    "bats_trip['made_work_trip'] = 0\n",
    "bats_trip.loc[bats_trip.d_purpose_category==2, 'made_work_trip'] = 1\n",
    "\n",
    "# summarize to household/person/day to count work trips and total trips\n",
    "bats_trip = bats_trip.groupby(by=['hh_id','person_id','day_num']).agg(\n",
    "    num_trips      = pd.NamedAgg(column='trip_id', aggfunc='count'),\n",
    "    made_work_trip = pd.NamedAgg(column='made_work_trip', aggfunc='max')\n",
    ").reset_index(drop=False)\n",
    "\n",
    "print(\"\\nmade_work_trip tabulation:\")\n",
    "print(bats_trip['made_work_trip'].value_counts())\n",
    "\n",
    "print(\"\\nbats_trip.dtypes:\")\n",
    "print(bats_trip.dtypes)"
   ]
  },
  {
   "cell_type": "markdown",
   "metadata": {},
   "source": [
    "### 1.7 Join trips information to day dataset"
   ]
  },
  {
   "cell_type": "code",
   "execution_count": 13,
   "metadata": {},
   "outputs": [
    {
     "name": "stdout",
     "output_type": "stream",
     "text": [
      "After merging with trips data (which removes days which are not complete), bats_day has 13,767 rows\n"
     ]
    }
   ],
   "source": [
    "# Here, we want an inner join because we only want employed persons with work locations\n",
    "# But we also only want days where the day_is_complete\n",
    "bats_day = pd.merge(\n",
    "    left=bats_day,\n",
    "    right=bats_trip,\n",
    "    on=['hh_id','person_id','day_num'],\n",
    "    how='inner',\n",
    "    validate='one_to_one'\n",
    ")\n",
    "print(f\"After merging with trips data (which removes days which are not complete), bats_day has {len(bats_day):,} rows\")"
   ]
  },
  {
   "cell_type": "markdown",
   "metadata": {},
   "source": [
    "### 1.8 Handle days where a person WFH *and* goes to work"
   ]
  },
  {
   "cell_type": "code",
   "execution_count": 14,
   "metadata": {},
   "outputs": [
    {
     "name": "stdout",
     "output_type": "stream",
     "text": [
      "\n",
      "Filtering to (telecommute > 0) OR (made_work_trip==1)\n",
      " => 11,096 rows\n"
     ]
    },
    {
     "data": {
      "image/png": "[encoded data removed]",
      "text/plain": [
       "<Figure size 640x480 with 1 Axes>"
      ]
     },
     "metadata": {},
     "output_type": "display_data"
    },
    {
     "name": "stdout",
     "output_type": "stream",
     "text": [
      "\n",
      "wfh vs goes to work:\n",
      "wfh  made_work_trip\n",
      "0    1                 4480\n",
      "1    0                 3888\n",
      "     1                 2728\n",
      "Name: count, dtype: int64\n",
      "\n",
      "Filtering out wfh==1 AND made_work_trip==1\n",
      "wfh vs goes to work:\n",
      "wfh  made_work_trip\n",
      "0    1                 4480\n",
      "1    0                 3888\n",
      "Name: count, dtype: int64\n"
     ]
    },
    {
     "data": {
      "image/png": "[encoded data removed]",
      "text/plain": [
       "<Figure size 640x480 with 1 Axes>"
      ]
     },
     "metadata": {},
     "output_type": "display_data"
    }
   ],
   "source": [
    "bats_day.head()\n",
    "# remove days where the person neither went to work nor telecommuted\n",
    "# TODO: I'm requiring telecommute_minutes >= 60 to count as working\n",
    "MIN_WORK_TIME = 60\n",
    "\n",
    "print(\"\\nFiltering to (telecommute > 0) OR (made_work_trip==1)\")\n",
    "bats_day = bats_day.loc[(bats_day.telecommute_time >= MIN_WORK_TIME)|(bats_day.made_work_trip==1)]\n",
    "print(f\" => {len(bats_day):,} rows\")\n",
    "\n",
    "# Plot telecommute_time distribution by made_work_trip\n",
    "plt.hist([bats_day.loc[bats_day.made_work_trip==1]['telecommute_time'], \n",
    "          bats_day.loc[bats_day.made_work_trip==0]['telecommute_time']],\n",
    "         bins=list(range(0,660,30)),\n",
    "         color=['blue','green'],\n",
    "         label=['made work trip','made no work trip'],\n",
    "         edgecolor='black')\n",
    "plt.title('telecommute_time by day (for Tues,Wed,Thurs)\\nfor employed persons with work locations in the region')\n",
    "plt.xlabel('telecommute_time (in minutes)')\n",
    "plt.xticks(list(range(0,660,60)))\n",
    "plt.ylabel('Frequency')\n",
    "plt.legend()\n",
    "plt.show()\n",
    "\n",
    "bats_day['wfh'] = 0\n",
    "bats_day.loc[bats_day.telecommute_time > 0, 'wfh'] = 1\n",
    "print(f\"\\nwfh vs goes to work:\\n{bats_day[['wfh','made_work_trip']].value_counts(dropna=False)}\")\n",
    "\n",
    "\n",
    "#######################\n",
    "\n",
    "# The travel model doesn't currently really represent people who make work trips *and* WFH within the same day\n",
    "# Hence the forumlation of this as binary choice model.\n",
    "# two options: \n",
    "#  1) if they go to work, then they didn't WFH (even if they did both)\n",
    "#  2) if they go to work and WFH then drop the record\n",
    "# TODO: For now, I'll drop the records to strive for a stronger signal\n",
    "bats_day = bats_day.loc[bats_day.wfh + bats_day.made_work_trip == 1]\n",
    "print(\"\\nFiltering out wfh==1 AND made_work_trip==1\")\n",
    "print(f\"wfh vs goes to work:\\n{bats_day[['wfh','made_work_trip']].value_counts(dropna=False)}\")\n",
    "\n",
    "# Plot telecommute_time distribution by made_work_trip\n",
    "plt.hist([bats_day.loc[bats_day.made_work_trip==1]['telecommute_time'], \n",
    "          bats_day.loc[bats_day.made_work_trip==0]['telecommute_time']],\n",
    "         bins=list(range(0,660,30)),\n",
    "         color=['blue','green'],\n",
    "         label=['made work trip','made no work trip'],\n",
    "         edgecolor='black')\n",
    "plt.title('telecommute_time by day (for Tues,Wed,Thurs)\\nfor employed persons with work locations in the region')\n",
    "plt.xlabel('telecommute_time (in minutes)')\n",
    "plt.xticks(list(range(0,660,60)))\n",
    "plt.ylabel('Frequency')\n",
    "plt.legend()\n",
    "plt.show()\n"
   ]
  },
  {
   "cell_type": "markdown",
   "metadata": {},
   "source": [
    "### 1.9 Save estimation data"
   ]
  },
  {
   "cell_type": "code",
   "execution_count": 15,
   "metadata": {},
   "outputs": [
    {
     "name": "stdout",
     "output_type": "stream",
     "text": [
      "Wrote 8,368 rows to M:\\Development\\Travel Model One\\Estimation\\WFH_BATS_2023\\bats_day.csv\n"
     ]
    }
   ],
   "source": [
    "ESTIMATION_FILE = WORKSPACE_DIR / \"bats_day.csv\"\n",
    "bats_day.to_csv(ESTIMATION_FILE, index=False)\n",
    "print(f\"Wrote {len(bats_day):,} rows to {ESTIMATION_FILE}\")"
   ]
  },
  {
   "cell_type": "markdown",
   "metadata": {},
   "source": [
    "## 2. Estimate some models\n",
    "### 2.1 Constant only"
   ]
  },
  {
   "cell_type": "code",
   "execution_count": 16,
   "metadata": {},
   "outputs": [
    {
     "name": "stdout",
     "output_type": "stream",
     "text": [
      "Optimization terminated successfully.\n",
      "         Current function value: 0.690643\n",
      "         Iterations 3\n",
      "                          MNLogit Regression Results                          \n",
      "==============================================================================\n",
      "Dep. Variable:                    wfh   No. Observations:                 8368\n",
      "Model:                        MNLogit   Df Residuals:                     8367\n",
      "Method:                           MLE   Df Model:                            0\n",
      "Date:                Sun, 27 Oct 2024   Pseudo R-squ.:               8.590e-11\n",
      "Time:                        15:50:02   Log-Likelihood:                -5779.3\n",
      "converged:                       True   LL-Null:                       -5779.3\n",
      "Covariance Type:            nonrobust   LLR p-value:                       nan\n",
      "==============================================================================\n",
      "     wfh=1       coef    std err          z      P>|z|      [0.025      0.975]\n",
      "------------------------------------------------------------------------------\n",
      "Intercept     -0.1417      0.022     -6.466      0.000      -0.185      -0.099\n",
      "==============================================================================\n"
     ]
    }
   ],
   "source": [
    "# constants only model\n",
    "constant_formula = 'wfh ~ 1'\n",
    "mod = smf.mnlogit(formula=constant_formula, data=bats_day)\n",
    "res = mod.fit()\n",
    "print(res.summary())"
   ]
  },
  {
   "cell_type": "markdown",
   "metadata": {},
   "source": [
    "### 2.2 Add distance term"
   ]
  },
  {
   "cell_type": "code",
   "execution_count": 17,
   "metadata": {},
   "outputs": [
    {
     "name": "stdout",
     "output_type": "stream",
     "text": [
      "Optimization terminated successfully.\n",
      "         Current function value: 0.680540\n",
      "         Iterations 4\n",
      "                          MNLogit Regression Results                          \n",
      "==============================================================================\n",
      "Dep. Variable:                    wfh   No. Observations:                 8368\n",
      "Model:                        MNLogit   Df Residuals:                     8366\n",
      "Method:                           MLE   Df Model:                            1\n",
      "Date:                Sun, 27 Oct 2024   Pseudo R-squ.:                 0.01463\n",
      "Time:                        15:50:02   Log-Likelihood:                -5694.8\n",
      "converged:                       True   LL-Null:                       -5779.3\n",
      "Covariance Type:            nonrobust   LLR p-value:                 1.179e-38\n",
      "=========================================================================================\n",
      "                wfh=1       coef    std err          z      P>|z|      [0.025      0.975]\n",
      "-----------------------------------------------------------------------------------------\n",
      "Intercept                -0.4467      0.032    -13.770      0.000      -0.510      -0.383\n",
      "distance_home_to_work     0.0242      0.002     12.771      0.000       0.020       0.028\n",
      "=========================================================================================\n",
      "Optimization terminated successfully.\n",
      "         Current function value: 0.684874\n",
      "         Iterations 4\n",
      "                          MNLogit Regression Results                          \n",
      "==============================================================================\n",
      "Dep. Variable:                    wfh   No. Observations:                 8368\n",
      "Model:                        MNLogit   Df Residuals:                     8366\n",
      "Method:                           MLE   Df Model:                            1\n",
      "Date:                Sun, 27 Oct 2024   Pseudo R-squ.:                0.008353\n",
      "Time:                        15:50:02   Log-Likelihood:                -5731.0\n",
      "converged:                       True   LL-Null:                       -5779.3\n",
      "Covariance Type:            nonrobust   LLR p-value:                 8.720e-23\n",
      "============================================================================================\n",
      "                   wfh=1       coef    std err          z      P>|z|      [0.025      0.975]\n",
      "--------------------------------------------------------------------------------------------\n",
      "Intercept                   -0.5228      0.045    -11.580      0.000      -0.611      -0.434\n",
      "ln_distance_home_to_work     0.1892      0.019      9.735      0.000       0.151       0.227\n",
      "============================================================================================\n"
     ]
    }
   ],
   "source": [
    "# add distance term\n",
    "distance_formula = constant_formula + ' + distance_home_to_work'\n",
    "mod = smf.mnlogit(formula=distance_formula, data=bats_day)\n",
    "res = mod.fit()\n",
    "print(res.summary())\n",
    "\n",
    "distance_ln_formula = constant_formula + ' + ln_distance_home_to_work'\n",
    "mod = smf.mnlogit(formula=distance_ln_formula, data=bats_day)\n",
    "res = mod.fit()\n",
    "print(res.summary())"
   ]
  },
  {
   "cell_type": "markdown",
   "metadata": {},
   "source": [
    "### 2.2 Add income"
   ]
  },
  {
   "cell_type": "code",
   "execution_count": 18,
   "metadata": {},
   "outputs": [
    {
     "name": "stdout",
     "output_type": "stream",
     "text": [
      "Optimization terminated successfully.\n",
      "         Current function value: 0.664448\n",
      "         Iterations 15\n",
      "                          MNLogit Regression Results                          \n",
      "==============================================================================\n",
      "Dep. Variable:                    wfh   No. Observations:                 8368\n",
      "Model:                        MNLogit   Df Residuals:                     8360\n",
      "Method:                           MLE   Df Model:                            7\n",
      "Date:                Sun, 27 Oct 2024   Pseudo R-squ.:                 0.03793\n",
      "Time:                        15:50:03   Log-Likelihood:                -5560.1\n",
      "converged:                       True   LL-Null:                       -5779.3\n",
      "Covariance Type:            nonrobust   LLR p-value:                 1.374e-90\n",
      "===========================================================================================\n",
      "                  wfh=1       coef    std err          z      P>|z|      [0.025      0.975]\n",
      "-------------------------------------------------------------------------------------------\n",
      "Intercept                  -0.6260   3.71e+06  -1.69e-07      1.000   -7.28e+06    7.28e+06\n",
      "hhinc_000to025k[T.True]    -0.3426   3.71e+06  -9.23e-08      1.000   -7.28e+06    7.28e+06\n",
      "hhinc_025to050k[T.True]    -0.4388   3.71e+06  -1.18e-07      1.000   -7.28e+06    7.28e+06\n",
      "hhinc_050to075k[T.True]    -0.4666   3.71e+06  -1.26e-07      1.000   -7.28e+06    7.28e+06\n",
      "hhinc_075to100k[T.True]    -0.1810   3.71e+06  -4.88e-08      1.000   -7.28e+06    7.28e+06\n",
      "hhinc_100to200k[T.True]     0.1828   3.71e+06   4.92e-08      1.000   -7.28e+06    7.28e+06\n",
      "hhinc_200plusk[T.True]      0.6202   3.71e+06   1.67e-07      1.000   -7.28e+06    7.28e+06\n",
      "distance_home_to_work       0.0194      0.002     10.048      0.000       0.016       0.023\n",
      "===========================================================================================\n",
      "Optimization terminated successfully.\n",
      "         Current function value: 0.665713\n",
      "         Iterations 4\n",
      "                          MNLogit Regression Results                          \n",
      "==============================================================================\n",
      "Dep. Variable:                    wfh   No. Observations:                 8368\n",
      "Model:                        MNLogit   Df Residuals:                     8365\n",
      "Method:                           MLE   Df Model:                            2\n",
      "Date:                Sun, 27 Oct 2024   Pseudo R-squ.:                 0.03610\n",
      "Time:                        15:50:03   Log-Likelihood:                -5570.7\n",
      "converged:                       True   LL-Null:                       -5779.3\n",
      "Covariance Type:            nonrobust   LLR p-value:                 2.520e-91\n",
      "==========================================================================================\n",
      "                 wfh=1       coef    std err          z      P>|z|      [0.025      0.975]\n",
      "------------------------------------------------------------------------------------------\n",
      "Intercept                 -1.0398      0.051    -20.453      0.000      -1.139      -0.940\n",
      "distance_home_to_work      0.0199      0.002     10.354      0.000       0.016       0.024\n",
      "income_imputed_nominal  3.319e-06   2.13e-07     15.603      0.000     2.9e-06    3.74e-06\n",
      "==========================================================================================\n",
      "Optimization terminated successfully.\n",
      "         Current function value: 0.666495\n",
      "         Iterations 5\n",
      "                          MNLogit Regression Results                          \n",
      "==============================================================================\n",
      "Dep. Variable:                    wfh   No. Observations:                 8368\n",
      "Model:                        MNLogit   Df Residuals:                     8365\n",
      "Method:                           MLE   Df Model:                            2\n",
      "Date:                Sun, 27 Oct 2024   Pseudo R-squ.:                 0.03496\n",
      "Time:                        15:50:03   Log-Likelihood:                -5577.2\n",
      "converged:                       True   LL-Null:                       -5779.3\n",
      "Covariance Type:            nonrobust   LLR p-value:                 1.758e-88\n",
      "=============================================================================================\n",
      "                    wfh=1       coef    std err          z      P>|z|      [0.025      0.975]\n",
      "---------------------------------------------------------------------------------------------\n",
      "Intercept                    -6.0051      0.379    -15.837      0.000      -6.748      -5.262\n",
      "distance_home_to_work         0.0198      0.002     10.288      0.000       0.016       0.024\n",
      "ln_income_imputed_nominal     0.4689      0.032     14.769      0.000       0.407       0.531\n",
      "=============================================================================================\n"
     ]
    }
   ],
   "source": [
    "income_cat_formula = distance_formula + ' + hhinc_000to025k + hhinc_025to050k + hhinc_050to075k + hhinc_075to100k + hhinc_100to200k + hhinc_200plusk'\n",
    "mod = smf.mnlogit(formula=income_cat_formula, data=bats_day)\n",
    "res = mod.fit()\n",
    "print(res.summary())\n",
    "\n",
    "income_nominal_formula = distance_formula + ' + income_imputed_nominal'\n",
    "mod = smf.mnlogit(formula=income_nominal_formula, data=bats_day)\n",
    "res = mod.fit()\n",
    "print(res.summary())\n",
    "\n",
    "income_ln_nominal_formula = distance_formula + ' + ln_income_imputed_nominal'\n",
    "mod = smf.mnlogit(formula=income_ln_nominal_formula, data=bats_day)\n",
    "res = mod.fit()\n",
    "print(res.summary())"
   ]
  },
  {
   "cell_type": "markdown",
   "metadata": {},
   "source": [
    "### 2.3 Add industry as dummy variables"
   ]
  },
  {
   "cell_type": "code",
   "execution_count": 19,
   "metadata": {},
   "outputs": [
    {
     "name": "stdout",
     "output_type": "stream",
     "text": [
      "Optimization terminated successfully.\n",
      "         Current function value: 0.651461\n",
      "         Iterations 5\n",
      "                          MNLogit Regression Results                          \n",
      "==============================================================================\n",
      "Dep. Variable:                    wfh   No. Observations:                 8368\n",
      "Model:                        MNLogit   Df Residuals:                     8359\n",
      "Method:                           MLE   Df Model:                            8\n",
      "Date:                Sun, 27 Oct 2024   Pseudo R-squ.:                 0.05673\n",
      "Time:                        15:50:03   Log-Likelihood:                -5451.4\n",
      "converged:                       True   LL-Null:                       -5779.3\n",
      "Covariance Type:            nonrobust   LLR p-value:                2.407e-136\n",
      "==========================================================================================\n",
      "                 wfh=1       coef    std err          z      P>|z|      [0.025      0.975]\n",
      "------------------------------------------------------------------------------------------\n",
      "Intercept                 -1.0550      0.114     -9.266      0.000      -1.278      -0.832\n",
      "ind_AGREMPN[T.True]       -0.8838      0.331     -2.669      0.008      -1.533      -0.235\n",
      "ind_FPSEMPN[T.True]        0.4873      0.114      4.266      0.000       0.263       0.711\n",
      "ind_HEREMPN[T.True]       -0.2178      0.113     -1.925      0.054      -0.440       0.004\n",
      "ind_MWTEMPN[T.True]       -0.0600      0.126     -0.475      0.635      -0.308       0.188\n",
      "ind_OTHEMPN[T.True]        0.5476      0.117      4.661      0.000       0.317       0.778\n",
      "ind_RETEMPN[T.True]       -0.3287      0.170     -1.932      0.053      -0.662       0.005\n",
      "distance_home_to_work      0.0188      0.002      9.557      0.000       0.015       0.023\n",
      "income_imputed_nominal  2.671e-06    2.2e-07     12.152      0.000    2.24e-06     3.1e-06\n",
      "==========================================================================================\n",
      "Optimization terminated successfully.\n",
      "         Current function value: 0.652029\n",
      "         Iterations 5\n",
      "                          MNLogit Regression Results                          \n",
      "==============================================================================\n",
      "Dep. Variable:                    wfh   No. Observations:                 8368\n",
      "Model:                        MNLogit   Df Residuals:                     8359\n",
      "Method:                           MLE   Df Model:                            8\n",
      "Date:                Sun, 27 Oct 2024   Pseudo R-squ.:                 0.05591\n",
      "Time:                        15:50:03   Log-Likelihood:                -5456.2\n",
      "converged:                       True   LL-Null:                       -5779.3\n",
      "Covariance Type:            nonrobust   LLR p-value:                2.662e-134\n",
      "=============================================================================================\n",
      "                    wfh=1       coef    std err          z      P>|z|      [0.025      0.975]\n",
      "---------------------------------------------------------------------------------------------\n",
      "Intercept                    -5.0028      0.395    -12.676      0.000      -5.776      -4.229\n",
      "ind_AGREMPN[T.True]          -0.9070      0.331     -2.738      0.006      -1.556      -0.258\n",
      "ind_FPSEMPN[T.True]           0.4915      0.114      4.294      0.000       0.267       0.716\n",
      "ind_HEREMPN[T.True]          -0.2237      0.113     -1.972      0.049      -0.446      -0.001\n",
      "ind_MWTEMPN[T.True]          -0.0717      0.127     -0.567      0.571      -0.320       0.176\n",
      "ind_OTHEMPN[T.True]           0.5384      0.118      4.571      0.000       0.308       0.769\n",
      "ind_RETEMPN[T.True]          -0.3245      0.171     -1.903      0.057      -0.659       0.010\n",
      "distance_home_to_work         0.0187      0.002      9.523      0.000       0.015       0.023\n",
      "ln_income_imputed_nominal     0.3737      0.032     11.518      0.000       0.310       0.437\n",
      "=============================================================================================\n",
      "Optimization terminated successfully.\n",
      "         Current function value: 0.654641\n",
      "         Iterations 5\n",
      "                          MNLogit Regression Results                          \n",
      "==============================================================================\n",
      "Dep. Variable:                    wfh   No. Observations:                 8368\n",
      "Model:                        MNLogit   Df Residuals:                     8359\n",
      "Method:                           MLE   Df Model:                            8\n",
      "Date:                Sun, 27 Oct 2024   Pseudo R-squ.:                 0.05213\n",
      "Time:                        15:50:03   Log-Likelihood:                -5478.0\n",
      "converged:                       True   LL-Null:                       -5779.3\n",
      "Covariance Type:            nonrobust   LLR p-value:                6.713e-125\n",
      "============================================================================================\n",
      "                   wfh=1       coef    std err          z      P>|z|      [0.025      0.975]\n",
      "--------------------------------------------------------------------------------------------\n",
      "Intercept                   -1.0923      0.118     -9.260      0.000      -1.323      -0.861\n",
      "ind_AGREMPN[T.True]         -0.7952      0.328     -2.424      0.015      -1.438      -0.152\n",
      "ind_FPSEMPN[T.True]          0.5012      0.114      4.399      0.000       0.278       0.724\n",
      "ind_HEREMPN[T.True]         -0.2245      0.113     -1.988      0.047      -0.446      -0.003\n",
      "ind_MWTEMPN[T.True]         -0.0486      0.126     -0.386      0.700      -0.295       0.198\n",
      "ind_OTHEMPN[T.True]          0.5534      0.117      4.723      0.000       0.324       0.783\n",
      "ind_RETEMPN[T.True]         -0.3220      0.169     -1.901      0.057      -0.654       0.010\n",
      "ln_distance_home_to_work     0.1282      0.020      6.306      0.000       0.088       0.168\n",
      "income_imputed_nominal    2.729e-06    2.2e-07     12.415      0.000     2.3e-06    3.16e-06\n",
      "============================================================================================\n",
      "Optimization terminated successfully.\n",
      "         Current function value: 0.655178\n",
      "         Iterations 5\n",
      "                          MNLogit Regression Results                          \n",
      "==============================================================================\n",
      "Dep. Variable:                    wfh   No. Observations:                 8368\n",
      "Model:                        MNLogit   Df Residuals:                     8359\n",
      "Method:                           MLE   Df Model:                            8\n",
      "Date:                Sun, 27 Oct 2024   Pseudo R-squ.:                 0.05135\n",
      "Time:                        15:50:03   Log-Likelihood:                -5482.5\n",
      "converged:                       True   LL-Null:                       -5779.3\n",
      "Covariance Type:            nonrobust   LLR p-value:                5.761e-123\n",
      "=============================================================================================\n",
      "                    wfh=1       coef    std err          z      P>|z|      [0.025      0.975]\n",
      "---------------------------------------------------------------------------------------------\n",
      "Intercept                    -5.1441      0.393    -13.073      0.000      -5.915      -4.373\n",
      "ind_AGREMPN[T.True]          -0.8177      0.328     -2.493      0.013      -1.461      -0.175\n",
      "ind_FPSEMPN[T.True]           0.5048      0.114      4.422      0.000       0.281       0.729\n",
      "ind_HEREMPN[T.True]          -0.2308      0.113     -2.039      0.041      -0.453      -0.009\n",
      "ind_MWTEMPN[T.True]          -0.0609      0.126     -0.483      0.629      -0.308       0.186\n",
      "ind_OTHEMPN[T.True]           0.5432      0.117      4.625      0.000       0.313       0.773\n",
      "ind_RETEMPN[T.True]          -0.3172      0.170     -1.868      0.062      -0.650       0.016\n",
      "ln_distance_home_to_work      0.1280      0.020      6.298      0.000       0.088       0.168\n",
      "ln_income_imputed_nominal     0.3833      0.032     11.800      0.000       0.320       0.447\n",
      "=============================================================================================\n"
     ]
    }
   ],
   "source": [
    "for distance in ['linear','ln']:\n",
    "    for hhinc in ['linear','ln']:\n",
    "        my_formula = constant_formula + ' + ind_AGREMPN + ind_FPSEMPN + ind_HEREMPN + ind_MWTEMPN + ind_OTHEMPN + ind_RETEMPN'\n",
    "        my_formula += ' + distance_home_to_work'  if distance == 'linear' else ' + ln_distance_home_to_work'\n",
    "        my_formula += ' + income_imputed_nominal' if hhinc == 'linear'    else ' + ln_income_imputed_nominal'\n",
    "        try:\n",
    "            mod = smf.mnlogit(formula=my_formula, data=bats_day)\n",
    "            res = mod.fit()\n",
    "            print(res.summary())\n",
    "        except Exception as inst:\n",
    "            print(f\"Exception caught: {inst}\")\n"
   ]
  },
  {
   "cell_type": "markdown",
   "metadata": {},
   "source": [
    "### 2.4 Segment by industry"
   ]
  },
  {
   "cell_type": "code",
   "execution_count": 21,
   "metadata": {},
   "outputs": [
    {
     "name": "stdout",
     "output_type": "stream",
     "text": [
      "['AGREMPN', 'FPSEMPN', 'HEREMPN', 'MWTEMPN', 'OTHEMPN', 'RETEMPN']\n",
      "--------------------- Industry segment AGREMPN -----------------------------------------------------------------\n",
      "Optimization terminated successfully.\n",
      "         Current function value: 0.555230\n",
      "         Iterations 5\n",
      "                          MNLogit Regression Results                          \n",
      "==============================================================================\n",
      "Dep. Variable:                    wfh   No. Observations:                   57\n",
      "Model:                        MNLogit   Df Residuals:                       54\n",
      "Method:                           MLE   Df Model:                            2\n",
      "Date:                Sun, 27 Oct 2024   Pseudo R-squ.:                0.004009\n",
      "Time:                        15:53:29   Log-Likelihood:                -31.648\n",
      "converged:                       True   LL-Null:                       -31.776\n",
      "Covariance Type:            nonrobust   LLR p-value:                    0.8804\n",
      "=============================================================================================\n",
      "                    wfh=1       coef    std err          z      P>|z|      [0.025      0.975]\n",
      "---------------------------------------------------------------------------------------------\n",
      "Intercept                    -0.7044      4.861     -0.145      0.885     -10.232       8.823\n",
      "distance_home_to_work        -0.0092      0.019     -0.480      0.631      -0.047       0.028\n",
      "ln_income_imputed_nominal    -0.0214      0.417     -0.051      0.959      -0.839       0.796\n",
      "=============================================================================================\n",
      "Optimization terminated successfully.\n",
      "         Current function value: 0.555969\n",
      "         Iterations 5\n",
      "                          MNLogit Regression Results                          \n",
      "==============================================================================\n",
      "Dep. Variable:                    wfh   No. Observations:                   57\n",
      "Model:                        MNLogit   Df Residuals:                       54\n",
      "Method:                           MLE   Df Model:                            2\n",
      "Date:                Sun, 27 Oct 2024   Pseudo R-squ.:                0.002685\n",
      "Time:                        15:53:29   Log-Likelihood:                -31.690\n",
      "converged:                       True   LL-Null:                       -31.776\n",
      "Covariance Type:            nonrobust   LLR p-value:                    0.9182\n",
      "=============================================================================================\n",
      "                    wfh=1       coef    std err          z      P>|z|      [0.025      0.975]\n",
      "---------------------------------------------------------------------------------------------\n",
      "Intercept                    -0.4210      4.886     -0.086      0.931      -9.998       9.156\n",
      "ln_distance_home_to_work     -0.1134      0.286     -0.396      0.692      -0.674       0.448\n",
      "ln_income_imputed_nominal    -0.0363      0.416     -0.087      0.930      -0.853       0.780\n",
      "=============================================================================================\n",
      "--------------------- Industry segment FPSEMPN -----------------------------------------------------------------\n",
      "Optimization terminated successfully.\n",
      "         Current function value: 0.670394\n",
      "         Iterations 5\n",
      "                          MNLogit Regression Results                          \n",
      "==============================================================================\n",
      "Dep. Variable:                    wfh   No. Observations:                 2347\n",
      "Model:                        MNLogit   Df Residuals:                     2344\n",
      "Method:                           MLE   Df Model:                            2\n",
      "Date:                Sun, 27 Oct 2024   Pseudo R-squ.:                 0.02005\n",
      "Time:                        15:53:29   Log-Likelihood:                -1573.4\n",
      "converged:                       True   LL-Null:                       -1605.6\n",
      "Covariance Type:            nonrobust   LLR p-value:                 1.039e-14\n",
      "=============================================================================================\n",
      "                    wfh=1       coef    std err          z      P>|z|      [0.025      0.975]\n",
      "---------------------------------------------------------------------------------------------\n",
      "Intercept                    -4.0373      0.733     -5.505      0.000      -5.475      -2.600\n",
      "distance_home_to_work         0.0167      0.003      4.903      0.000       0.010       0.023\n",
      "ln_income_imputed_nominal     0.3367      0.061      5.542      0.000       0.218       0.456\n",
      "=============================================================================================\n",
      "Optimization terminated successfully.\n",
      "         Current function value: 0.672314\n",
      "         Iterations 4\n",
      "                          MNLogit Regression Results                          \n",
      "==============================================================================\n",
      "Dep. Variable:                    wfh   No. Observations:                 2347\n",
      "Model:                        MNLogit   Df Residuals:                     2344\n",
      "Method:                           MLE   Df Model:                            2\n",
      "Date:                Sun, 27 Oct 2024   Pseudo R-squ.:                 0.01725\n",
      "Time:                        15:53:29   Log-Likelihood:                -1577.9\n",
      "converged:                       True   LL-Null:                       -1605.6\n",
      "Covariance Type:            nonrobust   LLR p-value:                 9.408e-13\n",
      "=============================================================================================\n",
      "                    wfh=1       coef    std err          z      P>|z|      [0.025      0.975]\n",
      "---------------------------------------------------------------------------------------------\n",
      "Intercept                    -4.0671      0.732     -5.552      0.000      -5.503      -2.631\n",
      "ln_distance_home_to_work      0.1433      0.036      3.970      0.000       0.073       0.214\n",
      "ln_income_imputed_nominal     0.3335      0.061      5.465      0.000       0.214       0.453\n",
      "=============================================================================================\n",
      "--------------------- Industry segment HEREMPN -----------------------------------------------------------------\n",
      "Optimization terminated successfully.\n",
      "         Current function value: 0.639775\n",
      "         Iterations 5\n",
      "                          MNLogit Regression Results                          \n",
      "==============================================================================\n",
      "Dep. Variable:                    wfh   No. Observations:                 2771\n",
      "Model:                        MNLogit   Df Residuals:                     2768\n",
      "Method:                           MLE   Df Model:                            2\n",
      "Date:                Sun, 27 Oct 2024   Pseudo R-squ.:                 0.01325\n",
      "Time:                        15:53:29   Log-Likelihood:                -1772.8\n",
      "converged:                       True   LL-Null:                       -1796.6\n",
      "Covariance Type:            nonrobust   LLR p-value:                 4.547e-11\n",
      "=============================================================================================\n",
      "                    wfh=1       coef    std err          z      P>|z|      [0.025      0.975]\n",
      "---------------------------------------------------------------------------------------------\n",
      "Intercept                    -3.5123      0.611     -5.744      0.000      -4.711      -2.314\n",
      "distance_home_to_work         0.0171      0.004      4.396      0.000       0.009       0.025\n",
      "ln_income_imputed_nominal     0.2305      0.052      4.427      0.000       0.128       0.332\n",
      "=============================================================================================\n",
      "Optimization terminated successfully.\n",
      "         Current function value: 0.641908\n",
      "         Iterations 5\n",
      "                          MNLogit Regression Results                          \n",
      "==============================================================================\n",
      "Dep. Variable:                    wfh   No. Observations:                 2771\n",
      "Model:                        MNLogit   Df Residuals:                     2768\n",
      "Method:                           MLE   Df Model:                            2\n",
      "Date:                Sun, 27 Oct 2024   Pseudo R-squ.:                0.009965\n",
      "Time:                        15:53:29   Log-Likelihood:                -1778.7\n",
      "converged:                       True   LL-Null:                       -1796.6\n",
      "Covariance Type:            nonrobust   LLR p-value:                 1.678e-08\n",
      "=============================================================================================\n",
      "                    wfh=1       coef    std err          z      P>|z|      [0.025      0.975]\n",
      "---------------------------------------------------------------------------------------------\n",
      "Intercept                    -3.6513      0.610     -5.983      0.000      -4.847      -2.455\n",
      "ln_distance_home_to_work      0.0967      0.036      2.712      0.007       0.027       0.167\n",
      "ln_income_imputed_nominal     0.2427      0.052      4.652      0.000       0.140       0.345\n",
      "=============================================================================================\n",
      "--------------------- Industry segment MWTEMPN -----------------------------------------------------------------\n",
      "Optimization terminated successfully.\n",
      "         Current function value: 0.652067\n",
      "         Iterations 5\n",
      "                          MNLogit Regression Results                          \n",
      "==============================================================================\n",
      "Dep. Variable:                    wfh   No. Observations:                  888\n",
      "Model:                        MNLogit   Df Residuals:                      885\n",
      "Method:                           MLE   Df Model:                            2\n",
      "Date:                Sun, 27 Oct 2024   Pseudo R-squ.:                 0.04202\n",
      "Time:                        15:53:29   Log-Likelihood:                -579.04\n",
      "converged:                       True   LL-Null:                       -604.43\n",
      "Covariance Type:            nonrobust   LLR p-value:                 9.334e-12\n",
      "=============================================================================================\n",
      "                    wfh=1       coef    std err          z      P>|z|      [0.025      0.975]\n",
      "---------------------------------------------------------------------------------------------\n",
      "Intercept                    -8.3372      1.337     -6.234      0.000     -10.958      -5.716\n",
      "distance_home_to_work         0.0154      0.006      2.732      0.006       0.004       0.026\n",
      "ln_income_imputed_nominal     0.6490      0.111      5.833      0.000       0.431       0.867\n",
      "=============================================================================================\n",
      "Optimization terminated successfully.\n",
      "         Current function value: 0.655538\n",
      "         Iterations 5\n",
      "                          MNLogit Regression Results                          \n",
      "==============================================================================\n",
      "Dep. Variable:                    wfh   No. Observations:                  888\n",
      "Model:                        MNLogit   Df Residuals:                      885\n",
      "Method:                           MLE   Df Model:                            2\n",
      "Date:                Sun, 27 Oct 2024   Pseudo R-squ.:                 0.03692\n",
      "Time:                        15:53:29   Log-Likelihood:                -582.12\n",
      "converged:                       True   LL-Null:                       -604.43\n",
      "Covariance Type:            nonrobust   LLR p-value:                 2.037e-10\n",
      "=============================================================================================\n",
      "                    wfh=1       coef    std err          z      P>|z|      [0.025      0.975]\n",
      "---------------------------------------------------------------------------------------------\n",
      "Intercept                    -8.5250      1.334     -6.389      0.000     -11.140      -5.910\n",
      "ln_distance_home_to_work      0.0809      0.070      1.161      0.246      -0.056       0.218\n",
      "ln_income_imputed_nominal     0.6683      0.111      6.018      0.000       0.451       0.886\n",
      "=============================================================================================\n",
      "--------------------- Industry segment OTHEMPN -----------------------------------------------------------------\n",
      "Optimization terminated successfully.\n",
      "         Current function value: 0.650723\n",
      "         Iterations 5\n",
      "                          MNLogit Regression Results                          \n",
      "==============================================================================\n",
      "Dep. Variable:                    wfh   No. Observations:                 1651\n",
      "Model:                        MNLogit   Df Residuals:                     1648\n",
      "Method:                           MLE   Df Model:                            2\n",
      "Date:                Sun, 27 Oct 2024   Pseudo R-squ.:                 0.04470\n",
      "Time:                        15:53:30   Log-Likelihood:                -1074.3\n",
      "converged:                       True   LL-Null:                       -1124.6\n",
      "Covariance Type:            nonrobust   LLR p-value:                 1.471e-22\n",
      "=============================================================================================\n",
      "                    wfh=1       coef    std err          z      P>|z|      [0.025      0.975]\n",
      "---------------------------------------------------------------------------------------------\n",
      "Intercept                    -7.8251      1.058     -7.397      0.000      -9.899      -5.752\n",
      "distance_home_to_work         0.0236      0.004      5.338      0.000       0.015       0.032\n",
      "ln_income_imputed_nominal     0.6457      0.087      7.393      0.000       0.475       0.817\n",
      "=============================================================================================\n",
      "Optimization terminated successfully.\n",
      "         Current function value: 0.656150\n",
      "         Iterations 5\n",
      "                          MNLogit Regression Results                          \n",
      "==============================================================================\n",
      "Dep. Variable:                    wfh   No. Observations:                 1651\n",
      "Model:                        MNLogit   Df Residuals:                     1648\n",
      "Method:                           MLE   Df Model:                            2\n",
      "Date:                Sun, 27 Oct 2024   Pseudo R-squ.:                 0.03673\n",
      "Time:                        15:53:30   Log-Likelihood:                -1083.3\n",
      "converged:                       True   LL-Null:                       -1124.6\n",
      "Covariance Type:            nonrobust   LLR p-value:                 1.145e-18\n",
      "=============================================================================================\n",
      "                    wfh=1       coef    std err          z      P>|z|      [0.025      0.975]\n",
      "---------------------------------------------------------------------------------------------\n",
      "Intercept                    -7.9737      1.052     -7.579      0.000     -10.036      -5.912\n",
      "ln_distance_home_to_work      0.1564      0.045      3.468      0.001       0.068       0.245\n",
      "ln_income_imputed_nominal     0.6567      0.087      7.542      0.000       0.486       0.827\n",
      "=============================================================================================\n",
      "--------------------- Industry segment RETEMPN -----------------------------------------------------------------\n",
      "Optimization terminated successfully.\n",
      "         Current function value: 0.521278\n",
      "         Iterations 6\n",
      "                          MNLogit Regression Results                          \n",
      "==============================================================================\n",
      "Dep. Variable:                    wfh   No. Observations:                  271\n",
      "Model:                        MNLogit   Df Residuals:                      268\n",
      "Method:                           MLE   Df Model:                            2\n",
      "Date:                Sun, 27 Oct 2024   Pseudo R-squ.:                  0.1619\n",
      "Time:                        15:53:30   Log-Likelihood:                -141.27\n",
      "converged:                       True   LL-Null:                       -168.56\n",
      "Covariance Type:            nonrobust   LLR p-value:                 1.401e-12\n",
      "=============================================================================================\n",
      "                    wfh=1       coef    std err          z      P>|z|      [0.025      0.975]\n",
      "---------------------------------------------------------------------------------------------\n",
      "Intercept                   -10.9678      2.367     -4.634      0.000     -15.607      -6.329\n",
      "distance_home_to_work         0.0559      0.013      4.388      0.000       0.031       0.081\n",
      "ln_income_imputed_nominal     0.8169      0.202      4.041      0.000       0.421       1.213\n",
      "=============================================================================================\n",
      "Optimization terminated successfully.\n",
      "         Current function value: 0.541115\n",
      "         Iterations 6\n",
      "                          MNLogit Regression Results                          \n",
      "==============================================================================\n",
      "Dep. Variable:                    wfh   No. Observations:                  271\n",
      "Model:                        MNLogit   Df Residuals:                      268\n",
      "Method:                           MLE   Df Model:                            2\n",
      "Date:                Sun, 27 Oct 2024   Pseudo R-squ.:                  0.1300\n",
      "Time:                        15:53:30   Log-Likelihood:                -146.64\n",
      "converged:                       True   LL-Null:                       -168.56\n",
      "Covariance Type:            nonrobust   LLR p-value:                 3.029e-10\n",
      "=============================================================================================\n",
      "                    wfh=1       coef    std err          z      P>|z|      [0.025      0.975]\n",
      "---------------------------------------------------------------------------------------------\n",
      "Intercept                   -12.0690      2.341     -5.155      0.000     -16.658      -7.480\n",
      "ln_distance_home_to_work      0.4331      0.133      3.255      0.001       0.172       0.694\n",
      "ln_income_imputed_nominal     0.8955      0.200      4.487      0.000       0.504       1.287\n",
      "=============================================================================================\n"
     ]
    }
   ],
   "source": [
    "# segment by Industry\n",
    "EMPSIX_VALS = sorted(set(INDUSTRY_RECODE.values()))\n",
    "print(EMPSIX_VALS)\n",
    "\n",
    "for industry in EMPSIX_VALS:\n",
    "    print(f\"--------------------- Industry segment {industry} -----------------------------------------------------------------\")\n",
    "    for distance in ['linear','ln']:\n",
    "        for hhinc in ['linear','ln']:\n",
    "            my_formula = constant_formula\n",
    "            my_formula += ' + distance_home_to_work'  if distance == 'linear' else ' + ln_distance_home_to_work'\n",
    "            my_formula += ' + income_imputed_nominal' if hhinc == 'linear'    else ' + ln_income_imputed_nominal'\n",
    "        try:\n",
    "            mod = smf.mnlogit(formula=my_formula, data=bats_day.loc[bats_day.empsix == industry])\n",
    "            res = mod.fit()\n",
    "            print(res.summary())\n",
    "        except Exception as inst:\n",
    "            print(f\"Exception caught: {inst}\")\n"
   ]
  }
 ],
 "metadata": {
  "kernelspec": {
   "display_name": "NetworkWrangler",
   "language": "python",
   "name": "python3"
  },
  "language_info": {
   "codemirror_mode": {
    "name": "ipython",
    "version": 3
   },
   "file_extension": ".py",
   "mimetype": "text/x-python",
   "name": "python",
   "nbconvert_exporter": "python",
   "pygments_lexer": "ipython3",
   "version": "3.10.8"
  }
 },
 "nbformat": 4,
 "nbformat_minor": 2
}
