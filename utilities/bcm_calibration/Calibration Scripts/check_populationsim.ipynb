{
 "cells": [
  {
   "cell_type": "code",
   "execution_count": 1,
   "metadata": {},
   "outputs": [],
   "source": [
    "import pandas as pd\n",
    "import numpy as np"
   ]
  },
  {
   "cell_type": "code",
   "execution_count": 2,
   "metadata": {},
   "outputs": [
    {
     "data": {
      "text/html": [
       "<div>\n",
       "<style scoped>\n",
       "    .dataframe tbody tr th:only-of-type {\n",
       "        vertical-align: middle;\n",
       "    }\n",
       "\n",
       "    .dataframe tbody tr th {\n",
       "        vertical-align: top;\n",
       "    }\n",
       "\n",
       "    .dataframe thead th {\n",
       "        text-align: right;\n",
       "    }\n",
       "</style>\n",
       "<table border=\"1\" class=\"dataframe\">\n",
       "  <thead>\n",
       "    <tr style=\"text-align: right;\">\n",
       "      <th></th>\n",
       "      <th></th>\n",
       "      <th>tm15_workers</th>\n",
       "    </tr>\n",
       "    <tr>\n",
       "      <th>COUNTYNAME</th>\n",
       "      <th>hinccat1</th>\n",
       "      <th></th>\n",
       "    </tr>\n",
       "  </thead>\n",
       "  <tbody>\n",
       "    <tr>\n",
       "      <th rowspan=\"4\" valign=\"top\">Alameda</th>\n",
       "      <th>1</th>\n",
       "      <td>63450</td>\n",
       "    </tr>\n",
       "    <tr>\n",
       "      <th>2</th>\n",
       "      <td>182446</td>\n",
       "    </tr>\n",
       "    <tr>\n",
       "      <th>3</th>\n",
       "      <td>286677</td>\n",
       "    </tr>\n",
       "    <tr>\n",
       "      <th>4</th>\n",
       "      <td>290576</td>\n",
       "    </tr>\n",
       "    <tr>\n",
       "      <th>Contra Costa</th>\n",
       "      <th>1</th>\n",
       "      <td>28879</td>\n",
       "    </tr>\n",
       "  </tbody>\n",
       "</table>\n",
       "</div>"
      ],
      "text/plain": [
       "                       tm15_workers\n",
       "COUNTYNAME   hinccat1              \n",
       "Alameda      1                63450\n",
       "             2               182446\n",
       "             3               286677\n",
       "             4               290576\n",
       "Contra Costa 1                28879"
      ]
     },
     "execution_count": 2,
     "metadata": {},
     "output_type": "execute_result"
    }
   ],
   "source": [
    "tm15_hhfile=pd.read_csv('../popsyn/popsyn_1.5/hhFile.2015.csv')\n",
    "tm15_personfile=pd.read_csv('../popsyn/popsyn_1.5/personFile.2015.csv')\n",
    "tm15_personfile=tm15_personfile[tm15_personfile['pemploy'].isin([1,2])]\n",
    "geo_crosswalk = pd.read_csv('../main_Run_TM15/geo_crosswalk.csv')\n",
    "county_dict = dict(zip(geo_crosswalk['TAZ'],geo_crosswalk['COUNTYNAME']))\n",
    "tm15_hhfile['COUNTYNAME']=tm15_hhfile['TAZ'].map(county_dict)\n",
    "tm15_hhinc_dict = dict(zip(tm15_hhfile['HHID'],tm15_hhfile['hinccat1']))\n",
    "tm15_county_dict = dict(zip(tm15_hhfile['HHID'],tm15_hhfile['COUNTYNAME']))\n",
    "tm15_personfile['hinccat1']=tm15_personfile['HHID'].map(tm15_hhinc_dict)\n",
    "tm15_personfile['COUNTYNAME']=tm15_personfile['HHID'].map(tm15_county_dict)\n",
    "\n",
    "tm15_persons_grouped=tm15_personfile.groupby(['COUNTYNAME','hinccat1']).agg(tm15_workers=('PERID','count'))\n",
    "tm15_persons_grouped.head()"
   ]
  },
  {
   "cell_type": "code",
   "execution_count": null,
   "metadata": {},
   "outputs": [],
   "source": [
    "table_hhgq.loc[                           (table_hhgq.HINC< 20000), 'hinccat1'] = 1\n",
    "table_hhgq.loc[ (table_hhgq.HINC>= 20000)&(table_hhgq.HINC< 50000), 'hinccat1'] = 2\n",
    "table_hhgq.loc[ (table_hhgq.HINC>= 50000)&(table_hhgq.HINC<100000), 'hinccat1'] = 3\n",
    "table_hhgq.loc[ (table_hhgq.HINC>=100000)                           , 'hinccat1'] = 4"
   ]
  },
  {
   "cell_type": "code",
   "execution_count": 2,
   "metadata": {},
   "outputs": [],
   "source": [
    "inc_cat_dict={1:'HINC<20,000',\n",
    "              2: '20,000<=HINCH<50,000',\n",
    "              3: '50,000<=HINCH<100,000',\n",
    "              4: 'HINC>100,000'}"
   ]
  },
  {
   "cell_type": "code",
   "execution_count": 3,
   "metadata": {},
   "outputs": [],
   "source": [
    "bcm_hhfile=pd.read_csv('../popsyn/hhFile.2015.csv')\n",
    "bcm_personfile=pd.read_csv('../popsyn/personFile.2015.csv')"
   ]
  },
  {
   "cell_type": "code",
   "execution_count": 24,
   "metadata": {},
   "outputs": [],
   "source": [
    "bcm_hhfile=bcm_hhfile[bcm_hhfile['TAZ'].notnull()]\n",
    "bcm_personfile=bcm_personfile[bcm_personfile['HHID'].isin(bcm_hhfile.HHID.unique())]\n",
    "#.to_csv('../popsyn/hhFile.2015.csv')"
   ]
  },
  {
   "cell_type": "code",
   "execution_count": 12,
   "metadata": {},
   "outputs": [
    {
     "data": {
      "text/plain": [
       "Index(['ZONE', 'DISTRICT', 'SD', 'COUNTY', 'TOTHH', 'HHPOP', 'TOTPOP',\n",
       "       'EMPRES', 'SFDU', 'MFDU', 'HHINCQ1', 'HHINCQ2', 'HHINCQ3', 'HHINCQ4',\n",
       "       'TOTACRE', 'RESACRE', 'CIACRE', 'SHPOP62P', 'TOTEMP', 'AGE0004',\n",
       "       'AGE0519', 'AGE2044', 'AGE4564', 'AGE65P', 'RETEMPN', 'FPSEMPN',\n",
       "       'HEREMPN', 'OTHEMPN', 'AGREMPN', 'MWTEMPN', 'PRKCST', 'OPRKCST',\n",
       "       'AREATYPE', 'HSENROLL', 'COLLFTE', 'COLLPTE', 'TOPOLOGY', 'TERMINAL',\n",
       "       'ZERO'],\n",
       "      dtype='object')"
      ]
     },
     "execution_count": 12,
     "metadata": {},
     "output_type": "execute_result"
    }
   ],
   "source": [
    "tazData.columns"
   ]
  },
  {
   "cell_type": "code",
   "execution_count": 15,
   "metadata": {},
   "outputs": [],
   "source": [
    "unconnected_taz=[2895,3141,3166,3279,3353,3434,3452,3453,3455,3461,3599,3600,3601,3602,3677,3747,3750,3794,4049,4080,4137,4158,4178,4186,4211,4511,4589,4643,4805,4846,\n",
    " 4865,4868,4888,4900,4904,4905,4909,4914,4916,4997,5003,5144,5163,5167,5176,5217,5285,5338]\n",
    "\n",
    "bcm_taz_seq = pd.read_csv('../main/bcmtaz_seq.csv')\n",
    "unconnected = bcm_taz_seq[bcm_taz_seq['TAZSEQ'].isin(unconnected_taz)].BCMTAZ.unique()\n",
    "\n",
    "tazData=pd.read_csv('../landuse/tazData.csv')\n",
    "\n",
    "for column in ['TOTHH', 'HHPOP', 'TOTPOP',\n",
    "       'EMPRES', 'SFDU', 'MFDU', 'HHINCQ1', 'HHINCQ2', 'HHINCQ3', 'HHINCQ4',\n",
    "        'SHPOP62P', 'TOTEMP', 'AGE0004',\n",
    "       'AGE0519', 'AGE2044', 'AGE4564', 'AGE65P', 'RETEMPN', 'FPSEMPN',\n",
    "       'HEREMPN', 'OTHEMPN', 'AGREMPN', 'MWTEMPN', 'PRKCST', 'OPRKCST',\n",
    "       'HSENROLL', 'COLLFTE', 'COLLPTE']:\n",
    "\n",
    "       tazData[column] = np.where(tazData['ZONE'].isin (unconnected_taz), 0, tazData[column])"
   ]
  },
  {
   "cell_type": "code",
   "execution_count": 18,
   "metadata": {},
   "outputs": [],
   "source": [
    "tazData.to_csv('../landuse/tazDataUpdate.csv', index=False)"
   ]
  },
  {
   "cell_type": "code",
   "execution_count": 28,
   "metadata": {},
   "outputs": [],
   "source": [
    "\n",
    "\n",
    "bcm_hhfile=bcm_hhfile[~bcm_hhfile['TAZ'].isin(unconnected_taz)]\n",
    "bcm_personfile=bcm_personfile[bcm_personfile['HHID'].isin(bcm_hhfile.HHID.unique())]"
   ]
  },
  {
   "cell_type": "code",
   "execution_count": 26,
   "metadata": {},
   "outputs": [],
   "source": [
    "bcm_hhfile.to_csv('../popsyn/hhFile.2015.csv', index=False)\n",
    "bcm_personfile.to_csv('../popsyn/personFile.2015.csv', index=False)"
   ]
  },
  {
   "cell_type": "code",
   "execution_count": 4,
   "metadata": {},
   "outputs": [],
   "source": [
    "bcm_hhfile=pd.read_csv('../popsyn/hhFile.2015.csv')\n",
    "bcm_personfile=pd.read_csv('../popsyn/personFile.2015.csv')\n",
    "bcm_personfile=bcm_personfile[bcm_personfile['pemploy'].isin([1,2])]\n",
    "geo_crosswalk = pd.read_csv('../main_Run_17/geo_crosswalk.csv')\n",
    "\n",
    "county_dict = dict(zip(geo_crosswalk['TAZ'],geo_crosswalk['COUNTYNAME']))\n",
    "bcm_hhfile['COUNTYNAME']=bcm_hhfile['TAZ'].map(county_dict)\n",
    "bcm_hhinc_dict = dict(zip(bcm_hhfile['HHID'],bcm_hhfile['hinccat1']))\n",
    "bcm_county_dict = dict(zip(bcm_hhfile['HHID'],bcm_hhfile['COUNTYNAME']))\n",
    "bcm_personfile['hinccat1']=bcm_personfile['HHID'].map(bcm_hhinc_dict)\n",
    "bcm_personfile['COUNTYNAME']=bcm_personfile['HHID'].map(bcm_county_dict)\n",
    "\n",
    "bcm_persons_grouped=bcm_personfile.groupby(['COUNTYNAME','hinccat1']).agg(bcm_workers=('PERID','count'))\n"
   ]
  },
  {
   "cell_type": "code",
   "execution_count": 5,
   "metadata": {},
   "outputs": [
    {
     "data": {
      "text/html": [
       "<div>\n",
       "<style scoped>\n",
       "    .dataframe tbody tr th:only-of-type {\n",
       "        vertical-align: middle;\n",
       "    }\n",
       "\n",
       "    .dataframe tbody tr th {\n",
       "        vertical-align: top;\n",
       "    }\n",
       "\n",
       "    .dataframe thead th {\n",
       "        text-align: right;\n",
       "    }\n",
       "</style>\n",
       "<table border=\"1\" class=\"dataframe\">\n",
       "  <thead>\n",
       "    <tr style=\"text-align: right;\">\n",
       "      <th></th>\n",
       "      <th></th>\n",
       "      <th>bcm_workers</th>\n",
       "    </tr>\n",
       "    <tr>\n",
       "      <th>COUNTYNAME</th>\n",
       "      <th>hinccat1</th>\n",
       "      <th></th>\n",
       "    </tr>\n",
       "  </thead>\n",
       "  <tbody>\n",
       "    <tr>\n",
       "      <th rowspan=\"4\" valign=\"top\">Alameda</th>\n",
       "      <th>1</th>\n",
       "      <td>46964</td>\n",
       "    </tr>\n",
       "    <tr>\n",
       "      <th>2</th>\n",
       "      <td>140217</td>\n",
       "    </tr>\n",
       "    <tr>\n",
       "      <th>3</th>\n",
       "      <td>237956</td>\n",
       "    </tr>\n",
       "    <tr>\n",
       "      <th>4</th>\n",
       "      <td>310539</td>\n",
       "    </tr>\n",
       "    <tr>\n",
       "      <th>Contra Costa</th>\n",
       "      <th>1</th>\n",
       "      <td>23114</td>\n",
       "    </tr>\n",
       "  </tbody>\n",
       "</table>\n",
       "</div>"
      ],
      "text/plain": [
       "                       bcm_workers\n",
       "COUNTYNAME   hinccat1             \n",
       "Alameda      1               46964\n",
       "             2              140217\n",
       "             3              237956\n",
       "             4              310539\n",
       "Contra Costa 1               23114"
      ]
     },
     "execution_count": 5,
     "metadata": {},
     "output_type": "execute_result"
    }
   ],
   "source": [
    "bcm_persons_grouped.head()"
   ]
  },
  {
   "cell_type": "code",
   "execution_count": 9,
   "metadata": {},
   "outputs": [],
   "source": [
    "bcm_hh_grouped=bcm_hhfile[bcm_hhfile['hinccat1']!=0].groupby(['COUNTYNAME','hinccat1']).agg(bcm_hh=('HHID','count'))\n",
    "bcm_hh_grouped.to_csv('temp.csv')\n",
    "# tm15_hh_grouped=tm15_hhfile.groupby(['COUNTYNAME','hinccat1']).agg(tm15_hh=('HHID','count'))\n",
    "\n",
    "# comparison=pd.merge(bcm_hh_grouped.reset_index(), tm15_hh_grouped.reset_index(), how='left')\n",
    "# comparison.to_csv('temp.csv')"
   ]
  },
  {
   "cell_type": "code",
   "execution_count": 38,
   "metadata": {},
   "outputs": [
    {
     "data": {
      "text/html": [
       "<div>\n",
       "<style scoped>\n",
       "    .dataframe tbody tr th:only-of-type {\n",
       "        vertical-align: middle;\n",
       "    }\n",
       "\n",
       "    .dataframe tbody tr th {\n",
       "        vertical-align: top;\n",
       "    }\n",
       "\n",
       "    .dataframe thead th {\n",
       "        text-align: right;\n",
       "    }\n",
       "</style>\n",
       "<table border=\"1\" class=\"dataframe\">\n",
       "  <thead>\n",
       "    <tr style=\"text-align: right;\">\n",
       "      <th></th>\n",
       "      <th></th>\n",
       "      <th>bcm_hh</th>\n",
       "    </tr>\n",
       "    <tr>\n",
       "      <th>COUNTYNAME</th>\n",
       "      <th>hinccat1</th>\n",
       "      <th></th>\n",
       "    </tr>\n",
       "  </thead>\n",
       "  <tbody>\n",
       "    <tr>\n",
       "      <th rowspan=\"4\" valign=\"top\">Alameda</th>\n",
       "      <th>1</th>\n",
       "      <td>121093</td>\n",
       "    </tr>\n",
       "    <tr>\n",
       "      <th>2</th>\n",
       "      <td>156721</td>\n",
       "    </tr>\n",
       "    <tr>\n",
       "      <th>3</th>\n",
       "      <td>170215</td>\n",
       "    </tr>\n",
       "    <tr>\n",
       "      <th>4</th>\n",
       "      <td>145707</td>\n",
       "    </tr>\n",
       "    <tr>\n",
       "      <th>Contra Costa</th>\n",
       "      <th>1</th>\n",
       "      <td>63799</td>\n",
       "    </tr>\n",
       "  </tbody>\n",
       "</table>\n",
       "</div>"
      ],
      "text/plain": [
       "                       bcm_hh\n",
       "COUNTYNAME   hinccat1        \n",
       "Alameda      1         121093\n",
       "             2         156721\n",
       "             3         170215\n",
       "             4         145707\n",
       "Contra Costa 1          63799"
      ]
     },
     "execution_count": 38,
     "metadata": {},
     "output_type": "execute_result"
    }
   ],
   "source": [
    "tm15_hh_grouped.head()"
   ]
  },
  {
   "cell_type": "code",
   "execution_count": 25,
   "metadata": {},
   "outputs": [
    {
     "name": "stderr",
     "output_type": "stream",
     "text": [
      "C:\\Users\\USJH70~1\\AppData\\Local\\Temp/ipykernel_581656/769486675.py:5: FutureWarning: Indexing with multiple keys (implicitly converted to a tuple of keys) will be deprecated, use a list instead.\n",
      "  tm15_emp_grouped=tm15_tazData.groupby(['COUNTYNAME'])['TOTEMP','RETEMPN','HEREMPN', 'OTHEMPN', 'AGREMPN', 'MWTEMPN'].sum().reset_index()\n"
     ]
    },
    {
     "data": {
      "text/html": [
       "<div>\n",
       "<style scoped>\n",
       "    .dataframe tbody tr th:only-of-type {\n",
       "        vertical-align: middle;\n",
       "    }\n",
       "\n",
       "    .dataframe tbody tr th {\n",
       "        vertical-align: top;\n",
       "    }\n",
       "\n",
       "    .dataframe thead th {\n",
       "        text-align: right;\n",
       "    }\n",
       "</style>\n",
       "<table border=\"1\" class=\"dataframe\">\n",
       "  <thead>\n",
       "    <tr style=\"text-align: right;\">\n",
       "      <th></th>\n",
       "      <th>COUNTYNAME</th>\n",
       "      <th>TOTEMP</th>\n",
       "      <th>RETEMPN</th>\n",
       "      <th>HEREMPN</th>\n",
       "      <th>OTHEMPN</th>\n",
       "      <th>AGREMPN</th>\n",
       "      <th>MWTEMPN</th>\n",
       "    </tr>\n",
       "  </thead>\n",
       "  <tbody>\n",
       "    <tr>\n",
       "      <th>0</th>\n",
       "      <td>Alameda</td>\n",
       "      <td>802630</td>\n",
       "      <td>111666</td>\n",
       "      <td>285645</td>\n",
       "      <td>93166</td>\n",
       "      <td>677</td>\n",
       "      <td>165233</td>\n",
       "    </tr>\n",
       "    <tr>\n",
       "      <th>1</th>\n",
       "      <td>Contra Costa</td>\n",
       "      <td>415910</td>\n",
       "      <td>60745</td>\n",
       "      <td>149023</td>\n",
       "      <td>54525</td>\n",
       "      <td>2863</td>\n",
       "      <td>58932</td>\n",
       "    </tr>\n",
       "    <tr>\n",
       "      <th>2</th>\n",
       "      <td>Marin</td>\n",
       "      <td>136313</td>\n",
       "      <td>21570</td>\n",
       "      <td>51329</td>\n",
       "      <td>20034</td>\n",
       "      <td>265</td>\n",
       "      <td>10492</td>\n",
       "    </tr>\n",
       "    <tr>\n",
       "      <th>3</th>\n",
       "      <td>Napa</td>\n",
       "      <td>85978</td>\n",
       "      <td>9266</td>\n",
       "      <td>32615</td>\n",
       "      <td>11294</td>\n",
       "      <td>2206</td>\n",
       "      <td>19467</td>\n",
       "    </tr>\n",
       "    <tr>\n",
       "      <th>4</th>\n",
       "      <td>San Francisco</td>\n",
       "      <td>637283</td>\n",
       "      <td>77480</td>\n",
       "      <td>232774</td>\n",
       "      <td>89430</td>\n",
       "      <td>276</td>\n",
       "      <td>50545</td>\n",
       "    </tr>\n",
       "    <tr>\n",
       "      <th>5</th>\n",
       "      <td>San Mateo</td>\n",
       "      <td>395028</td>\n",
       "      <td>55465</td>\n",
       "      <td>117960</td>\n",
       "      <td>69584</td>\n",
       "      <td>551</td>\n",
       "      <td>57461</td>\n",
       "    </tr>\n",
       "    <tr>\n",
       "      <th>6</th>\n",
       "      <td>Santa Clara</td>\n",
       "      <td>989775</td>\n",
       "      <td>132626</td>\n",
       "      <td>296062</td>\n",
       "      <td>133045</td>\n",
       "      <td>2706</td>\n",
       "      <td>236836</td>\n",
       "    </tr>\n",
       "    <tr>\n",
       "      <th>7</th>\n",
       "      <td>Solano</td>\n",
       "      <td>157519</td>\n",
       "      <td>23100</td>\n",
       "      <td>64986</td>\n",
       "      <td>26082</td>\n",
       "      <td>1466</td>\n",
       "      <td>20541</td>\n",
       "    </tr>\n",
       "    <tr>\n",
       "      <th>8</th>\n",
       "      <td>Sonoma</td>\n",
       "      <td>240882</td>\n",
       "      <td>35917</td>\n",
       "      <td>83190</td>\n",
       "      <td>39169</td>\n",
       "      <td>3424</td>\n",
       "      <td>39698</td>\n",
       "    </tr>\n",
       "  </tbody>\n",
       "</table>\n",
       "</div>"
      ],
      "text/plain": [
       "      COUNTYNAME  TOTEMP  RETEMPN  HEREMPN  OTHEMPN  AGREMPN  MWTEMPN\n",
       "0        Alameda  802630   111666   285645    93166      677   165233\n",
       "1   Contra Costa  415910    60745   149023    54525     2863    58932\n",
       "2          Marin  136313    21570    51329    20034      265    10492\n",
       "3           Napa   85978     9266    32615    11294     2206    19467\n",
       "4  San Francisco  637283    77480   232774    89430      276    50545\n",
       "5      San Mateo  395028    55465   117960    69584      551    57461\n",
       "6    Santa Clara  989775   132626   296062   133045     2706   236836\n",
       "7         Solano  157519    23100    64986    26082     1466    20541\n",
       "8         Sonoma  240882    35917    83190    39169     3424    39698"
      ]
     },
     "execution_count": 25,
     "metadata": {},
     "output_type": "execute_result"
    }
   ],
   "source": [
    "tm15_tazData = pd.read_csv('../main_Run_TM15/tazData.csv')\n",
    "tm15_geo_crosswalk = pd.read_csv('../main_Run_TM15/geo_crosswalk.csv')\n",
    "tm15_county_dict = dict(zip(tm15_geo_crosswalk['TAZ'],tm15_geo_crosswalk['COUNTYNAME']))\n",
    "tm15_tazData['COUNTYNAME']=tm15_tazData['ZONE'].map(tm15_county_dict)\n",
    "tm15_emp_grouped=tm15_tazData.groupby(['COUNTYNAME'])['TOTEMP','RETEMPN','HEREMPN', 'OTHEMPN', 'AGREMPN', 'MWTEMPN'].sum().reset_index()\n",
    "tm15_emp_grouped"
   ]
  },
  {
   "cell_type": "code",
   "execution_count": 13,
   "metadata": {},
   "outputs": [
    {
     "name": "stderr",
     "output_type": "stream",
     "text": [
      "C:\\Users\\USJH70~1\\AppData\\Local\\Temp/ipykernel_41460/3402382521.py:5: FutureWarning: Indexing with multiple keys (implicitly converted to a tuple of keys) will be deprecated, use a list instead.\n",
      "  bcm_emp_grouped=bcm_tazData.groupby(['COUNTYNAME'])['TOTEMP','RETEMPN','HEREMPN', 'OTHEMPN', 'AGREMPN', 'MWTEMPN'].sum().reset_index()\n"
     ]
    },
    {
     "data": {
      "text/html": [
       "<div>\n",
       "<style scoped>\n",
       "    .dataframe tbody tr th:only-of-type {\n",
       "        vertical-align: middle;\n",
       "    }\n",
       "\n",
       "    .dataframe tbody tr th {\n",
       "        vertical-align: top;\n",
       "    }\n",
       "\n",
       "    .dataframe thead th {\n",
       "        text-align: right;\n",
       "    }\n",
       "</style>\n",
       "<table border=\"1\" class=\"dataframe\">\n",
       "  <thead>\n",
       "    <tr style=\"text-align: right;\">\n",
       "      <th></th>\n",
       "      <th>COUNTYNAME</th>\n",
       "      <th>TOTEMP</th>\n",
       "      <th>RETEMPN</th>\n",
       "      <th>HEREMPN</th>\n",
       "      <th>OTHEMPN</th>\n",
       "      <th>AGREMPN</th>\n",
       "      <th>MWTEMPN</th>\n",
       "    </tr>\n",
       "  </thead>\n",
       "  <tbody>\n",
       "    <tr>\n",
       "      <th>0</th>\n",
       "      <td>Alameda</td>\n",
       "      <td>866799</td>\n",
       "      <td>71891</td>\n",
       "      <td>255225</td>\n",
       "      <td>207927</td>\n",
       "      <td>1710</td>\n",
       "      <td>139048</td>\n",
       "    </tr>\n",
       "    <tr>\n",
       "      <th>1</th>\n",
       "      <td>Contra Costa</td>\n",
       "      <td>403491</td>\n",
       "      <td>48376</td>\n",
       "      <td>125366</td>\n",
       "      <td>93769</td>\n",
       "      <td>1516</td>\n",
       "      <td>40709</td>\n",
       "    </tr>\n",
       "    <tr>\n",
       "      <th>2</th>\n",
       "      <td>Marin</td>\n",
       "      <td>134855</td>\n",
       "      <td>15544</td>\n",
       "      <td>47039</td>\n",
       "      <td>28187</td>\n",
       "      <td>721</td>\n",
       "      <td>7871</td>\n",
       "    </tr>\n",
       "    <tr>\n",
       "      <th>3</th>\n",
       "      <td>Napa</td>\n",
       "      <td>71530</td>\n",
       "      <td>7907</td>\n",
       "      <td>21907</td>\n",
       "      <td>13685</td>\n",
       "      <td>4114</td>\n",
       "      <td>14682</td>\n",
       "    </tr>\n",
       "    <tr>\n",
       "      <th>4</th>\n",
       "      <td>San Francisco</td>\n",
       "      <td>682001</td>\n",
       "      <td>46329</td>\n",
       "      <td>228480</td>\n",
       "      <td>143102</td>\n",
       "      <td>630</td>\n",
       "      <td>35884</td>\n",
       "    </tr>\n",
       "    <tr>\n",
       "      <th>5</th>\n",
       "      <td>San Joaquin</td>\n",
       "      <td>234826</td>\n",
       "      <td>26145</td>\n",
       "      <td>75270</td>\n",
       "      <td>20361</td>\n",
       "      <td>16460</td>\n",
       "      <td>67501</td>\n",
       "    </tr>\n",
       "    <tr>\n",
       "      <th>6</th>\n",
       "      <td>San Mateo</td>\n",
       "      <td>393079</td>\n",
       "      <td>36720</td>\n",
       "      <td>106560</td>\n",
       "      <td>64590</td>\n",
       "      <td>2494</td>\n",
       "      <td>64324</td>\n",
       "    </tr>\n",
       "    <tr>\n",
       "      <th>7</th>\n",
       "      <td>Santa Clara</td>\n",
       "      <td>1100920</td>\n",
       "      <td>88228</td>\n",
       "      <td>294774</td>\n",
       "      <td>211763</td>\n",
       "      <td>5364</td>\n",
       "      <td>227076</td>\n",
       "    </tr>\n",
       "    <tr>\n",
       "      <th>8</th>\n",
       "      <td>Solano</td>\n",
       "      <td>132019</td>\n",
       "      <td>17966</td>\n",
       "      <td>41865</td>\n",
       "      <td>33727</td>\n",
       "      <td>1725</td>\n",
       "      <td>20207</td>\n",
       "    </tr>\n",
       "    <tr>\n",
       "      <th>9</th>\n",
       "      <td>Sonoma</td>\n",
       "      <td>220904</td>\n",
       "      <td>25119</td>\n",
       "      <td>68367</td>\n",
       "      <td>49047</td>\n",
       "      <td>6617</td>\n",
       "      <td>33790</td>\n",
       "    </tr>\n",
       "  </tbody>\n",
       "</table>\n",
       "</div>"
      ],
      "text/plain": [
       "      COUNTYNAME   TOTEMP  RETEMPN  HEREMPN  OTHEMPN  AGREMPN  MWTEMPN\n",
       "0        Alameda   866799    71891   255225   207927     1710   139048\n",
       "1   Contra Costa   403491    48376   125366    93769     1516    40709\n",
       "2          Marin   134855    15544    47039    28187      721     7871\n",
       "3           Napa    71530     7907    21907    13685     4114    14682\n",
       "4  San Francisco   682001    46329   228480   143102      630    35884\n",
       "5    San Joaquin   234826    26145    75270    20361    16460    67501\n",
       "6      San Mateo   393079    36720   106560    64590     2494    64324\n",
       "7    Santa Clara  1100920    88228   294774   211763     5364   227076\n",
       "8         Solano   132019    17966    41865    33727     1725    20207\n",
       "9         Sonoma   220904    25119    68367    49047     6617    33790"
      ]
     },
     "execution_count": 13,
     "metadata": {},
     "output_type": "execute_result"
    }
   ],
   "source": [
    "bcm_tazData = pd.read_csv('../landuse/tazData.csv')\n",
    "bcm_geo_crosswalk = pd.read_csv('../main_Run_17/geo_crosswalk.csv')\n",
    "bcmcounty_dict = dict(zip(bcm_geo_crosswalk['TAZ'],bcm_geo_crosswalk['COUNTYNAME']))\n",
    "bcm_tazData['COUNTYNAME']=bcm_tazData['ZONE'].map(bcmcounty_dict)\n",
    "bcm_emp_grouped=bcm_tazData.groupby(['COUNTYNAME'])['TOTEMP','RETEMPN','HEREMPN', 'OTHEMPN', 'AGREMPN', 'MWTEMPN'].sum().reset_index()\n",
    "bcm_emp_grouped"
   ]
  },
  {
   "cell_type": "code",
   "execution_count": 14,
   "metadata": {},
   "outputs": [],
   "source": [
    "bcm_emp_grouped.to_csv('temp.csv', index=False)"
   ]
  },
  {
   "cell_type": "code",
   "execution_count": 28,
   "metadata": {},
   "outputs": [],
   "source": [
    "jobs_comparison = pd.merge(bcm_emp_grouped, tm15_emp_grouped, on='COUNTYNAME', how='left', suffixes=('_BCM','_TM15'))\n",
    "\n",
    "jobs_comparison.to_csv('temp.csv', index=False)"
   ]
  },
  {
   "cell_type": "code",
   "execution_count": 16,
   "metadata": {},
   "outputs": [],
   "source": [
    "bcm_persons_grouped.to_csv('temp.csv')"
   ]
  },
  {
   "cell_type": "code",
   "execution_count": 5,
   "metadata": {},
   "outputs": [],
   "source": [
    "comparison=pd.merge(bcm_persons_grouped.reset_index(), tm15_persons_grouped.reset_index(), how='left')\n",
    "comparison['HINC']=comparison['hinccat1'].map(inc_cat_dict)\n",
    "comparison.to_csv('temp.csv')"
   ]
  },
  {
   "cell_type": "code",
   "execution_count": 12,
   "metadata": {},
   "outputs": [
    {
     "name": "stderr",
     "output_type": "stream",
     "text": [
      "C:\\Users\\USJH70~1\\AppData\\Local\\Temp/ipykernel_41460/4022566925.py:5: FutureWarning: Indexing with multiple keys (implicitly converted to a tuple of keys) will be deprecated, use a list instead.\n",
      "  popsim_controls_grouped=popsim_controls.groupby(['COUNTYNAME'])['num_hh_control','hh_inc_30_control', 'hh_inc_30_60_control', 'hh_inc_60_100_control',\n"
     ]
    }
   ],
   "source": [
    "popsim_controls=pd.read_csv('../main_Run_34/final_summary_BCMTAZ.csv')\n",
    "popsim_xwalk=pd.read_csv('../landuse/geo_crosswalk.csv')\n",
    "popsim_county_dict=dict(zip(popsim_xwalk['BCMTAZ'], popsim_xwalk['COUNTY']))\n",
    "popsim_controls['COUNTYNAME']=popsim_controls['id'].map(popsim_county_dict)\n",
    "popsim_controls_grouped=popsim_controls.groupby(['COUNTYNAME'])['num_hh_control','hh_inc_30_control', 'hh_inc_30_60_control', 'hh_inc_60_100_control',\n",
    "       'hh_inc_100_plus_control','hh_inc_30_result', 'hh_inc_30_60_result',\n",
    "       'hh_inc_60_100_result', 'num_hh_result','hh_inc_100_plus_result'].sum()\n",
    "popsim_controls_grouped.to_csv('temp.csv')"
   ]
  },
  {
   "cell_type": "code",
   "execution_count": 44,
   "metadata": {},
   "outputs": [
    {
     "data": {
      "text/plain": [
       "Index(['geography', 'id', 'num_hh_control', 'hh_size_1_control',\n",
       "       'hh_size_2_control', 'hh_size_3_control', 'hh_size_4_plus_control',\n",
       "       'hh_inc_30_control', 'hh_inc_30_60_control', 'hh_inc_60_100_control',\n",
       "       'hh_inc_100_plus_control', 'hh_wrks_0_control', 'hh_wrks_1_control',\n",
       "       'hh_wrks_2_control', 'hh_wrks_3_plus_control', 'pers_age_00_04_control',\n",
       "       'pers_age_05_19_control', 'pers_age_20_44_control',\n",
       "       'pers_age_45_64_control', 'pers_age_65_plus_control', 'num_hh_result',\n",
       "       'hh_size_1_result', 'hh_size_2_result', 'hh_size_3_result',\n",
       "       'hh_size_4_plus_result', 'hh_inc_30_result', 'hh_inc_30_60_result',\n",
       "       'hh_inc_60_100_result', 'hh_inc_100_plus_result', 'hh_wrks_0_result',\n",
       "       'hh_wrks_1_result', 'hh_wrks_2_result', 'hh_wrks_3_plus_result',\n",
       "       'pers_age_00_04_result', 'pers_age_05_19_result',\n",
       "       'pers_age_20_44_result', 'pers_age_45_64_result',\n",
       "       'pers_age_65_plus_result', 'num_hh_diff', 'hh_size_1_diff',\n",
       "       'hh_size_2_diff', 'hh_size_3_diff', 'hh_size_4_plus_diff',\n",
       "       'hh_inc_30_diff', 'hh_inc_30_60_diff', 'hh_inc_60_100_diff',\n",
       "       'hh_inc_100_plus_diff', 'hh_wrks_0_diff', 'hh_wrks_1_diff',\n",
       "       'hh_wrks_2_diff', 'hh_wrks_3_plus_diff', 'pers_age_00_04_diff',\n",
       "       'pers_age_05_19_diff', 'pers_age_20_44_diff', 'pers_age_45_64_diff',\n",
       "       'pers_age_65_plus_diff', 'COUNTYNAME'],\n",
       "      dtype='object')"
      ]
     },
     "execution_count": 44,
     "metadata": {},
     "output_type": "execute_result"
    }
   ],
   "source": [
    "popsim_controls.columns"
   ]
  },
  {
   "cell_type": "code",
   "execution_count": 2,
   "metadata": {},
   "outputs": [],
   "source": [
    "hhfile=pd.read_csv('../popsyn/hhFile.2015.csv')"
   ]
  },
  {
   "cell_type": "code",
   "execution_count": 4,
   "metadata": {},
   "outputs": [
    {
     "data": {
      "text/html": [
       "<div>\n",
       "<style scoped>\n",
       "    .dataframe tbody tr th:only-of-type {\n",
       "        vertical-align: middle;\n",
       "    }\n",
       "\n",
       "    .dataframe tbody tr th {\n",
       "        vertical-align: top;\n",
       "    }\n",
       "\n",
       "    .dataframe thead th {\n",
       "        text-align: right;\n",
       "    }\n",
       "</style>\n",
       "<table border=\"1\" class=\"dataframe\">\n",
       "  <thead>\n",
       "    <tr style=\"text-align: right;\">\n",
       "      <th></th>\n",
       "      <th>HHID</th>\n",
       "      <th>TAZ</th>\n",
       "      <th>HINC</th>\n",
       "      <th>hworkers</th>\n",
       "      <th>VEHICL</th>\n",
       "      <th>PERSONS</th>\n",
       "      <th>HHT</th>\n",
       "      <th>UNITTYPE</th>\n",
       "      <th>hinccat1</th>\n",
       "    </tr>\n",
       "  </thead>\n",
       "  <tbody>\n",
       "  </tbody>\n",
       "</table>\n",
       "</div>"
      ],
      "text/plain": [
       "Empty DataFrame\n",
       "Columns: [HHID, TAZ, HINC, hworkers, VEHICL, PERSONS, HHT, UNITTYPE, hinccat1]\n",
       "Index: []"
      ]
     },
     "execution_count": 4,
     "metadata": {},
     "output_type": "execute_result"
    }
   ],
   "source": [
    "unconnected_tazs = [2895,3141,3166,3279,3353,3434,3452,3453,3455,3461,3599,3600,3601,3602,3677,3747,3750,3794,4049,4080,4137,4158,\n",
    "                    4178,4186,4211,4511,4589,4643,4805,4846,4865,4868,4888,4900,4904,4905,4909,4914,4916,4997,5003,5144,5163,5167,\n",
    "                    5176,5217,5285,5338]\n",
    "hhfile[hhfile['TAZ'].isin(unconnected_tazs)]"
   ]
  },
  {
   "cell_type": "code",
   "execution_count": 17,
   "metadata": {},
   "outputs": [],
   "source": [
    "link_area_type = pd.read_csv('link_area_type.csv')"
   ]
  },
  {
   "cell_type": "code",
   "execution_count": 18,
   "metadata": {},
   "outputs": [
    {
     "data": {
      "text/html": [
       "<div>\n",
       "<style scoped>\n",
       "    .dataframe tbody tr th:only-of-type {\n",
       "        vertical-align: middle;\n",
       "    }\n",
       "\n",
       "    .dataframe tbody tr th {\n",
       "        vertical-align: top;\n",
       "    }\n",
       "\n",
       "    .dataframe thead th {\n",
       "        text-align: right;\n",
       "    }\n",
       "</style>\n",
       "<table border=\"1\" class=\"dataframe\">\n",
       "  <thead>\n",
       "    <tr style=\"text-align: right;\">\n",
       "      <th></th>\n",
       "      <th>A</th>\n",
       "      <th>B</th>\n",
       "      <th>AREATYPE</th>\n",
       "    </tr>\n",
       "  </thead>\n",
       "  <tbody>\n",
       "    <tr>\n",
       "      <th>0</th>\n",
       "      <td>1</td>\n",
       "      <td>1001671</td>\n",
       "      <td>2</td>\n",
       "    </tr>\n",
       "    <tr>\n",
       "      <th>1</th>\n",
       "      <td>1</td>\n",
       "      <td>1021297</td>\n",
       "      <td>2</td>\n",
       "    </tr>\n",
       "    <tr>\n",
       "      <th>2</th>\n",
       "      <td>1</td>\n",
       "      <td>1024255</td>\n",
       "      <td>2</td>\n",
       "    </tr>\n",
       "    <tr>\n",
       "      <th>3</th>\n",
       "      <td>2</td>\n",
       "      <td>1006730</td>\n",
       "      <td>1</td>\n",
       "    </tr>\n",
       "    <tr>\n",
       "      <th>4</th>\n",
       "      <td>2</td>\n",
       "      <td>1012189</td>\n",
       "      <td>1</td>\n",
       "    </tr>\n",
       "    <tr>\n",
       "      <th>...</th>\n",
       "      <td>...</td>\n",
       "      <td>...</td>\n",
       "      <td>...</td>\n",
       "    </tr>\n",
       "    <tr>\n",
       "      <th>1800114</th>\n",
       "      <td>5300145</td>\n",
       "      <td>2089282</td>\n",
       "      <td>3</td>\n",
       "    </tr>\n",
       "    <tr>\n",
       "      <th>1800115</th>\n",
       "      <td>5300146</td>\n",
       "      <td>2042761</td>\n",
       "      <td>3</td>\n",
       "    </tr>\n",
       "    <tr>\n",
       "      <th>1800116</th>\n",
       "      <td>5300147</td>\n",
       "      <td>2120662</td>\n",
       "      <td>3</td>\n",
       "    </tr>\n",
       "    <tr>\n",
       "      <th>1800117</th>\n",
       "      <td>5300148</td>\n",
       "      <td>2079543</td>\n",
       "      <td>3</td>\n",
       "    </tr>\n",
       "    <tr>\n",
       "      <th>1800118</th>\n",
       "      <td>5300149</td>\n",
       "      <td>2060925</td>\n",
       "      <td>3</td>\n",
       "    </tr>\n",
       "  </tbody>\n",
       "</table>\n",
       "<p>1800119 rows × 3 columns</p>\n",
       "</div>"
      ],
      "text/plain": [
       "               A        B  AREATYPE\n",
       "0              1  1001671         2\n",
       "1              1  1021297         2\n",
       "2              1  1024255         2\n",
       "3              2  1006730         1\n",
       "4              2  1012189         1\n",
       "...          ...      ...       ...\n",
       "1800114  5300145  2089282         3\n",
       "1800115  5300146  2042761         3\n",
       "1800116  5300147  2120662         3\n",
       "1800117  5300148  2079543         3\n",
       "1800118  5300149  2060925         3\n",
       "\n",
       "[1800119 rows x 3 columns]"
      ]
     },
     "execution_count": 18,
     "metadata": {},
     "output_type": "execute_result"
    }
   ],
   "source": [
    "\n"
   ]
  },
  {
   "cell_type": "code",
   "execution_count": null,
   "metadata": {},
   "outputs": [],
   "source": []
  }
 ],
 "metadata": {
  "kernelspec": {
   "display_name": "base",
   "language": "python",
   "name": "python3"
  },
  "language_info": {
   "codemirror_mode": {
    "name": "ipython",
    "version": 3
   },
   "file_extension": ".py",
   "mimetype": "text/x-python",
   "name": "python",
   "nbconvert_exporter": "python",
   "pygments_lexer": "ipython3",
   "version": "3.9.7"
  },
  "orig_nbformat": 4,
  "vscode": {
   "interpreter": {
    "hash": "23993445096db0194369790b6ff0c6c75da7bcd010686431f6eea1bc86398cd6"
   }
  }
 },
 "nbformat": 4,
 "nbformat_minor": 2
}
