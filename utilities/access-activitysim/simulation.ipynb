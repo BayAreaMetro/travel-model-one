{
 "metadata": {
  "name": "",
  "signature": "sha256:edc0578b7039c8f6366f8aa5df96e6ea0993c50bdfd3d7408789ade76ebe0a35"
 },
 "nbformat": 3,
 "nbformat_minor": 0,
 "worksheets": [
  {
   "cells": [
    {
     "cell_type": "markdown",
     "metadata": {},
     "source": [
      "# First Pass at Accessibility Simulation\n",
      "Very early days"
     ]
    },
    {
     "cell_type": "code",
     "collapsed": false,
     "input": [
      "%load_ext autoreload\n",
      "%autoreload 2\n",
      "import os\n",
      "import orca\n",
      "import pandas as pd"
     ],
     "language": "python",
     "metadata": {},
     "outputs": [
      {
       "output_type": "stream",
       "stream": "stdout",
       "text": [
        "The autoreload extension is already loaded. To reload it, use:\n",
        "  %reload_ext autoreload\n"
       ]
      }
     ],
     "prompt_number": 8
    },
    {
     "cell_type": "markdown",
     "metadata": {},
     "source": [
      "## Read the Data Store"
     ]
    },
    {
     "cell_type": "code",
     "collapsed": false,
     "input": [
      "store_file_name = \"M:/Development/Travel Model One/Accessibility/accessibility-activitysim/_working/data/mtc_asim.h5\"\n",
      "store = pd.HDFStore(store_file_name, \"r\")\n",
      "print(store)"
     ],
     "language": "python",
     "metadata": {},
     "outputs": [
      {
       "output_type": "stream",
       "stream": "stdout",
       "text": [
        "<class 'pandas.io.pytables.HDFStore'>\n",
        "File path: M:/Development/Travel Model One/Accessibility/accessibility-activitysim/_working/data/mtc_asim.h5\n",
        "/land_use/taz_data            frame        (shape->[1454,41])\n",
        "/persons                      frame        (shape->[52344,5])\n"
       ]
      }
     ],
     "prompt_number": 3
    },
    {
     "cell_type": "code",
     "collapsed": false,
     "input": [
      "# Keep here to close when need be\n",
      "store.close()"
     ],
     "language": "python",
     "metadata": {},
     "outputs": [],
     "prompt_number": 30
    },
    {
     "cell_type": "markdown",
     "metadata": {},
     "source": [
      "## Replace each of the defaults"
     ]
    },
    {
     "cell_type": "code",
     "collapsed": false,
     "input": [
      "orca.add_injectable(\"store\", store)"
     ],
     "language": "python",
     "metadata": {},
     "outputs": [],
     "prompt_number": 4
    },
    {
     "cell_type": "markdown",
     "metadata": {},
     "source": [
      "### Persons"
     ]
    },
    {
     "cell_type": "code",
     "collapsed": false,
     "input": [
      "run -i persons.py"
     ],
     "language": "python",
     "metadata": {},
     "outputs": [],
     "prompt_number": 5
    },
    {
     "cell_type": "code",
     "collapsed": false,
     "input": [
      "orca.get_table(\"persons\").to_frame().info()"
     ],
     "language": "python",
     "metadata": {},
     "outputs": [
      {
       "output_type": "stream",
       "stream": "stdout",
       "text": [
        "<class 'pandas.core.frame.DataFrame'>\n",
        "Int64Index: 52344 entries, 1 to 52344\n",
        "Data columns (total 5 columns):\n",
        "home_taz          52344 non-null int64\n",
        "home_sub_zone     52344 non-null int64\n",
        "auto_suff_cat     52344 non-null int64\n",
        "income_segment    52344 non-null int64\n",
        "value_of_time     52344 non-null float64\n",
        "dtypes: float64(1), int64(4)\n",
        "memory usage: 2.4 MB\n"
       ]
      }
     ],
     "prompt_number": 6
    },
    {
     "cell_type": "markdown",
     "metadata": {},
     "source": [
      "### Skims\n",
      "Roadway skims are working, see bug note below on transit skims"
     ]
    },
    {
     "cell_type": "code",
     "collapsed": false,
     "input": [
      "skim_dir = \"M:/Development/Travel Model One/Accessibility/accessibility-activitysim/_working/data/2010_04_ZZZ/\"\n",
      "am_hwy_skim_file_name = os.path.join(skim_dir,\"HWYSKMAM.omx\")\n",
      "am_trn_skim_file_name = os.path.join(skim_dir,\"trnskmam_wlk_trn_wlk.omx\")\n",
      "orca.add_injectable(\"am_hwy_skim_file_name\", am_hwy_skim_file_name)\n",
      "orca.add_injectable(\"am_trn_skim_file_name\", am_trn_skim_file_name)"
     ],
     "language": "python",
     "metadata": {},
     "outputs": [],
     "prompt_number": 34
    },
    {
     "cell_type": "code",
     "collapsed": false,
     "input": [
      "run -i skims.py"
     ],
     "language": "python",
     "metadata": {},
     "outputs": [],
     "prompt_number": 58
    },
    {
     "cell_type": "code",
     "collapsed": false,
     "input": [
      "#orca.get_injectable('skims')\n",
      "#orca.get_injectable('am_hwy_sov_dist')\n",
      "#orca.get_injectable('am_hwy_sov_time')\n",
      "#orca.get_injectable('am_trn_iwait')"
     ],
     "language": "python",
     "metadata": {},
     "outputs": [],
     "prompt_number": 61
    },
    {
     "cell_type": "markdown",
     "metadata": {},
     "source": [
      "# TODO\n",
      "Though the behavior seems identical, `get_injectable('am_trn_ivt')` fails with the following error:\n",
      "\n",
      "`NoSuchNodeError: group ''/'' does not have a child named ''/data/ivt''`\n",
      "\n",
      "I'm not sure what this means.  Proceed with just roadway skims for now.\n"
     ]
    },
    {
     "cell_type": "markdown",
     "metadata": {},
     "source": [
      "# START HERE"
     ]
    },
    {
     "cell_type": "code",
     "collapsed": false,
     "input": [],
     "language": "python",
     "metadata": {},
     "outputs": []
    }
   ],
   "metadata": {}
  }
 ]
}