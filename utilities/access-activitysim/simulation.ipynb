{
 "metadata": {
  "name": "",
  "signature": "sha256:0de7441af2ee33525a7dc76dbb441e77f7b1dc81a950f964cfda47f5c0ce5ccb"
 },
 "nbformat": 3,
 "nbformat_minor": 0,
 "worksheets": [
  {
   "cells": [
    {
     "cell_type": "markdown",
     "metadata": {},
     "source": [
      "# First Pass at Accessibility Simulation\n",
      "Very early days"
     ]
    },
    {
     "cell_type": "code",
     "collapsed": false,
     "input": [
      "%load_ext autoreload\n",
      "%autoreload 2\n",
      "import os\n",
      "import orca\n",
      "import pandas as pd"
     ],
     "language": "python",
     "metadata": {},
     "outputs": [],
     "prompt_number": 1
    },
    {
     "cell_type": "code",
     "collapsed": false,
     "input": [
      "WORK_DIR = \"M:/Development/Travel Model One/Accessibility/accessibility-activitysim/_working/data/\"\n",
      "#WORK_DIR = \"../../../activitysim-experiments\""
     ],
     "language": "python",
     "metadata": {},
     "outputs": [],
     "prompt_number": 2
    },
    {
     "cell_type": "markdown",
     "metadata": {},
     "source": [
      "## Read the Data Store"
     ]
    },
    {
     "cell_type": "code",
     "collapsed": false,
     "input": [
      "store_file_name = os.path.join(WORK_DIR, \"mtc_asim.h5\")\n",
      "store = pd.HDFStore(store_file_name, \"r\")\n",
      "print(store)"
     ],
     "language": "python",
     "metadata": {},
     "outputs": [
      {
       "output_type": "stream",
       "stream": "stdout",
       "text": [
        "<class 'pandas.io.pytables.HDFStore'>\n",
        "File path: M:/Development/Travel Model One/Accessibility/accessibility-activitysim/_working/data/mtc_asim.h5\n",
        "/land_use/taz_data            frame        (shape->[1454,41])\n",
        "/persons                      frame        (shape->[52344,5])\n"
       ]
      }
     ],
     "prompt_number": 3
    },
    {
     "cell_type": "code",
     "collapsed": false,
     "input": [
      "# Keep here to close when need be\n",
      "#store.close()"
     ],
     "language": "python",
     "metadata": {},
     "outputs": [],
     "prompt_number": 4
    },
    {
     "cell_type": "markdown",
     "metadata": {},
     "source": [
      "## Replace each of the defaults"
     ]
    },
    {
     "cell_type": "code",
     "collapsed": false,
     "input": [
      "orca.add_injectable(\"store\", store)"
     ],
     "language": "python",
     "metadata": {},
     "outputs": [],
     "prompt_number": 5
    },
    {
     "cell_type": "markdown",
     "metadata": {},
     "source": [
      "### Persons"
     ]
    },
    {
     "cell_type": "code",
     "collapsed": false,
     "input": [
      "run -i persons.py"
     ],
     "language": "python",
     "metadata": {},
     "outputs": [],
     "prompt_number": 6
    },
    {
     "cell_type": "code",
     "collapsed": false,
     "input": [
      "orca.get_table(\"persons\").to_frame().info()"
     ],
     "language": "python",
     "metadata": {},
     "outputs": [
      {
       "output_type": "stream",
       "stream": "stdout",
       "text": [
        "<class 'pandas.core.frame.DataFrame'>\n",
        "Int64Index: 52344 entries, 1 to 52344\n",
        "Data columns (total 5 columns):\n",
        "home_taz          52344 non-null int64\n",
        "home_sub_zone     52344 non-null int64\n",
        "auto_suff_cat     52344 non-null int64\n",
        "income_segment    52344 non-null int64\n",
        "value_of_time     52344 non-null float64\n",
        "dtypes: float64(1), int64(4)\n",
        "memory usage: 2.4 MB\n"
       ]
      }
     ],
     "prompt_number": 7
    },
    {
     "cell_type": "markdown",
     "metadata": {},
     "source": [
      "### Skims\n",
      "Roadway skims are working, see bug note below on transit skims"
     ]
    },
    {
     "cell_type": "code",
     "collapsed": false,
     "input": [
      "# TODO: put file path names in the settings object, and pass the settings object to skims (or include it)\n",
      "am_hwy_skim_file_name = os.path.join(WORK_DIR, \"2010_04_ZZZ\", \"HWYSKMAM.omx\")\n",
      "am_trn_skim_file_name = os.path.join(WORK_DIR, \"2010_04_ZZZ\", \"trnskmam_wlk_trn_wlk.omx\")\n",
      "orca.add_injectable(\"am_hwy_skim_file_name\", am_hwy_skim_file_name)\n",
      "orca.add_injectable(\"am_trn_skim_file_name\", am_trn_skim_file_name)"
     ],
     "language": "python",
     "metadata": {},
     "outputs": [],
     "prompt_number": 8
    },
    {
     "cell_type": "code",
     "collapsed": false,
     "input": [
      "run -i skims.py"
     ],
     "language": "python",
     "metadata": {},
     "outputs": [],
     "prompt_number": 9
    },
    {
     "cell_type": "code",
     "collapsed": false,
     "input": [
      "orca.get_injectable('skims')"
     ],
     "language": "python",
     "metadata": {},
     "outputs": [
      {
       "metadata": {},
       "output_type": "pyout",
       "prompt_number": 34,
       "text": [
        "<activitysim.skim.Skims at 0xe846588>"
       ]
      }
     ],
     "prompt_number": 34
    },
    {
     "cell_type": "markdown",
     "metadata": {},
     "source": [
      "## Workplace Location simulate (early days)"
     ]
    },
    {
     "cell_type": "code",
     "collapsed": false,
     "input": [
      "run -i workplace_location.py"
     ],
     "language": "python",
     "metadata": {},
     "outputs": [],
     "prompt_number": 29
    },
    {
     "cell_type": "code",
     "collapsed": false,
     "input": [
      "run -i misc.py"
     ],
     "language": "python",
     "metadata": {},
     "outputs": [],
     "prompt_number": 30
    },
    {
     "cell_type": "code",
     "collapsed": false,
     "input": [
      "run -i size_terms.py"
     ],
     "language": "python",
     "metadata": {},
     "outputs": [],
     "prompt_number": 31
    },
    {
     "cell_type": "code",
     "collapsed": false,
     "input": [
      "run -i landuse.py"
     ],
     "language": "python",
     "metadata": {},
     "outputs": [],
     "prompt_number": 32
    },
    {
     "cell_type": "code",
     "collapsed": false,
     "input": [
      "orca.run([\"workplace_location_simulate\"])"
     ],
     "language": "python",
     "metadata": {},
     "outputs": [
      {
       "output_type": "stream",
       "stream": "stdout",
       "text": [
        "Running step 'workplace_location_simulate'\n",
        "WARNING: Some columns have no variability:\n"
       ]
      },
      {
       "output_type": "stream",
       "stream": "stdout",
       "text": [
        "[\"@(df.income_segment==1)&(df['work, low']==0)\"\n",
        " \"@(df.income_segment==2)&(df['work, med']==0)\"\n",
        " \"@(df.income_segment==3)&(df['work, high']==0)\"]\n",
        "Describe of choices:\n"
       ]
      },
      {
       "output_type": "stream",
       "stream": "stdout",
       "text": [
        "count    52344.000000\n",
        "mean       709.862659\n",
        "std        421.655858\n",
        "min          1.000000\n",
        "25%        356.000000\n",
        "50%        713.000000\n",
        "75%       1067.000000\n",
        "max       1454.000000\n",
        "Name: destination_taz, dtype: float64\n",
        "Time to execute step 'workplace_location_simulate': 29.20 s\n",
        "Total time to execute iteration 1 with iteration value None: 29.20 s\n"
       ]
      }
     ],
     "prompt_number": 33
    },
    {
     "cell_type": "code",
     "collapsed": false,
     "input": [],
     "language": "python",
     "metadata": {},
     "outputs": []
    }
   ],
   "metadata": {}
  }
 ]
}