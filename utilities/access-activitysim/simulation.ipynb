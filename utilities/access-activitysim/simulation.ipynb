{
 "metadata": {
  "name": "",
  "signature": "sha256:82407f7582fb7bc388b58f1c480666501b1b0c2508dd61ab4b59c6e183afebe7"
 },
 "nbformat": 3,
 "nbformat_minor": 0,
 "worksheets": [
  {
   "cells": [
    {
     "cell_type": "markdown",
     "metadata": {},
     "source": [
      "# First Pass at Accessibility Simulation"
     ]
    },
    {
     "cell_type": "markdown",
     "metadata": {},
     "source": [
      "Current bug: how to read in the store and then get access to it, perhaps just do it out of orca for now"
     ]
    },
    {
     "cell_type": "code",
     "collapsed": false,
     "input": [
      "%load_ext autoreload\n",
      "%autoreload 2\n",
      "import os\n",
      "import orca\n",
      "import pandas as pd"
     ],
     "language": "python",
     "metadata": {},
     "outputs": [],
     "prompt_number": 1
    },
    {
     "cell_type": "code",
     "collapsed": false,
     "input": [
      "run -i misc.py"
     ],
     "language": "python",
     "metadata": {},
     "outputs": [],
     "prompt_number": 16
    },
    {
     "cell_type": "code",
     "collapsed": false,
     "input": [
      "orca.get_injectable('store')"
     ],
     "language": "python",
     "metadata": {},
     "outputs": [
      {
       "metadata": {},
       "output_type": "pyout",
       "prompt_number": 3,
       "text": [
        "<class 'pandas.io.pytables.HDFStore'>\n",
        "File path: M:/Development/Travel Model One/Accessibility/accessibility-activitysim/_working/data\\mtc_asim.h5\n",
        "/land_use/taz_data            frame        (shape->[1454,41])\n",
        "/persons                      frame        (shape->[52344,5])"
       ]
      }
     ],
     "prompt_number": 3
    },
    {
     "cell_type": "markdown",
     "metadata": {},
     "source": [
      "## Replace each of the defaults"
     ]
    },
    {
     "cell_type": "markdown",
     "metadata": {},
     "source": [
      "### Persons"
     ]
    },
    {
     "cell_type": "code",
     "collapsed": false,
     "input": [
      "run -i persons.py"
     ],
     "language": "python",
     "metadata": {},
     "outputs": [],
     "prompt_number": 4
    },
    {
     "cell_type": "code",
     "collapsed": false,
     "input": [
      "orca.get_table(\"persons\").to_frame().info()"
     ],
     "language": "python",
     "metadata": {},
     "outputs": [
      {
       "output_type": "stream",
       "stream": "stdout",
       "text": [
        "<class 'pandas.core.frame.DataFrame'>\n",
        "Int64Index: 52344 entries, 1 to 52344\n",
        "Data columns (total 5 columns):\n",
        "home_taz          52344 non-null int64\n",
        "home_sub_zone     52344 non-null int64\n",
        "auto_suff_cat     52344 non-null int64\n",
        "income_segment    52344 non-null int64\n",
        "value_of_time     52344 non-null float64\n",
        "dtypes: float64(1), int64(4)\n",
        "memory usage: 2.4 MB\n"
       ]
      }
     ],
     "prompt_number": 5
    },
    {
     "cell_type": "markdown",
     "metadata": {},
     "source": [
      "### Skims"
     ]
    },
    {
     "cell_type": "code",
     "collapsed": false,
     "input": [
      "run -i skims.py"
     ],
     "language": "python",
     "metadata": {},
     "outputs": [],
     "prompt_number": 6
    },
    {
     "cell_type": "code",
     "collapsed": false,
     "input": [
      "orca.get_injectable('skims')"
     ],
     "language": "python",
     "metadata": {},
     "outputs": [
      {
       "metadata": {},
       "output_type": "pyout",
       "prompt_number": 7,
       "text": [
        "<activitysim.skim.Skims at 0xb823f60>"
       ]
      }
     ],
     "prompt_number": 7
    },
    {
     "cell_type": "markdown",
     "metadata": {},
     "source": [
      "## Workplace Location simulate"
     ]
    },
    {
     "cell_type": "code",
     "collapsed": false,
     "input": [
      "run -i workplace_location.py"
     ],
     "language": "python",
     "metadata": {},
     "outputs": [],
     "prompt_number": 12
    },
    {
     "cell_type": "code",
     "collapsed": false,
     "input": [
      "run -i size_terms.py"
     ],
     "language": "python",
     "metadata": {},
     "outputs": [],
     "prompt_number": 13
    },
    {
     "cell_type": "code",
     "collapsed": false,
     "input": [
      "run -i landuse.py"
     ],
     "language": "python",
     "metadata": {},
     "outputs": [],
     "prompt_number": 14
    },
    {
     "cell_type": "code",
     "collapsed": false,
     "input": [
      "orca.run([\"workplace_location_simulate\"])"
     ],
     "language": "python",
     "metadata": {},
     "outputs": [
      {
       "output_type": "stream",
       "stream": "stdout",
       "text": [
        "Running step 'workplace_location_simulate'\n",
        "WARNING: Some columns have no variability:\n"
       ]
      },
      {
       "output_type": "stream",
       "stream": "stdout",
       "text": [
        "[\"@(df.income_segment==1)&(df['work_low']==0)\"\n",
        " \"@(df.income_segment==4)&(df['work_very_high']==0)\"]\n",
        "Describe of choices:\n"
       ]
      },
      {
       "output_type": "stream",
       "stream": "stdout",
       "text": [
        "count    52344.000000\n",
        "mean       718.839638\n",
        "std        423.191976\n",
        "min          1.000000\n",
        "25%        362.000000\n",
        "50%        724.000000\n",
        "75%       1080.000000\n",
        "max       1454.000000\n",
        "Name: destination_taz, dtype: float64\n",
        "Time to execute step 'workplace_location_simulate': 39.46 s\n",
        "Total time to execute iteration 1 with iteration value None: 39.46 s\n"
       ]
      }
     ],
     "prompt_number": 15
    },
    {
     "cell_type": "code",
     "collapsed": false,
     "input": [
      "orca.get_table(\"persons\").to_frame().info()"
     ],
     "language": "python",
     "metadata": {},
     "outputs": []
    },
    {
     "cell_type": "markdown",
     "metadata": {},
     "source": [
      "## Mode choice simulate\n",
      "Very early days"
     ]
    },
    {
     "cell_type": "code",
     "collapsed": false,
     "input": [
      "orca.get_injectable('close_store')"
     ],
     "language": "python",
     "metadata": {},
     "outputs": [],
     "prompt_number": 17
    },
    {
     "cell_type": "code",
     "collapsed": false,
     "input": [],
     "language": "python",
     "metadata": {},
     "outputs": []
    }
   ],
   "metadata": {}
  }
 ]
}