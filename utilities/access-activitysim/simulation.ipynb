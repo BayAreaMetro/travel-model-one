{
 "metadata": {
  "name": "",
  "signature": "sha256:e369b4fb44f055f6d8a392798eca687a4063e530621abb52d4f9153aac56958f"
 },
 "nbformat": 3,
 "nbformat_minor": 0,
 "worksheets": [
  {
   "cells": [
    {
     "cell_type": "markdown",
     "metadata": {},
     "source": [
      "# First Pass at Accessibility Simulation\n",
      "Very early days"
     ]
    },
    {
     "cell_type": "code",
     "collapsed": false,
     "input": [
      "%load_ext autoreload\n",
      "%autoreload 2\n",
      "import os\n",
      "import orca\n",
      "import pandas as pd"
     ],
     "language": "python",
     "metadata": {},
     "outputs": [],
     "prompt_number": 1
    },
    {
     "cell_type": "code",
     "collapsed": false,
     "input": [
      "#WORK_DIR = \"M:/Development/Travel Model One/Accessibility/accessibility-activitysim/_working/data/\"\n",
      "WORK_DIR = \"../../../activitysim-experiments\""
     ],
     "language": "python",
     "metadata": {},
     "outputs": [],
     "prompt_number": 3
    },
    {
     "cell_type": "markdown",
     "metadata": {},
     "source": [
      "## Read the Data Store"
     ]
    },
    {
     "cell_type": "code",
     "collapsed": false,
     "input": [
      "store_file_name = os.path.join(WORK_DIR, \"mtc_asim.h5\")\n",
      "store = pd.HDFStore(store_file_name, \"r\")\n",
      "print(store)"
     ],
     "language": "python",
     "metadata": {},
     "outputs": [
      {
       "output_type": "stream",
       "stream": "stdout",
       "text": [
        "<class 'pandas.io.pytables.HDFStore'>\n",
        "File path: ../../../activitysim-experiments/mtc_asim.h5\n",
        "/land_use/taz_data            frame        (shape->[1454,41])\n",
        "/persons                      frame        (shape->[52344,5])\n"
       ]
      }
     ],
     "prompt_number": 6
    },
    {
     "cell_type": "code",
     "collapsed": false,
     "input": [
      "# Keep here to close when need be\n",
      "#store.close()"
     ],
     "language": "python",
     "metadata": {},
     "outputs": [],
     "prompt_number": 30
    },
    {
     "cell_type": "markdown",
     "metadata": {},
     "source": [
      "## Replace each of the defaults"
     ]
    },
    {
     "cell_type": "code",
     "collapsed": false,
     "input": [
      "orca.add_injectable(\"store\", store)"
     ],
     "language": "python",
     "metadata": {},
     "outputs": [],
     "prompt_number": 7
    },
    {
     "cell_type": "markdown",
     "metadata": {},
     "source": [
      "### Persons"
     ]
    },
    {
     "cell_type": "code",
     "collapsed": false,
     "input": [
      "run -i persons.py"
     ],
     "language": "python",
     "metadata": {},
     "outputs": [],
     "prompt_number": 8
    },
    {
     "cell_type": "code",
     "collapsed": false,
     "input": [
      "orca.get_table(\"persons\").to_frame().info()"
     ],
     "language": "python",
     "metadata": {},
     "outputs": [
      {
       "output_type": "stream",
       "stream": "stdout",
       "text": [
        "<class 'pandas.core.frame.DataFrame'>\n",
        "Int64Index: 52344 entries, 1 to 52344\n",
        "Data columns (total 5 columns):\n",
        "home_taz          52344 non-null int64\n",
        "home_sub_zone     52344 non-null int64\n",
        "auto_suff_cat     52344 non-null int64\n",
        "income_segment    52344 non-null int64\n",
        "value_of_time     52344 non-null float64\n",
        "dtypes: float64(1), int64(4)\n",
        "memory usage: 2.4 MB\n"
       ]
      }
     ],
     "prompt_number": 9
    },
    {
     "cell_type": "markdown",
     "metadata": {},
     "source": [
      "### Skims\n",
      "Roadway skims are working, see bug note below on transit skims"
     ]
    },
    {
     "cell_type": "code",
     "collapsed": false,
     "input": [
      "am_hwy_skim_file_name = os.path.join(WORK_DIR, \"2010_04_ZZZ\", \"HWYSKMAM.omx\")\n",
      "am_trn_skim_file_name = os.path.join(WORK_DIR, \"2010_04_ZZZ\", \"trnskmam_wlk_trn_wlk.omx\")\n",
      "orca.add_injectable(\"am_hwy_skim_file_name\", am_hwy_skim_file_name)\n",
      "orca.add_injectable(\"am_trn_skim_file_name\", am_trn_skim_file_name)"
     ],
     "language": "python",
     "metadata": {},
     "outputs": [],
     "prompt_number": 14
    },
    {
     "cell_type": "code",
     "collapsed": false,
     "input": [
      "run -i skims.py"
     ],
     "language": "python",
     "metadata": {},
     "outputs": [],
     "prompt_number": 15
    },
    {
     "cell_type": "code",
     "collapsed": false,
     "input": [
      "orca.get_injectable('skims')\n",
      "#orca.get_injectable('am_hwy_sov_dist')\n",
      "#orca.get_injectable('am_hwy_sov_time')\n",
      "#orca.get_injectable('am_trn_iwait')"
     ],
     "language": "python",
     "metadata": {},
     "outputs": []
    },
    {
     "cell_type": "markdown",
     "metadata": {},
     "source": [
      "# TODO\n",
      "Though the behavior seems identical, `get_injectable('am_trn_ivt')` fails with the following error:\n",
      "\n",
      "`NoSuchNodeError: group ''/'' does not have a child named ''/data/ivt''`\n",
      "\n",
      "I'm not sure what this means.  Proceed with just roadway skims for now.\n"
     ]
    },
    {
     "cell_type": "markdown",
     "metadata": {},
     "source": [
      "## Workplace Location simulate (early days)"
     ]
    },
    {
     "cell_type": "code",
     "collapsed": false,
     "input": [
      "run -i workplace_location.py"
     ],
     "language": "python",
     "metadata": {},
     "outputs": [],
     "prompt_number": 35
    },
    {
     "cell_type": "code",
     "collapsed": false,
     "input": [
      "run -i misc.py"
     ],
     "language": "python",
     "metadata": {},
     "outputs": [],
     "prompt_number": 36
    },
    {
     "cell_type": "code",
     "collapsed": false,
     "input": [
      "run -i size_terms.py"
     ],
     "language": "python",
     "metadata": {},
     "outputs": [],
     "prompt_number": 37
    },
    {
     "cell_type": "code",
     "collapsed": false,
     "input": [
      "run -i landuse.py"
     ],
     "language": "python",
     "metadata": {},
     "outputs": [],
     "prompt_number": 38
    },
    {
     "cell_type": "markdown",
     "metadata": {},
     "source": [
      "# START HERE -- am i missing an intialization step or is this some skim debugging issuse"
     ]
    },
    {
     "cell_type": "code",
     "collapsed": false,
     "input": [
      "orca.run([\"workplace_location_simulate\"])"
     ],
     "language": "python",
     "metadata": {},
     "outputs": [
      {
       "output_type": "stream",
       "stream": "stdout",
       "text": [
        "Running step 'workplace_location_simulate'\n",
        "Variable evaluation failed for: @skims['am_hwy_sov_dist'].clip(1)"
       ]
      },
      {
       "output_type": "stream",
       "stream": "stdout",
       "text": [
        "\n"
       ]
      },
      {
       "ename": "KeyError",
       "evalue": "'TAZ_r'",
       "output_type": "pyerr",
       "traceback": [
        "\u001b[0;31m---------------------------------------------------------------------------\u001b[0m\n\u001b[0;31mKeyError\u001b[0m                                  Traceback (most recent call last)",
        "\u001b[0;32m<ipython-input-39-4c7e2fb1975b>\u001b[0m in \u001b[0;36m<module>\u001b[0;34m()\u001b[0m\n\u001b[0;32m----> 1\u001b[0;31m \u001b[0morca\u001b[0m\u001b[0;34m.\u001b[0m\u001b[0mrun\u001b[0m\u001b[0;34m(\u001b[0m\u001b[0;34m[\u001b[0m\u001b[0;34m\"workplace_location_simulate\"\u001b[0m\u001b[0;34m]\u001b[0m\u001b[0;34m)\u001b[0m\u001b[0;34m\u001b[0m\u001b[0m\n\u001b[0m",
        "\u001b[0;32m/Users/DavidWork/anaconda/lib/python2.7/site-packages/orca-1.1.0-py2.7.egg/orca/orca.pyc\u001b[0m in \u001b[0;36mrun\u001b[0;34m(steps, iter_vars, data_out, out_interval)\u001b[0m\n\u001b[1;32m   1569\u001b[0m                 \u001b[0mstep\u001b[0m \u001b[0;34m=\u001b[0m \u001b[0mget_step\u001b[0m\u001b[0;34m(\u001b[0m\u001b[0mstep_name\u001b[0m\u001b[0;34m)\u001b[0m\u001b[0;34m\u001b[0m\u001b[0m\n\u001b[1;32m   1570\u001b[0m                 \u001b[0mt2\u001b[0m \u001b[0;34m=\u001b[0m \u001b[0mtime\u001b[0m\u001b[0;34m.\u001b[0m\u001b[0mtime\u001b[0m\u001b[0;34m(\u001b[0m\u001b[0;34m)\u001b[0m\u001b[0;34m\u001b[0m\u001b[0m\n\u001b[0;32m-> 1571\u001b[0;31m                 \u001b[0mstep\u001b[0m\u001b[0;34m(\u001b[0m\u001b[0;34m)\u001b[0m\u001b[0;34m\u001b[0m\u001b[0m\n\u001b[0m\u001b[1;32m   1572\u001b[0m                 print(\"Time to execute step '{}': {:.2f} s\".format(\n\u001b[1;32m   1573\u001b[0m                       step_name, time.time() - t2))\n",
        "\u001b[0;32m/Users/DavidWork/anaconda/lib/python2.7/site-packages/orca-1.1.0-py2.7.egg/orca/orca.pyc\u001b[0m in \u001b[0;36m__call__\u001b[0;34m(self)\u001b[0m\n\u001b[1;32m    682\u001b[0m             kwargs = _collect_variables(names=self._argspec.args,\n\u001b[1;32m    683\u001b[0m                                         expressions=self._argspec.defaults)\n\u001b[0;32m--> 684\u001b[0;31m             \u001b[0;32mreturn\u001b[0m \u001b[0mself\u001b[0m\u001b[0;34m.\u001b[0m\u001b[0m_func\u001b[0m\u001b[0;34m(\u001b[0m\u001b[0;34m**\u001b[0m\u001b[0mkwargs\u001b[0m\u001b[0;34m)\u001b[0m\u001b[0;34m\u001b[0m\u001b[0m\n\u001b[0m\u001b[1;32m    685\u001b[0m \u001b[0;34m\u001b[0m\u001b[0m\n\u001b[1;32m    686\u001b[0m     \u001b[0;32mdef\u001b[0m \u001b[0m_tables_used\u001b[0m\u001b[0;34m(\u001b[0m\u001b[0mself\u001b[0m\u001b[0;34m)\u001b[0m\u001b[0;34m:\u001b[0m\u001b[0;34m\u001b[0m\u001b[0m\n",
        "\u001b[0;32m/Users/DavidWork/Documents/travel-model-one/utilities/access-activitysim/workplace_location.py\u001b[0m in \u001b[0;36mworkplace_location_simulate\u001b[0;34m(set_random_seed, persons, workplace_location_spec, skims, destination_size_terms)\u001b[0m\n\u001b[1;32m     46\u001b[0m                                            \u001b[0mskims\u001b[0m\u001b[0;34m=\u001b[0m\u001b[0mskims\u001b[0m\u001b[0;34m,\u001b[0m\u001b[0;34m\u001b[0m\u001b[0m\n\u001b[1;32m     47\u001b[0m                                            \u001b[0mlocals_d\u001b[0m\u001b[0;34m=\u001b[0m\u001b[0mlocals_d\u001b[0m\u001b[0;34m,\u001b[0m\u001b[0;34m\u001b[0m\u001b[0m\n\u001b[0;32m---> 48\u001b[0;31m                                            sample_size=50)\n\u001b[0m\u001b[1;32m     49\u001b[0m \u001b[0;34m\u001b[0m\u001b[0m\n\u001b[1;32m     50\u001b[0m     \u001b[0mchoices\u001b[0m \u001b[0;34m=\u001b[0m \u001b[0mchoices\u001b[0m\u001b[0;34m.\u001b[0m\u001b[0mreindex\u001b[0m\u001b[0;34m(\u001b[0m\u001b[0mpersons\u001b[0m\u001b[0;34m.\u001b[0m\u001b[0mindex\u001b[0m\u001b[0;34m)\u001b[0m\u001b[0;34m\u001b[0m\u001b[0m\n",
        "\u001b[0;32m/Users/DavidWork/anaconda/lib/python2.7/site-packages/activitysim/activitysim.pyc\u001b[0m in \u001b[0;36minteraction_simulate\u001b[0;34m(choosers, alternatives, spec, skims, locals_d, sample_size)\u001b[0m\n\u001b[1;32m    260\u001b[0m \u001b[0;34m\u001b[0m\u001b[0m\n\u001b[1;32m    261\u001b[0m     \u001b[0;31m# evaluate variables from the spec\u001b[0m\u001b[0;34m\u001b[0m\u001b[0;34m\u001b[0m\u001b[0m\n\u001b[0;32m--> 262\u001b[0;31m     \u001b[0mmodel_design\u001b[0m \u001b[0;34m=\u001b[0m \u001b[0meval_variables\u001b[0m\u001b[0;34m(\u001b[0m\u001b[0mspec\u001b[0m\u001b[0;34m.\u001b[0m\u001b[0mindex\u001b[0m\u001b[0;34m,\u001b[0m \u001b[0mdf\u001b[0m\u001b[0;34m,\u001b[0m \u001b[0mlocals_d\u001b[0m\u001b[0;34m)\u001b[0m\u001b[0;34m\u001b[0m\u001b[0m\n\u001b[0m\u001b[1;32m    263\u001b[0m \u001b[0;34m\u001b[0m\u001b[0m\n\u001b[1;32m    264\u001b[0m     \u001b[0m_check_for_variability\u001b[0m\u001b[0;34m(\u001b[0m\u001b[0mmodel_design\u001b[0m\u001b[0;34m)\u001b[0m\u001b[0;34m\u001b[0m\u001b[0m\n",
        "\u001b[0;32m/Users/DavidWork/anaconda/lib/python2.7/site-packages/activitysim/activitysim.pyc\u001b[0m in \u001b[0;36meval_variables\u001b[0;34m(exprs, df, locals_d)\u001b[0m\n\u001b[1;32m    102\u001b[0m         \u001b[0;32mexcept\u001b[0m \u001b[0mException\u001b[0m \u001b[0;32mas\u001b[0m \u001b[0merr\u001b[0m\u001b[0;34m:\u001b[0m\u001b[0;34m\u001b[0m\u001b[0m\n\u001b[1;32m    103\u001b[0m             \u001b[0;32mprint\u001b[0m \u001b[0;34m\"Variable evaluation failed for: %s\"\u001b[0m \u001b[0;34m%\u001b[0m \u001b[0mstr\u001b[0m\u001b[0;34m(\u001b[0m\u001b[0me\u001b[0m\u001b[0;34m)\u001b[0m\u001b[0;34m\u001b[0m\u001b[0m\n\u001b[0;32m--> 104\u001b[0;31m             \u001b[0;32mraise\u001b[0m \u001b[0merr\u001b[0m\u001b[0;34m\u001b[0m\u001b[0m\n\u001b[0m\u001b[1;32m    105\u001b[0m \u001b[0;34m\u001b[0m\u001b[0m\n\u001b[1;32m    106\u001b[0m     \u001b[0;32mreturn\u001b[0m \u001b[0mpd\u001b[0m\u001b[0;34m.\u001b[0m\u001b[0mDataFrame\u001b[0m\u001b[0;34m.\u001b[0m\u001b[0mfrom_items\u001b[0m\u001b[0;34m(\u001b[0m\u001b[0ml\u001b[0m\u001b[0;34m)\u001b[0m\u001b[0;34m\u001b[0m\u001b[0m\n",
        "\u001b[0;31mKeyError\u001b[0m: 'TAZ_r'"
       ]
      }
     ],
     "prompt_number": 39
    },
    {
     "cell_type": "code",
     "collapsed": false,
     "input": [],
     "language": "python",
     "metadata": {},
     "outputs": []
    }
   ],
   "metadata": {}
  }
 ]
}