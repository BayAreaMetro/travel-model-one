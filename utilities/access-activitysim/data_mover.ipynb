{
 "metadata": {
  "name": "",
  "signature": "sha256:58f04cd3005f3918587d9c17158ee4440f49c951351d7cd6f706170bc5c79a0f"
 },
 "nbformat": 3,
 "nbformat_minor": 0,
 "worksheets": [
  {
   "cells": [
    {
     "cell_type": "markdown",
     "metadata": {},
     "source": [
      "# Build Data Store"
     ]
    },
    {
     "cell_type": "markdown",
     "metadata": {},
     "source": [
      "### Python overhead"
     ]
    },
    {
     "cell_type": "code",
     "collapsed": false,
     "input": [
      "import pandas as pd\n",
      "import os\n",
      "from activitysim import activitysim as asim"
     ],
     "language": "python",
     "metadata": {},
     "outputs": [],
     "prompt_number": 1
    },
    {
     "cell_type": "markdown",
     "metadata": {},
     "source": [
      "### Remote I/O locations"
     ]
    },
    {
     "cell_type": "code",
     "collapsed": false,
     "input": [
      "LANDUSE_DIR = \"M:/Development/Travel Model One/Version 04/2010_04_ZZZ/OUTPUT\"\n",
      "POPSYN_DIR  = \"M:/Development/Travel Model One/Accessibility/accessibility-activitysim/_working/data\"\n",
      "TGTFILE     = \"M:/Development/Travel Model One/Accessibility/accessibility-activitysim/_working/data/mtc_asim.h5\""
     ],
     "language": "python",
     "metadata": {},
     "outputs": [],
     "prompt_number": 2
    },
    {
     "cell_type": "markdown",
     "metadata": {},
     "source": [
      "### Create the data store"
     ]
    },
    {
     "cell_type": "code",
     "collapsed": false,
     "input": [
      "store = pd.HDFStore(TGTFILE, \"w\")"
     ],
     "language": "python",
     "metadata": {},
     "outputs": [],
     "prompt_number": 3
    },
    {
     "cell_type": "markdown",
     "metadata": {},
     "source": [
      "### Set column aliases"
     ]
    },
    {
     "cell_type": "code",
     "collapsed": false,
     "input": [
      "col_map = {\n",
      "    \"HHID\": \"household_id\",\n",
      "    \"AGE\": \"age\",\n",
      "    \"SEX\": \"sex\",\n",
      "    \"hworkers\": \"workers\",\n",
      "    \"HINC\": \"income\",\n",
      "    \"AREATYPE\": \"area_type\"\n",
      "}"
     ],
     "language": "python",
     "metadata": {},
     "outputs": [],
     "prompt_number": 4
    },
    {
     "cell_type": "markdown",
     "metadata": {},
     "source": [
      "### Read the data into the store"
     ]
    },
    {
     "cell_type": "code",
     "collapsed": false,
     "input": [
      "df = pd.read_csv(os.path.join(LANDUSE_DIR, \"tazData.csv\"), index_col=\"ZONE\")\n",
      "df.columns = [col_map.get(s, s) for s in df.columns]\n",
      "store[\"land_use/taz_data\"] = df"
     ],
     "language": "python",
     "metadata": {},
     "outputs": [],
     "prompt_number": 5
    },
    {
     "cell_type": "code",
     "collapsed": false,
     "input": [
      "df = pd.read_csv(os.path.join(POPSYN_DIR, \"synthetic-people-for-accessibility.csv\"), index_col=\"person_id\")\n",
      "df.columns = [col_map.get(s, s) for s in df.columns]\n",
      "store[\"persons\"] = df"
     ],
     "language": "python",
     "metadata": {},
     "outputs": [],
     "prompt_number": 6
    },
    {
     "cell_type": "code",
     "collapsed": false,
     "input": [
      "store.close()"
     ],
     "language": "python",
     "metadata": {},
     "outputs": [],
     "prompt_number": 7
    },
    {
     "cell_type": "code",
     "collapsed": false,
     "input": [],
     "language": "python",
     "metadata": {},
     "outputs": [],
     "prompt_number": 7
    }
   ],
   "metadata": {}
  }
 ]
}