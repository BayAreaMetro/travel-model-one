{
 "metadata": {
  "name": "",
  "signature": "sha256:2e1a92b00c6df6d32f1c38afc5f389edfdfcf1e553fcca5800e22b43ed84b6a8"
 },
 "nbformat": 3,
 "nbformat_minor": 0,
 "worksheets": [
  {
   "cells": [
    {
     "cell_type": "markdown",
     "metadata": {},
     "source": [
      "# First Pass at Accessibility Simulation"
     ]
    },
    {
     "cell_type": "markdown",
     "metadata": {},
     "source": [
      "Current bug: how to read in the store and then get access to it, perhaps just do it out of orca for now"
     ]
    },
    {
     "cell_type": "code",
     "collapsed": false,
     "input": [
      "%load_ext autoreload\n",
      "%autoreload 2\n",
      "import os\n",
      "import orca\n",
      "import pandas as pd"
     ],
     "language": "python",
     "metadata": {},
     "outputs": [
      {
       "output_type": "stream",
       "stream": "stdout",
       "text": [
        "The autoreload extension is already loaded. To reload it, use:\n",
        "  %reload_ext autoreload\n"
       ]
      }
     ],
     "prompt_number": 16
    },
    {
     "cell_type": "code",
     "collapsed": false,
     "input": [
      "run -i misc.py"
     ],
     "language": "python",
     "metadata": {},
     "outputs": [],
     "prompt_number": 17
    },
    {
     "cell_type": "code",
     "collapsed": false,
     "input": [
      "orca.get_injectable('store')['/land_use/taz_data'].info()"
     ],
     "language": "python",
     "metadata": {},
     "outputs": [
      {
       "output_type": "stream",
       "stream": "stdout",
       "text": [
        "<class 'pandas.core.frame.DataFrame'>\n",
        "Int64Index: 1454 entries, 1 to 1454\n",
        "Data columns (total 41 columns):\n",
        "DISTRICT     1454 non-null int64\n",
        "SD           1454 non-null int64\n",
        "COUNTY       1454 non-null int64\n",
        "TOTHH        1454 non-null int64\n",
        "HHPOP        1454 non-null int64\n",
        "TOTPOP       1454 non-null int64\n",
        "EMPRES       1454 non-null int64\n",
        "SFDU         1454 non-null int64\n",
        "MFDU         1454 non-null int64\n",
        "HHINCQ1      1454 non-null int64\n",
        "HHINCQ2      1454 non-null int64\n",
        "HHINCQ3      1454 non-null int64\n",
        "HHINCQ4      1454 non-null int64\n",
        "TOTACRE      1454 non-null float64\n",
        "RESACRE      1454 non-null int64\n",
        "CIACRE       1454 non-null int64\n",
        "SHPOP62P     1454 non-null float64\n",
        "TOTEMP       1454 non-null int64\n",
        "AGE0004      1454 non-null int64\n",
        "AGE0519      1454 non-null int64\n",
        "AGE2044      1454 non-null int64\n",
        "AGE4564      1454 non-null int64\n",
        "AGE65P       1454 non-null int64\n",
        "RETEMPN      1454 non-null int64\n",
        "FPSEMPN      1454 non-null int64\n",
        "HEREMPN      1454 non-null int64\n",
        "OTHEMPN      1454 non-null int64\n",
        "AGREMPN      1454 non-null int64\n",
        "MWTEMPN      1454 non-null int64\n",
        "PRKCST       1454 non-null float64\n",
        "OPRKCST      1454 non-null float64\n",
        "area_type    1454 non-null int64\n",
        "HSENROLL     1454 non-null float64\n",
        "COLLFTE      1454 non-null float64\n",
        "COLLPTE      1454 non-null float64\n",
        "TOPOLOGY     1454 non-null int64\n",
        "TERMINAL     1454 non-null float64\n",
        "ZERO         1454 non-null int64\n",
        "hhlds        1454 non-null int64\n",
        "sftaz        1454 non-null int64\n",
        "gqpop        1454 non-null int64\n",
        "dtypes: float64(8), int64(33)\n",
        "memory usage: 477.1 KB\n"
       ]
      }
     ],
     "prompt_number": 22
    },
    {
     "cell_type": "markdown",
     "metadata": {},
     "source": [
      "## Replace each of the defaults"
     ]
    },
    {
     "cell_type": "markdown",
     "metadata": {},
     "source": [
      "### Persons"
     ]
    },
    {
     "cell_type": "code",
     "collapsed": false,
     "input": [
      "run -i landuse.py"
     ],
     "language": "python",
     "metadata": {},
     "outputs": [],
     "prompt_number": 23
    },
    {
     "cell_type": "code",
     "collapsed": false,
     "input": [
      "run -i persons.py"
     ],
     "language": "python",
     "metadata": {},
     "outputs": [],
     "prompt_number": 24
    },
    {
     "cell_type": "code",
     "collapsed": false,
     "input": [
      "orca.get_table(\"persons\").to_frame().info()"
     ],
     "language": "python",
     "metadata": {},
     "outputs": [
      {
       "output_type": "stream",
       "stream": "stdout",
       "text": [
        "<class 'pandas.core.frame.DataFrame'>\n",
        "Int64Index: 52344 entries, 1 to 52344\n",
        "Data columns (total 6 columns):\n",
        "home_taz          52344 non-null int64\n",
        "home_sub_zone     52344 non-null int64\n",
        "auto_suff_cat     52344 non-null int64\n",
        "income_segment    52344 non-null int64\n",
        "value_of_time     52344 non-null float64\n",
        "workplace_taz     52344 non-null int64\n",
        "dtypes: float64(1), int64(5)\n",
        "memory usage: 2.8 MB\n"
       ]
      }
     ],
     "prompt_number": 25
    },
    {
     "cell_type": "markdown",
     "metadata": {},
     "source": [
      "### Skims"
     ]
    },
    {
     "cell_type": "code",
     "collapsed": false,
     "input": [
      "run -i skims.py"
     ],
     "language": "python",
     "metadata": {},
     "outputs": [],
     "prompt_number": 6
    },
    {
     "cell_type": "code",
     "collapsed": false,
     "input": [
      "orca.get_injectable('skims')"
     ],
     "language": "python",
     "metadata": {},
     "outputs": [
      {
       "metadata": {},
       "output_type": "pyout",
       "prompt_number": 7,
       "text": [
        "<activitysim.skim.Skims at 0xd484fd0>"
       ]
      }
     ],
     "prompt_number": 7
    },
    {
     "cell_type": "markdown",
     "metadata": {},
     "source": [
      "## Workplace Location simulate"
     ]
    },
    {
     "cell_type": "code",
     "collapsed": false,
     "input": [
      "run -i workplace_location.py"
     ],
     "language": "python",
     "metadata": {},
     "outputs": [],
     "prompt_number": 8
    },
    {
     "cell_type": "code",
     "collapsed": false,
     "input": [
      "run -i size_terms.py"
     ],
     "language": "python",
     "metadata": {},
     "outputs": [],
     "prompt_number": 9
    },
    {
     "cell_type": "code",
     "collapsed": false,
     "input": [
      "orca.run([\"workplace_location_simulate\"])"
     ],
     "language": "python",
     "metadata": {},
     "outputs": [
      {
       "output_type": "stream",
       "stream": "stdout",
       "text": [
        "Running step 'workplace_location_simulate'\n",
        "WARNING: Some columns have no variability:\n"
       ]
      },
      {
       "output_type": "stream",
       "stream": "stdout",
       "text": [
        "[\"@(df.income_segment==1)&(df['work_low']==0)\"\n",
        " \"@(df.income_segment==4)&(df['work_very_high']==0)\"]\n",
        "Describe of choices:\n"
       ]
      },
      {
       "output_type": "stream",
       "stream": "stdout",
       "text": [
        "count    52344.000000\n",
        "mean       718.839638\n",
        "std        423.191976\n",
        "min          1.000000\n",
        "25%        362.000000\n",
        "50%        724.000000\n",
        "75%       1080.000000\n",
        "max       1454.000000\n",
        "Name: destination_taz, dtype: float64\n",
        "Time to execute step 'workplace_location_simulate': 41.81 s\n",
        "Total time to execute iteration 1 with iteration value None: 41.81 s\n"
       ]
      }
     ],
     "prompt_number": 11
    },
    {
     "cell_type": "code",
     "collapsed": false,
     "input": [
      "orca.get_table(\"persons\").to_frame().info()"
     ],
     "language": "python",
     "metadata": {},
     "outputs": [
      {
       "output_type": "stream",
       "stream": "stdout",
       "text": [
        "<class 'pandas.core.frame.DataFrame'>\n",
        "Int64Index: 52344 entries, 1 to 52344\n",
        "Data columns (total 6 columns):\n",
        "home_taz          52344 non-null int64\n",
        "home_sub_zone     52344 non-null int64\n",
        "auto_suff_cat     52344 non-null int64\n",
        "income_segment    52344 non-null int64\n",
        "value_of_time     52344 non-null float64\n",
        "workplace_taz     52344 non-null int64\n",
        "dtypes: float64(1), int64(5)\n",
        "memory usage: 2.8 MB\n"
       ]
      }
     ],
     "prompt_number": 26
    },
    {
     "cell_type": "markdown",
     "metadata": {},
     "source": [
      "## Mode choice simulate\n",
      "First pass through complete.  Next: start debugging"
     ]
    },
    {
     "cell_type": "code",
     "collapsed": false,
     "input": [
      "run -i mode.py"
     ],
     "language": "python",
     "metadata": {},
     "outputs": [
      {
       "ename": "ValueError",
       "evalue": "Attempted relative import in non-package",
       "output_type": "pyerr",
       "traceback": [
        "\u001b[1;31m---------------------------------------------------------------------------\u001b[0m\n\u001b[1;31mValueError\u001b[0m                                Traceback (most recent call last)",
        "\u001b[1;32mD:\\files\\GitHub\\travel-model-one\\utilities\\access-activitysim\\mode.py\u001b[0m in \u001b[0;36m<module>\u001b[1;34m()\u001b[0m\n\u001b[0;32m      8\u001b[0m \u001b[1;32mfrom\u001b[0m \u001b[0mactivitysim\u001b[0m \u001b[1;32mimport\u001b[0m \u001b[0mactivitysim\u001b[0m \u001b[1;32mas\u001b[0m \u001b[0masim\u001b[0m\u001b[1;33m\u001b[0m\u001b[0m\n\u001b[0;32m      9\u001b[0m \u001b[1;32mfrom\u001b[0m \u001b[0mactivitysim\u001b[0m \u001b[1;32mimport\u001b[0m \u001b[0mskim\u001b[0m \u001b[1;32mas\u001b[0m \u001b[0maskim\u001b[0m\u001b[1;33m\u001b[0m\u001b[0m\n\u001b[1;32m---> 10\u001b[1;33m \u001b[1;32mfrom\u001b[0m \u001b[1;33m.\u001b[0m\u001b[0mutil\u001b[0m\u001b[1;33m.\u001b[0m\u001b[0mmode\u001b[0m \u001b[1;32mimport\u001b[0m \u001b[0m_mode_choice_spec\u001b[0m\u001b[1;33m\u001b[0m\u001b[0m\n\u001b[0m\u001b[0;32m     11\u001b[0m \u001b[1;33m\u001b[0m\u001b[0m\n\u001b[0;32m     12\u001b[0m \"\"\"\n",
        "\u001b[1;31mValueError\u001b[0m: Attempted relative import in non-package"
       ]
      }
     ],
     "prompt_number": 30
    },
    {
     "cell_type": "code",
     "collapsed": false,
     "input": [
      "orca.run([\"mode_choice_simulate\"])"
     ],
     "language": "python",
     "metadata": {},
     "outputs": []
    },
    {
     "cell_type": "code",
     "collapsed": false,
     "input": [
      "orca.get_table(\"persons\").to_frame().info()"
     ],
     "language": "python",
     "metadata": {},
     "outputs": []
    },
    {
     "cell_type": "code",
     "collapsed": false,
     "input": [
      "orca.get_injectable('close_store')"
     ],
     "language": "python",
     "metadata": {},
     "outputs": [],
     "prompt_number": 13
    },
    {
     "cell_type": "code",
     "collapsed": false,
     "input": [],
     "language": "python",
     "metadata": {},
     "outputs": []
    }
   ],
   "metadata": {}
  }
 ]
}