{
 "cells": [
  {
   "cell_type": "code",
   "execution_count": 2,
   "metadata": {},
   "outputs": [
    {
     "name": "stdout",
     "output_type": "stream",
     "text": [
      "Wrote L:\\Application\\Model_One\\NextGenFwys\\Scenarios\\2035_TM152_NGF_NP07_Path4_02/OUTPUT/shapefile/network_links_reduced_file.csv\n"
     ]
    }
   ],
   "source": [
    "import pandas as pd\n",
    "from dbfread import DBF\n",
    "\n",
    "runs = ['2035_TM152_NGF_NP07_Path4_02']\n",
    "\n",
    "for run in runs:\n",
    "    \n",
    "    tm_run_location = \"L:\\\\Application\\\\Model_One\\\\NextGenFwys\\\\Scenarios\\\\\" + run\n",
    "    # ----import network links file from dbf as a dataframe to merge with loaded network and get toll rates //////too slow, might end up hardcoding the result anyways\n",
    "    network_links_dbf = DBF(tm_run_location + '\\\\OUTPUT\\\\shapefile\\\\network_links.DBF')\n",
    "    network_links_dbf = pd.DataFrame(network_links_dbf)\n",
    "    network_links_dbf['a_b'] = network_links_dbf['A'].astype(str) + \"_\" + network_links_dbf['B'].astype(str)\n",
    "    network_links_dbf = network_links_dbf[['TOLLCLASS','a_b','TOLLAM_DA','TOLLAM_S3','TOLLAM_LRG', 'TOLLEA_DA', 'TOLLMD_DA', 'TOLLPM_DA', 'TOLLEV_DA','USEAM']]\n",
    "    out_filename = tm_run_location+'/OUTPUT/shapefile/' +\"network_links_reduced_file.csv\"\n",
    "    network_links_dbf.to_csv(out_filename, float_format='%.5f', index=False) #, header=False\n",
    "    print(\"Wrote {}\".format(out_filename))"
   ]
  },
  {
   "cell_type": "code",
   "execution_count": null,
   "metadata": {},
   "outputs": [],
   "source": []
  }
 ],
 "metadata": {
  "kernelspec": {
   "display_name": "base",
   "language": "python",
   "name": "python3"
  },
  "language_info": {
   "codemirror_mode": {
    "name": "ipython",
    "version": 3
   },
   "file_extension": ".py",
   "mimetype": "text/x-python",
   "name": "python",
   "nbconvert_exporter": "python",
   "pygments_lexer": "ipython3",
   "version": "3.9.7"
  },
  "orig_nbformat": 4
 },
 "nbformat": 4,
 "nbformat_minor": 2
}
