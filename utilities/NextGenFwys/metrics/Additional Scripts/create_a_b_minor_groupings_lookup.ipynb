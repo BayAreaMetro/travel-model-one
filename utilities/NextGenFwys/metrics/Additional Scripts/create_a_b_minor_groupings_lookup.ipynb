{
 "cells": [
  {
   "cell_type": "code",
   "execution_count": 1,
   "metadata": {},
   "outputs": [
    {
     "name": "stdout",
     "output_type": "stream",
     "text": [
      "Wrote c:\\Users\\jalatorre\\Box\\NextGen Freeways Study\\07 Tasks\\07_AnalysisRound1\\202302 Metrics Scripting\\Additional Scripts\\a_b_with_minor_groupings.csv\n"
     ]
    }
   ],
   "source": [
    "import pandas as pd, os\n",
    "from dbfread import DBF\n",
    "\n",
    "# run this when the minor groupings change\n",
    "# need to update TollclassGrouping.csv manually (.xlsx will be the file updated)\n",
    "# tm_run_location = \"L:\\\\Application\\\\Model_One\\\\NextGenFwys\\\\Scenarios\\\\\" + '2035_TM152_NGF_NP07_Path1b_01_SimpleToll01'\n",
    "# ab100seg = pd.read_csv('C:\\\\Users\\\\jalatorre\\\\Box\\\\NextGen Freeways Study\\\\07 Tasks\\\\07_AnalysisRound1\\\\Corridor Level Visualization\\\\Mapping-Practice-202212\\\\Data Collection\\\\a_b_100plusSeg.csv')\n",
    "ab100seg = DBF('L:\\\\Application\\\\Model_One\\\\NextGenFwys\\\\Scenarios\\\\2035_TM152_NGF_NP07_Path1b_01_UniformTolls03\\\\OUTPUT\\\\shapefile\\\\network_links.DBF')\n",
    "ab100seg = pd.DataFrame(ab100seg)\n",
    "ab100seg['a_b'] = ab100seg['A'].astype(str) + \"_\" + ab100seg['B'].astype(str)\n",
    "ab100seg = ab100seg[['a_b','TOLLCLASS']]\n",
    "\n",
    "minor_link_lookup = \"C:\\\\Users\\\\jalatorre\\\\Box\\\\NextGen Freeways Study\\\\05 Modeling\\\\3_Coding\\\\Tollclasses\\\\TollclassGrouping.xlsx\"\n",
    "# tm_loaded_network_df = pd.read_csv(tm_run_location+'/OUTPUT/avgload5period.csv')\n",
    "# tm_loaded_network_df = tm_loaded_network_df.rename(columns=lambda x: x.strip())\n",
    "# tm_loaded_network_df['a_b'] = tm_loaded_network_df['a'].astype(str) + \"_\" + tm_loaded_network_df['b'].astype(str)\n",
    "# tm_loaded_network_df = tm_loaded_network_df.merge(ab100seg, on='a_b', how='left')\n",
    "minor_links_df = pd.read_excel(minor_link_lookup, sheet_name='TollclassGrouping rev 0323')\n",
    "tm_loaded_network_df = ab100seg.merge(minor_links_df,how='left',left_on=['TOLLCLASS'],right_on=['TOLLCLASS (network links 100plusSeg.shp)'])\n",
    "# add in a line to only keep desired columns\n",
    "out_filename = os.path.join(os.getcwd(),\"a_b_with_minor_groupings.csv\")\n",
    "tm_loaded_network_df.to_csv(out_filename, float_format='%.5f', index=False) #, header=False\n",
    "print(\"Wrote {}\".format(out_filename))"
   ]
  },
  {
   "cell_type": "code",
   "execution_count": null,
   "metadata": {},
   "outputs": [],
   "source": []
  }
 ],
 "metadata": {
  "kernelspec": {
   "display_name": "base",
   "language": "python",
   "name": "python3"
  },
  "language_info": {
   "codemirror_mode": {
    "name": "ipython",
    "version": 3
   },
   "file_extension": ".py",
   "mimetype": "text/x-python",
   "name": "python",
   "nbconvert_exporter": "python",
   "pygments_lexer": "ipython3",
   "version": "3.9.7"
  },
  "orig_nbformat": 4
 },
 "nbformat": 4,
 "nbformat_minor": 2
}
