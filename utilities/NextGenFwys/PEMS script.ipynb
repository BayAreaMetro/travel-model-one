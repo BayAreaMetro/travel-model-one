{
 "cells": [
  {
   "cell_type": "markdown",
   "id": "f1913b09",
   "metadata": {},
   "source": [
    "# enter the month desired in format MM below"
   ]
  },
  {
   "cell_type": "code",
   "execution_count": null,
   "id": "6476ffc2",
   "metadata": {},
   "outputs": [],
   "source": [
    "# pip install selenium"
   ]
  },
  {
   "cell_type": "code",
   "execution_count": 58,
   "id": "2b1774d8",
   "metadata": {},
   "outputs": [],
   "source": [
    "# ex: month = '07'\n",
    "month = '06'"
   ]
  },
  {
   "cell_type": "code",
   "execution_count": 59,
   "id": "68a00bb4",
   "metadata": {},
   "outputs": [
    {
     "name": "stderr",
     "output_type": "stream",
     "text": [
      "C:\\Users\\JALATO~1\\AppData\\Local\\Temp/ipykernel_8828/2943040909.py:8: DeprecationWarning: executable_path has been deprecated, please pass in a Service object\n",
      "  driver = webdriver.Chrome(executable_path='C:/Users\\jalatorre\\Downloads\\chromedriver_win32\\chromedriver.exe')\n"
     ]
    }
   ],
   "source": [
    "from selenium import webdriver\n",
    "from selenium.webdriver.support.ui import WebDriverWait\n",
    "from selenium.webdriver.support.ui import Select\n",
    "import time\n",
    "\n",
    "\n",
    "# initialize the Chrome driver\n",
    "driver = webdriver.Chrome(executable_path='C:/Users\\jalatorre\\Downloads\\chromedriver_win32\\chromedriver.exe')\n",
    "\n",
    "driver.get('https://pems.dot.ca.gov/?dnode=Clearinghouse&type=station_day&district_id=4&submit=Submit')\n",
    "\n",
    "username = \"jalatorre@bayareametro.gov\"\n",
    "password = \")+rL5javak>\"\n",
    "driver.find_element('id', \"username\").send_keys(username)\n",
    "driver.find_element('id', \"password\").send_keys(password)\n",
    "driver.find_element('name', \"login\").click()"
   ]
  },
  {
   "cell_type": "code",
   "execution_count": 60,
   "id": "f157a5b6",
   "metadata": {},
   "outputs": [],
   "source": [
    "driver.implicitly_wait(2)\n",
    "\n",
    "selectType = Select(driver.find_element('id','type'))\n",
    "selectType.select_by_value('station_day')\n",
    "\n",
    "selectType = Select(driver.find_element('id', 'district_id'))\n",
    "selectType.select_by_value('4')\n",
    "\n",
    "driver.find_element('name', \"submit\").click()\n",
    "\n",
    "driver.implicitly_wait(2)\n",
    "\n",
    "driver.find_element('link text', \"d04_text_station_day_2022_\" + month + \".txt.gz\").click()"
   ]
  },
  {
   "cell_type": "code",
   "execution_count": 61,
   "id": "8fe15d2f",
   "metadata": {},
   "outputs": [],
   "source": [
    "time.sleep(3)\n",
    "driver.implicitly_wait(2)\n",
    "\n",
    "selectType = Select(driver.find_element('id', 'type'))\n",
    "selectType.select_by_value('station_hour')\n",
    "\n",
    "selectType = Select(driver.find_element('id', 'district_id'))\n",
    "selectType.select_by_value('4')\n",
    "\n",
    "driver.find_element('name', \"submit\").click()\n",
    "\n",
    "driver.implicitly_wait(2)\n",
    "\n",
    "driver.find_element('link text', \"d04_text_station_hour_2022_\" + month + \".txt.gz\").click()"
   ]
  },
  {
   "cell_type": "code",
   "execution_count": 62,
   "id": "e46455a1",
   "metadata": {},
   "outputs": [],
   "source": [
    "time.sleep(15)\n",
    "driver.close()"
   ]
  },
  {
   "cell_type": "code",
   "execution_count": null,
   "id": "1734debc",
   "metadata": {},
   "outputs": [],
   "source": []
  }
 ],
 "metadata": {
  "kernelspec": {
   "display_name": "Python 3 (ipykernel)",
   "language": "python",
   "name": "python3"
  },
  "language_info": {
   "codemirror_mode": {
    "name": "ipython",
    "version": 3
   },
   "file_extension": ".py",
   "mimetype": "text/x-python",
   "name": "python",
   "nbconvert_exporter": "python",
   "pygments_lexer": "ipython3",
   "version": "3.9.7"
  }
 },
 "nbformat": 4,
 "nbformat_minor": 5
}
