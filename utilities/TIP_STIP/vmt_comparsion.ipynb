{
 "cells": [
  {
   "cell_type": "code",
   "execution_count": 1,
   "id": "1ac2de2c",
   "metadata": {},
   "outputs": [],
   "source": [
    "import pandas as pd\n",
    "pd.options.mode.chained_assignment = None\n",
    "import geopandas as gpd"
   ]
  },
  {
   "cell_type": "markdown",
   "id": "6b0ff041",
   "metadata": {},
   "source": [
    "### VMT comparison by SuperDistrict and TAZ"
   ]
  },
  {
   "cell_type": "code",
   "execution_count": 2,
   "id": "f47b5c30",
   "metadata": {},
   "outputs": [],
   "source": [
    "# read STIP Project run resident vmt output\n",
    "vmt_Proj = pd.read_csv(r'M:\\Application\\Model One\\STIP2022\\2050_TM152_STP_Project_00\\OUTPUT\\core_summaries\\VehicleMilesTraveled.csv')\n",
    "# print(list(vmt_Proj))\n",
    "vmt_Proj['vmt_tot'] = vmt_Proj['freq'] * vmt_Proj['vmt']\n",
    "\n",
    "# summarize by SD and TAZ\n",
    "vmt_taz_Proj = vmt_Proj.groupby(['county_name', 'SD', 'taz'])['vmt_tot'].sum().reset_index()"
   ]
  },
  {
   "cell_type": "code",
   "execution_count": 3,
   "id": "9b106334",
   "metadata": {},
   "outputs": [],
   "source": [
    "# read STIP NoProject run resident vmt output\n",
    "vmt_noProj = pd.read_csv(r'M:\\Application\\Model One\\STIP2022\\2050_TM152_STP_NoProject_00\\OUTPUT\\core_summaries\\VehicleMilesTraveled.csv')\n",
    "# print(list(vmt_noProj))\n",
    "vmt_noProj['vmt_tot'] = vmt_noProj['freq'] * vmt_noProj['vmt']\n",
    "\n",
    "# summarize by SD and TAZ\n",
    "vmt_taz_noProj = vmt_noProj.groupby(['county_name', 'SD', 'taz'])['vmt_tot'].sum().reset_index() "
   ]
  },
  {
   "cell_type": "code",
   "execution_count": 4,
   "id": "65a94dde",
   "metadata": {},
   "outputs": [],
   "source": [
    "# read Final Blueprint run resident vmt output\n",
    "vmt_FBP = pd.read_csv(r'M:\\Application\\Model One\\RTP2021\\Blueprint\\2050_TM152_FBP_PlusCrossing_24\\OUTPUT\\core_summaries\\VehicleMilesTraveled.csv')\n",
    "# print(list(vmt_FBP))\n",
    "vmt_FBP['vmt_tot'] = vmt_FBP['freq'] * vmt_FBP['vmt']\n",
    "\n",
    "# summarize by SD and TAZ\n",
    "vmt_taz_FBP = vmt_FBP.groupby(['county_name', 'SD', 'taz'])['vmt_tot'].sum().reset_index() "
   ]
  },
  {
   "cell_type": "code",
   "execution_count": 5,
   "id": "23e2f2c7",
   "metadata": {},
   "outputs": [
    {
     "name": "stdout",
     "output_type": "stream",
     "text": [
      "142274252.9376923\n",
      "142360376.9853846\n",
      "122735250.07769233\n"
     ]
    }
   ],
   "source": [
    "# check totals\n",
    "print(vmt_Proj.vmt_tot.sum())\n",
    "print(vmt_noProj.vmt_tot.sum())\n",
    "print(vmt_FBP.vmt_tot.sum())"
   ]
  },
  {
   "cell_type": "code",
   "execution_count": 6,
   "id": "75bce70f",
   "metadata": {},
   "outputs": [],
   "source": [
    "# label run and merge\n",
    "\n",
    "vmt_taz_Proj.rename(columns = {'vmt_tot': 'vmt_Proj'}, inplace=True)\n",
    "vmt_taz_noProj.rename(columns = {'vmt_tot': 'vmt_noProj'}, inplace=True)\n",
    "vmt_taz_FBP.rename(columns = {'vmt_tot': 'vmt_FBP'}, inplace=True)\n",
    "\n",
    "vmt_comp = vmt_taz_Proj.merge(vmt_taz_noProj,\n",
    "                              on=['county_name', 'SD', 'taz'],\n",
    "                              how='outer').merge(vmt_taz_FBP,\n",
    "                                                 on=['county_name', 'SD', 'taz'],\n",
    "                                                 how='outer')"
   ]
  },
  {
   "cell_type": "code",
   "execution_count": 7,
   "id": "d3f80a5a",
   "metadata": {},
   "outputs": [],
   "source": [
    "# export for Tableau\n",
    "vmt_comp.to_csv(r'M:\\Application\\Model One\\STIP2022\\VMT_QAQC\\vmt_by_TAZ_comparsion.csv', index=False)"
   ]
  },
  {
   "cell_type": "markdown",
   "id": "5edc84bf",
   "metadata": {},
   "source": [
    "### VMT comparison on Highway Networks"
   ]
  },
  {
   "cell_type": "code",
   "execution_count": 8,
   "id": "bc36ef84",
   "metadata": {},
   "outputs": [
    {
     "name": "stdout",
     "output_type": "stream",
     "text": [
      "Project highway networks has 33978 links\n"
     ]
    }
   ],
   "source": [
    "# read Project run loaded network\n",
    "proj_raw = gpd.read_file(r'M:\\Application\\Model One\\STIP2022\\2050_TM152_STP_Project_00\\shapefile\\network_links.shp')\n",
    "print('Project highway networks has {} links'.format(proj_raw.shape[0]))\n",
    "proj = proj_raw[['A', 'B', 'VMT24HR', 'geometry', 'PROJ']]\n",
    "proj.rename(columns = {'VMT24HR': 'VMT_proj',\n",
    "                       'geometry': 'geometry_proj'}, inplace=True)"
   ]
  },
  {
   "cell_type": "code",
   "execution_count": 9,
   "id": "0673fa9c",
   "metadata": {},
   "outputs": [
    {
     "name": "stdout",
     "output_type": "stream",
     "text": [
      "epsg:26910\n"
     ]
    }
   ],
   "source": [
    "print(proj_raw.crs)"
   ]
  },
  {
   "cell_type": "code",
   "execution_count": 10,
   "id": "84c019d8",
   "metadata": {},
   "outputs": [
    {
     "name": "stdout",
     "output_type": "stream",
     "text": [
      "NoProject highway networks has 33937 links\n"
     ]
    }
   ],
   "source": [
    "# read NoProject run loaded network\n",
    "noProj_raw = gpd.read_file(r'M:\\Application\\Model One\\STIP2022\\2050_TM152_STP_NoProject_00\\shapefile\\network_links.shp')\n",
    "print('NoProject highway networks has {} links'.format(noProj_raw.shape[0]))\n",
    "noProj = noProj_raw[['A', 'B', 'VMT24HR', 'geometry']]\n",
    "noProj.rename(columns = {'VMT24HR': 'VMT_noProj',\n",
    "                         'geometry': 'geometry_noProj'}, inplace=True)"
   ]
  },
  {
   "cell_type": "code",
   "execution_count": 11,
   "id": "9e27aaca",
   "metadata": {},
   "outputs": [
    {
     "name": "stdout",
     "output_type": "stream",
     "text": [
      "merged highway networks has 33981 links\n"
     ]
    }
   ],
   "source": [
    "# merge\n",
    "vmt_network_comp = proj.merge(noProj,\n",
    "                              on=['A', 'B'],\n",
    "                              how='outer')\n",
    "print('merged highway networks has {} links'.format(vmt_network_comp.shape[0]))"
   ]
  },
  {
   "cell_type": "code",
   "execution_count": 12,
   "id": "0fc00d02",
   "metadata": {},
   "outputs": [],
   "source": [
    "# use Project geometry; for links without Project geometry (deleted by projects), use noProj geometry \n",
    "vmt_network_comp['geometry'] = vmt_network_comp['geometry_proj']\n",
    "vmt_network_comp.loc[vmt_network_comp.geometry_proj.isnull(), 'geometry'] = vmt_network_comp['geometry_noProj']"
   ]
  },
  {
   "cell_type": "code",
   "execution_count": 13,
   "id": "f5abeeab",
   "metadata": {},
   "outputs": [],
   "source": [
    "# convert to geodataframe\n",
    "vmt_network_comp_gpd = gpd.GeoDataFrame(vmt_network_comp, crs=\"EPSG:26910\", geometry='geometry')"
   ]
  },
  {
   "cell_type": "code",
   "execution_count": 14,
   "id": "1a52f430",
   "metadata": {},
   "outputs": [],
   "source": [
    "# export for Tableau\n",
    "vmt_network_comp_gpd[['A', 'B', 'VMT_proj', 'VMT_noProj', 'PROJ', 'geometry'\n",
    "                     ]].to_file(r'M:\\Application\\Model One\\STIP2022\\VMT_QAQC\\vmt_hwylinks_comparsion.shp')"
   ]
  }
 ],
 "metadata": {
  "kernelspec": {
   "display_name": "Python 3 (ipykernel)",
   "language": "python",
   "name": "python3"
  },
  "language_info": {
   "codemirror_mode": {
    "name": "ipython",
    "version": 3
   },
   "file_extension": ".py",
   "mimetype": "text/x-python",
   "name": "python",
   "nbconvert_exporter": "python",
   "pygments_lexer": "ipython3",
   "version": "3.7.12"
  }
 },
 "nbformat": 4,
 "nbformat_minor": 5
}
