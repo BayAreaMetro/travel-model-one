{
 "cells": [
  {
   "cell_type": "code",
   "execution_count": 1,
   "metadata": {
    "collapsed": true
   },
   "outputs": [],
   "source": [
    "import pandas as pd"
   ]
  },
  {
   "cell_type": "code",
   "execution_count": 2,
   "metadata": {
    "collapsed": true
   },
   "outputs": [],
   "source": [
    "pub = pd.read_csv('./PUB_schools.csv')"
   ]
  },
  {
   "cell_type": "code",
   "execution_count": 3,
   "metadata": {
    "collapsed": true
   },
   "outputs": [],
   "source": [
    "enroll = pd.read_csv('./school_enrrollment_1516.csv')"
   ]
  },
  {
   "cell_type": "code",
   "execution_count": 4,
   "metadata": {},
   "outputs": [
    {
     "data": {
      "text/html": [
       "<div>\n",
       "<style scoped>\n",
       "    .dataframe tbody tr th:only-of-type {\n",
       "        vertical-align: middle;\n",
       "    }\n",
       "\n",
       "    .dataframe tbody tr th {\n",
       "        vertical-align: top;\n",
       "    }\n",
       "\n",
       "    .dataframe thead th {\n",
       "        text-align: right;\n",
       "    }\n",
       "</style>\n",
       "<table border=\"1\" class=\"dataframe\">\n",
       "  <thead>\n",
       "    <tr style=\"text-align: right;\">\n",
       "      <th></th>\n",
       "      <th>CDSCode</th>\n",
       "      <th>StatusType</th>\n",
       "      <th>District</th>\n",
       "      <th>School</th>\n",
       "      <th>Street</th>\n",
       "      <th>StreetAbr</th>\n",
       "      <th>City</th>\n",
       "      <th>Zip</th>\n",
       "      <th>State</th>\n",
       "      <th>County</th>\n",
       "      <th>...</th>\n",
       "      <th>GR_7</th>\n",
       "      <th>GR_8</th>\n",
       "      <th>UNGR_ELM</th>\n",
       "      <th>GR_9</th>\n",
       "      <th>GR_10</th>\n",
       "      <th>GR_11</th>\n",
       "      <th>GR_12</th>\n",
       "      <th>UNGR_SEC</th>\n",
       "      <th>ENR_TOTAL</th>\n",
       "      <th>ADULT</th>\n",
       "    </tr>\n",
       "  </thead>\n",
       "  <tbody>\n",
       "    <tr>\n",
       "      <th>0</th>\n",
       "      <td>1100170000000</td>\n",
       "      <td>Active</td>\n",
       "      <td>Alameda County Office of Education</td>\n",
       "      <td>NaN</td>\n",
       "      <td>313 West Winton Avenue</td>\n",
       "      <td>313 West Winton Ave.</td>\n",
       "      <td>Hayward</td>\n",
       "      <td>94544-1136</td>\n",
       "      <td>CA</td>\n",
       "      <td>Alameda</td>\n",
       "      <td>...</td>\n",
       "      <td>NaN</td>\n",
       "      <td>NaN</td>\n",
       "      <td>NaN</td>\n",
       "      <td>NaN</td>\n",
       "      <td>NaN</td>\n",
       "      <td>NaN</td>\n",
       "      <td>NaN</td>\n",
       "      <td>NaN</td>\n",
       "      <td>NaN</td>\n",
       "      <td>NaN</td>\n",
       "    </tr>\n",
       "    <tr>\n",
       "      <th>1</th>\n",
       "      <td>1100170109835</td>\n",
       "      <td>Closed</td>\n",
       "      <td>Alameda County Office of Education</td>\n",
       "      <td>FAME Public Charter</td>\n",
       "      <td>39899 Balentine Drive, Suite 335</td>\n",
       "      <td>39899 Balentine Dr., Ste. 335</td>\n",
       "      <td>Newark</td>\n",
       "      <td>94560-5359</td>\n",
       "      <td>CA</td>\n",
       "      <td>Alameda</td>\n",
       "      <td>...</td>\n",
       "      <td>NaN</td>\n",
       "      <td>NaN</td>\n",
       "      <td>NaN</td>\n",
       "      <td>NaN</td>\n",
       "      <td>NaN</td>\n",
       "      <td>NaN</td>\n",
       "      <td>NaN</td>\n",
       "      <td>NaN</td>\n",
       "      <td>NaN</td>\n",
       "      <td>NaN</td>\n",
       "    </tr>\n",
       "    <tr>\n",
       "      <th>2</th>\n",
       "      <td>1100170112607</td>\n",
       "      <td>Active</td>\n",
       "      <td>Alameda County Office of Education</td>\n",
       "      <td>Envision Academy for Arts &amp; Technology</td>\n",
       "      <td>1515 Webster Street</td>\n",
       "      <td>1515 Webster St.</td>\n",
       "      <td>Oakland</td>\n",
       "      <td>94612-3355</td>\n",
       "      <td>CA</td>\n",
       "      <td>Alameda</td>\n",
       "      <td>...</td>\n",
       "      <td>0.0</td>\n",
       "      <td>0.0</td>\n",
       "      <td>0.0</td>\n",
       "      <td>21.0</td>\n",
       "      <td>23.0</td>\n",
       "      <td>20.0</td>\n",
       "      <td>24.0</td>\n",
       "      <td>0.0</td>\n",
       "      <td>88.0</td>\n",
       "      <td>0.0</td>\n",
       "    </tr>\n",
       "    <tr>\n",
       "      <th>3</th>\n",
       "      <td>1100170112607</td>\n",
       "      <td>Active</td>\n",
       "      <td>Alameda County Office of Education</td>\n",
       "      <td>Envision Academy for Arts &amp; Technology</td>\n",
       "      <td>1515 Webster Street</td>\n",
       "      <td>1515 Webster St.</td>\n",
       "      <td>Oakland</td>\n",
       "      <td>94612-3355</td>\n",
       "      <td>CA</td>\n",
       "      <td>Alameda</td>\n",
       "      <td>...</td>\n",
       "      <td>0.0</td>\n",
       "      <td>0.0</td>\n",
       "      <td>0.0</td>\n",
       "      <td>0.0</td>\n",
       "      <td>1.0</td>\n",
       "      <td>1.0</td>\n",
       "      <td>0.0</td>\n",
       "      <td>0.0</td>\n",
       "      <td>2.0</td>\n",
       "      <td>0.0</td>\n",
       "    </tr>\n",
       "    <tr>\n",
       "      <th>4</th>\n",
       "      <td>1100170112607</td>\n",
       "      <td>Active</td>\n",
       "      <td>Alameda County Office of Education</td>\n",
       "      <td>Envision Academy for Arts &amp; Technology</td>\n",
       "      <td>1515 Webster Street</td>\n",
       "      <td>1515 Webster St.</td>\n",
       "      <td>Oakland</td>\n",
       "      <td>94612-3355</td>\n",
       "      <td>CA</td>\n",
       "      <td>Alameda</td>\n",
       "      <td>...</td>\n",
       "      <td>0.0</td>\n",
       "      <td>0.0</td>\n",
       "      <td>0.0</td>\n",
       "      <td>1.0</td>\n",
       "      <td>2.0</td>\n",
       "      <td>1.0</td>\n",
       "      <td>1.0</td>\n",
       "      <td>0.0</td>\n",
       "      <td>5.0</td>\n",
       "      <td>0.0</td>\n",
       "    </tr>\n",
       "  </tbody>\n",
       "</table>\n",
       "<p>5 rows × 40 columns</p>\n",
       "</div>"
      ],
      "text/plain": [
       "         CDSCode StatusType                            District  \\\n",
       "0  1100170000000     Active  Alameda County Office of Education   \n",
       "1  1100170109835     Closed  Alameda County Office of Education   \n",
       "2  1100170112607     Active  Alameda County Office of Education   \n",
       "3  1100170112607     Active  Alameda County Office of Education   \n",
       "4  1100170112607     Active  Alameda County Office of Education   \n",
       "\n",
       "                                   School                            Street  \\\n",
       "0                                     NaN            313 West Winton Avenue   \n",
       "1                     FAME Public Charter  39899 Balentine Drive, Suite 335   \n",
       "2  Envision Academy for Arts & Technology               1515 Webster Street   \n",
       "3  Envision Academy for Arts & Technology               1515 Webster Street   \n",
       "4  Envision Academy for Arts & Technology               1515 Webster Street   \n",
       "\n",
       "                       StreetAbr     City         Zip State   County  ...   \\\n",
       "0           313 West Winton Ave.  Hayward  94544-1136    CA  Alameda  ...    \n",
       "1  39899 Balentine Dr., Ste. 335   Newark  94560-5359    CA  Alameda  ...    \n",
       "2               1515 Webster St.  Oakland  94612-3355    CA  Alameda  ...    \n",
       "3               1515 Webster St.  Oakland  94612-3355    CA  Alameda  ...    \n",
       "4               1515 Webster St.  Oakland  94612-3355    CA  Alameda  ...    \n",
       "\n",
       "  GR_7 GR_8 UNGR_ELM  GR_9 GR_10  GR_11  GR_12  UNGR_SEC ENR_TOTAL ADULT  \n",
       "0  NaN  NaN      NaN   NaN   NaN    NaN    NaN       NaN       NaN   NaN  \n",
       "1  NaN  NaN      NaN   NaN   NaN    NaN    NaN       NaN       NaN   NaN  \n",
       "2  0.0  0.0      0.0  21.0  23.0   20.0   24.0       0.0      88.0   0.0  \n",
       "3  0.0  0.0      0.0   0.0   1.0    1.0    0.0       0.0       2.0   0.0  \n",
       "4  0.0  0.0      0.0   1.0   2.0    1.0    1.0       0.0       5.0   0.0  \n",
       "\n",
       "[5 rows x 40 columns]"
      ]
     },
     "execution_count": 4,
     "metadata": {},
     "output_type": "execute_result"
    }
   ],
   "source": [
    "# join schools and enrollment categories\n",
    "pub_enroll = pd.merge(pub, enroll, left_on='CDSCode', right_on='CDS_CODE', how='left')\n",
    "pub_enroll.head()"
   ]
  },
  {
   "cell_type": "code",
   "execution_count": 5,
   "metadata": {},
   "outputs": [
    {
     "name": "stdout",
     "output_type": "stream",
     "text": [
      "25270\n",
      "24663\n"
     ]
    }
   ],
   "source": [
    "# check how the join did\n",
    "print(len(enroll[(enroll['COUNTY'] == 'Alameda') | (enroll['COUNTY'] == 'Contra Costa') | (enroll['COUNTY'] == 'Marin') |\n",
    "                 (enroll['COUNTY'] == 'Napa') | (enroll['COUNTY'] == 'Solano') | (enroll['COUNTY'] == 'Sonoma') |\n",
    "                 (enroll['COUNTY'] == 'San Mateo') | (enroll['COUNTY'] == 'San Francisco') | (enroll['COUNTY'] == 'Santa Clara')]))\n",
    "print(len(pub_enroll[pub_enroll['ADULT'].notnull()]))"
   ]
  },
  {
   "cell_type": "code",
   "execution_count": 6,
   "metadata": {},
   "outputs": [
    {
     "name": "stdout",
     "output_type": "stream",
     "text": [
      "26291\n",
      "24982\n"
     ]
    }
   ],
   "source": [
    "# remove closed schools\n",
    "print(len(pub_enroll))\n",
    "pub_enroll = pub_enroll[pub_enroll['StatusType'] != 'Closed']\n",
    "print(len(pub_enroll))"
   ]
  },
  {
   "cell_type": "code",
   "execution_count": 7,
   "metadata": {},
   "outputs": [],
   "source": [
    "pub_enroll.to_csv('./PUB_schools_enroll.csv')"
   ]
  },
  {
   "cell_type": "code",
   "execution_count": 8,
   "metadata": {},
   "outputs": [],
   "source": [
    "prv_enroll = pd.read_csv('./PRV_schools_enroll.csv')"
   ]
  },
  {
   "cell_type": "code",
   "execution_count": 9,
   "metadata": {
    "collapsed": true
   },
   "outputs": [],
   "source": [
    "# geocode both private and public schools (ArcMap)\n",
    "# join them to TAZ1454 with \"contains\" (ArcMap)"
   ]
  },
  {
   "cell_type": "code",
   "execution_count": 10,
   "metadata": {},
   "outputs": [
    {
     "name": "stderr",
     "output_type": "stream",
     "text": [
      "C:\\Users\\etheocharides\\AppData\\Local\\Continuum\\anaconda2\\lib\\site-packages\\IPython\\core\\interactiveshell.py:2718: DtypeWarning: Columns (17,18,20,24,33,34,38,39,40,52) have mixed types. Specify dtype option on import or set low_memory=False.\n",
      "  interactivity=interactivity, compiler=compiler, result=result)\n"
     ]
    }
   ],
   "source": [
    "taz_pub = pd.read_csv('taz_pub.csv')"
   ]
  },
  {
   "cell_type": "code",
   "execution_count": 11,
   "metadata": {},
   "outputs": [
    {
     "name": "stdout",
     "output_type": "stream",
     "text": [
      "24926\n",
      "24926\n"
     ]
    }
   ],
   "source": [
    "# check for duplicate schools from \"contains\" join\n",
    "print(len(taz_pub[taz_pub['JOIN_FID'] != -1]))\n",
    "print(len(taz_pub.drop_duplicates('JOIN_FID', False)))"
   ]
  },
  {
   "cell_type": "code",
   "execution_count": 12,
   "metadata": {},
   "outputs": [
    {
     "name": "stdout",
     "output_type": "stream",
     "text": [
      "24982\n",
      "24926\n"
     ]
    }
   ],
   "source": [
    "# check if we lost any schools in the geocoding\n",
    "print(len(pub_enroll))\n",
    "print(len(taz_pub[taz_pub['JOIN_FID'] != -1]))"
   ]
  },
  {
   "cell_type": "code",
   "execution_count": 13,
   "metadata": {},
   "outputs": [],
   "source": [
    "# sumamrize by TAZ\n",
    "taz_pub_grp = taz_pub.groupby(['TAZ1454']).sum()"
   ]
  },
  {
   "cell_type": "code",
   "execution_count": 14,
   "metadata": {},
   "outputs": [],
   "source": [
    "# add a column for HS enrollment\n",
    "# ungraded secondary and adult NOT included\n",
    "taz_pub_grp['HS_pub'] = (taz_pub_grp['USER_GR_9'] + taz_pub_grp['USER_GR_10'] + taz_pub_grp['USER_GR_11'] \n",
    "                        + taz_pub_grp['USER_GR_12'])"
   ]
  },
  {
   "cell_type": "code",
   "execution_count": 15,
   "metadata": {
    "collapsed": true
   },
   "outputs": [],
   "source": [
    "taz_prv = pd.read_csv('taz_prv.csv')"
   ]
  },
  {
   "cell_type": "code",
   "execution_count": 16,
   "metadata": {},
   "outputs": [
    {
     "name": "stdout",
     "output_type": "stream",
     "text": [
      "724\n",
      "724\n"
     ]
    }
   ],
   "source": [
    "# check for duplicate schools\n",
    "print(len(taz_prv[taz_prv['JOIN_FID'] != -1]))\n",
    "print(len(taz_prv.drop_duplicates('JOIN_FID', False)))"
   ]
  },
  {
   "cell_type": "code",
   "execution_count": 17,
   "metadata": {},
   "outputs": [
    {
     "name": "stdout",
     "output_type": "stream",
     "text": [
      "725\n",
      "724\n"
     ]
    }
   ],
   "source": [
    "# check if we lost any schools in the geocoding\n",
    "print(len(prv_enroll))\n",
    "print(len(taz_prv[taz_prv['JOIN_FID'] != -1]))"
   ]
  },
  {
   "cell_type": "code",
   "execution_count": 18,
   "metadata": {},
   "outputs": [],
   "source": [
    "# sumamrize by TAZ\n",
    "taz_prv_grp = taz_prv.groupby(['TAZ1454']).sum()"
   ]
  },
  {
   "cell_type": "code",
   "execution_count": 19,
   "metadata": {},
   "outputs": [],
   "source": [
    "# add a column for HS enrollment\n",
    "# ungraded secondary NOT included\n",
    "taz_prv_grp['HS_prv'] = (taz_prv_grp['USER_Grade_9_Enrollment'] + taz_prv_grp['USER_Grade_10_Enrollment']  \n",
    "                         + taz_prv_grp['USER_Grade_11_Enrollment'] + taz_prv_grp['USER_Grade_12_Enrollment'])"
   ]
  },
  {
   "cell_type": "code",
   "execution_count": 20,
   "metadata": {},
   "outputs": [
    {
     "data": {
      "text/html": [
       "<div>\n",
       "<style scoped>\n",
       "    .dataframe tbody tr th:only-of-type {\n",
       "        vertical-align: middle;\n",
       "    }\n",
       "\n",
       "    .dataframe tbody tr th {\n",
       "        vertical-align: top;\n",
       "    }\n",
       "\n",
       "    .dataframe thead th {\n",
       "        text-align: right;\n",
       "    }\n",
       "</style>\n",
       "<table border=\"1\" class=\"dataframe\">\n",
       "  <thead>\n",
       "    <tr style=\"text-align: right;\">\n",
       "      <th></th>\n",
       "      <th>OBJECTIDpub</th>\n",
       "      <th>Join_Countpub</th>\n",
       "      <th>TARGET_FIDpub</th>\n",
       "      <th>JOIN_FIDpub</th>\n",
       "      <th>SUPERDpub</th>\n",
       "      <th>Shape__Arepub</th>\n",
       "      <th>Shape__Lenpub</th>\n",
       "      <th>diffpub</th>\n",
       "      <th>Scorepub</th>\n",
       "      <th>URLpub</th>\n",
       "      <th>...</th>\n",
       "      <th>USER_Grade_10_Enrollment</th>\n",
       "      <th>USER_Grade_11_Enrollment</th>\n",
       "      <th>USER_Grade_12_Enrollment</th>\n",
       "      <th>USER_Ungraded_Elementary_Enr_103</th>\n",
       "      <th>USER_Ungraded_Secondary_Enro_104</th>\n",
       "      <th>USER_Total_Enrollment</th>\n",
       "      <th>Shape_Lengthprv</th>\n",
       "      <th>Shape_Areaprv</th>\n",
       "      <th>HS_prv</th>\n",
       "      <th>HS</th>\n",
       "    </tr>\n",
       "    <tr>\n",
       "      <th>TAZ1454</th>\n",
       "      <th></th>\n",
       "      <th></th>\n",
       "      <th></th>\n",
       "      <th></th>\n",
       "      <th></th>\n",
       "      <th></th>\n",
       "      <th></th>\n",
       "      <th></th>\n",
       "      <th></th>\n",
       "      <th></th>\n",
       "      <th></th>\n",
       "      <th></th>\n",
       "      <th></th>\n",
       "      <th></th>\n",
       "      <th></th>\n",
       "      <th></th>\n",
       "      <th></th>\n",
       "      <th></th>\n",
       "      <th></th>\n",
       "      <th></th>\n",
       "      <th></th>\n",
       "    </tr>\n",
       "  </thead>\n",
       "  <tbody>\n",
       "    <tr>\n",
       "      <th>1</th>\n",
       "      <td>0.0</td>\n",
       "      <td>0</td>\n",
       "      <td>1338</td>\n",
       "      <td>-1</td>\n",
       "      <td>1</td>\n",
       "      <td>0.0</td>\n",
       "      <td>0.0</td>\n",
       "      <td>11</td>\n",
       "      <td>0.0</td>\n",
       "      <td>0.0</td>\n",
       "      <td>...</td>\n",
       "      <td>0.0</td>\n",
       "      <td>0.0</td>\n",
       "      <td>0.0</td>\n",
       "      <td>0.0</td>\n",
       "      <td>0.0</td>\n",
       "      <td>0.0</td>\n",
       "      <td>1206.100233</td>\n",
       "      <td>82010.140753</td>\n",
       "      <td>0.0</td>\n",
       "      <td>0.0</td>\n",
       "    </tr>\n",
       "    <tr>\n",
       "      <th>2</th>\n",
       "      <td>0.0</td>\n",
       "      <td>0</td>\n",
       "      <td>1415</td>\n",
       "      <td>-1</td>\n",
       "      <td>1</td>\n",
       "      <td>0.0</td>\n",
       "      <td>0.0</td>\n",
       "      <td>262</td>\n",
       "      <td>0.0</td>\n",
       "      <td>0.0</td>\n",
       "      <td>...</td>\n",
       "      <td>0.0</td>\n",
       "      <td>0.0</td>\n",
       "      <td>0.0</td>\n",
       "      <td>0.0</td>\n",
       "      <td>0.0</td>\n",
       "      <td>0.0</td>\n",
       "      <td>1433.237770</td>\n",
       "      <td>125828.768964</td>\n",
       "      <td>0.0</td>\n",
       "      <td>0.0</td>\n",
       "    </tr>\n",
       "    <tr>\n",
       "      <th>3</th>\n",
       "      <td>0.0</td>\n",
       "      <td>0</td>\n",
       "      <td>1339</td>\n",
       "      <td>-1</td>\n",
       "      <td>1</td>\n",
       "      <td>0.0</td>\n",
       "      <td>0.0</td>\n",
       "      <td>156</td>\n",
       "      <td>0.0</td>\n",
       "      <td>0.0</td>\n",
       "      <td>...</td>\n",
       "      <td>0.0</td>\n",
       "      <td>0.0</td>\n",
       "      <td>0.0</td>\n",
       "      <td>0.0</td>\n",
       "      <td>0.0</td>\n",
       "      <td>300.0</td>\n",
       "      <td>982.566396</td>\n",
       "      <td>59472.890690</td>\n",
       "      <td>0.0</td>\n",
       "      <td>0.0</td>\n",
       "    </tr>\n",
       "    <tr>\n",
       "      <th>4</th>\n",
       "      <td>0.0</td>\n",
       "      <td>0</td>\n",
       "      <td>1416</td>\n",
       "      <td>-1</td>\n",
       "      <td>1</td>\n",
       "      <td>0.0</td>\n",
       "      <td>0.0</td>\n",
       "      <td>287</td>\n",
       "      <td>0.0</td>\n",
       "      <td>0.0</td>\n",
       "      <td>...</td>\n",
       "      <td>0.0</td>\n",
       "      <td>0.0</td>\n",
       "      <td>0.0</td>\n",
       "      <td>0.0</td>\n",
       "      <td>0.0</td>\n",
       "      <td>0.0</td>\n",
       "      <td>1283.522513</td>\n",
       "      <td>77864.452142</td>\n",
       "      <td>0.0</td>\n",
       "      <td>0.0</td>\n",
       "    </tr>\n",
       "    <tr>\n",
       "      <th>5</th>\n",
       "      <td>0.0</td>\n",
       "      <td>0</td>\n",
       "      <td>1340</td>\n",
       "      <td>-1</td>\n",
       "      <td>1</td>\n",
       "      <td>0.0</td>\n",
       "      <td>0.0</td>\n",
       "      <td>430</td>\n",
       "      <td>0.0</td>\n",
       "      <td>0.0</td>\n",
       "      <td>...</td>\n",
       "      <td>0.0</td>\n",
       "      <td>0.0</td>\n",
       "      <td>0.0</td>\n",
       "      <td>0.0</td>\n",
       "      <td>0.0</td>\n",
       "      <td>0.0</td>\n",
       "      <td>1954.837387</td>\n",
       "      <td>213322.683012</td>\n",
       "      <td>0.0</td>\n",
       "      <td>0.0</td>\n",
       "    </tr>\n",
       "  </tbody>\n",
       "</table>\n",
       "<p>5 rows × 136 columns</p>\n",
       "</div>"
      ],
      "text/plain": [
       "         OBJECTIDpub  Join_Countpub  TARGET_FIDpub  JOIN_FIDpub  SUPERDpub  \\\n",
       "TAZ1454                                                                      \n",
       "1                0.0              0           1338           -1          1   \n",
       "2                0.0              0           1415           -1          1   \n",
       "3                0.0              0           1339           -1          1   \n",
       "4                0.0              0           1416           -1          1   \n",
       "5                0.0              0           1340           -1          1   \n",
       "\n",
       "         Shape__Arepub  Shape__Lenpub  diffpub  Scorepub  URLpub ...   \\\n",
       "TAZ1454                                                          ...    \n",
       "1                  0.0            0.0       11       0.0     0.0 ...    \n",
       "2                  0.0            0.0      262       0.0     0.0 ...    \n",
       "3                  0.0            0.0      156       0.0     0.0 ...    \n",
       "4                  0.0            0.0      287       0.0     0.0 ...    \n",
       "5                  0.0            0.0      430       0.0     0.0 ...    \n",
       "\n",
       "         USER_Grade_10_Enrollment  USER_Grade_11_Enrollment  \\\n",
       "TAZ1454                                                       \n",
       "1                             0.0                       0.0   \n",
       "2                             0.0                       0.0   \n",
       "3                             0.0                       0.0   \n",
       "4                             0.0                       0.0   \n",
       "5                             0.0                       0.0   \n",
       "\n",
       "         USER_Grade_12_Enrollment  USER_Ungraded_Elementary_Enr_103  \\\n",
       "TAZ1454                                                               \n",
       "1                             0.0                               0.0   \n",
       "2                             0.0                               0.0   \n",
       "3                             0.0                               0.0   \n",
       "4                             0.0                               0.0   \n",
       "5                             0.0                               0.0   \n",
       "\n",
       "         USER_Ungraded_Secondary_Enro_104  USER_Total_Enrollment  \\\n",
       "TAZ1454                                                            \n",
       "1                                     0.0                    0.0   \n",
       "2                                     0.0                    0.0   \n",
       "3                                     0.0                  300.0   \n",
       "4                                     0.0                    0.0   \n",
       "5                                     0.0                    0.0   \n",
       "\n",
       "         Shape_Lengthprv  Shape_Areaprv  HS_prv   HS  \n",
       "TAZ1454                                               \n",
       "1            1206.100233   82010.140753     0.0  0.0  \n",
       "2            1433.237770  125828.768964     0.0  0.0  \n",
       "3             982.566396   59472.890690     0.0  0.0  \n",
       "4            1283.522513   77864.452142     0.0  0.0  \n",
       "5            1954.837387  213322.683012     0.0  0.0  \n",
       "\n",
       "[5 rows x 136 columns]"
      ]
     },
     "execution_count": 20,
     "metadata": {},
     "output_type": "execute_result"
    }
   ],
   "source": [
    "# join public and private together, create HS column\n",
    "taz_enroll = taz_pub_grp.join(taz_prv_grp, lsuffix='pub', rsuffix='prv')\n",
    "taz_enroll['HS'] = taz_enroll['HS_pub'] + taz_enroll['HS_prv']\n",
    "taz_enroll.head()"
   ]
  },
  {
   "cell_type": "code",
   "execution_count": 21,
   "metadata": {},
   "outputs": [
    {
     "name": "stdout",
     "output_type": "stream",
     "text": [
      "307024.0\n",
      "306282.0\n",
      "40652\n",
      "40652.0\n"
     ]
    }
   ],
   "source": [
    "# check final enrollment\n",
    "pub_enroll['HSENR'] = pub_enroll['GR_9'] + pub_enroll['GR_10'] + pub_enroll['GR_11'] + pub_enroll['GR_12']\n",
    "print(pub_enroll['HSENR'].sum())\n",
    "print(taz_enroll['HS_pub'].sum())\n",
    "prv_enroll['HSENR'] = (prv_enroll['Grade 9 Enrollment'] + prv_enroll['Grade 10 Enrollment'] + prv_enroll['Grade 11 Enrollment'] \n",
    "                      + prv_enroll['Grade 12 Enrollment'])\n",
    "print(prv_enroll['HSENR'].sum())\n",
    "print(taz_enroll['HS_prv'].sum())"
   ]
  },
  {
   "cell_type": "code",
   "execution_count": 22,
   "metadata": {},
   "outputs": [
    {
     "name": "stdout",
     "output_type": "stream",
     "text": [
      "1156995.0\n",
      "1155245.0\n"
     ]
    }
   ],
   "source": [
    "# check final enrollment\n",
    "print(pub_enroll['ENR_TOTAL'].sum() + prv_enroll['Total Enrollment'].sum())\n",
    "print(taz_enroll['USER_ENR_TOTAL'].sum() + taz_enroll['USER_Total_Enrollment'].sum())"
   ]
  },
  {
   "cell_type": "code",
   "execution_count": 23,
   "metadata": {},
   "outputs": [],
   "source": [
    "taz_enroll_clip = taz_enroll[['HS']]\n",
    "taz_enroll_clip.to_csv('2015_HS_enrollment_TAZ1454.csv')"
   ]
  }
 ],
 "metadata": {
  "kernelspec": {
   "display_name": "Python [conda env:anaconda2]",
   "language": "python",
   "name": "conda-env-anaconda2-py"
  },
  "language_info": {
   "codemirror_mode": {
    "name": "ipython",
    "version": 2
   },
   "file_extension": ".py",
   "mimetype": "text/x-python",
   "name": "python",
   "nbconvert_exporter": "python",
   "pygments_lexer": "ipython2",
   "version": "2.7.14"
  }
 },
 "nbformat": 4,
 "nbformat_minor": 2
}
