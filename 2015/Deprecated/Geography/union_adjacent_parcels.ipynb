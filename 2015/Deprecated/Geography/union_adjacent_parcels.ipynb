{
 "cells": [
  {
   "cell_type": "code",
   "execution_count": 10,
   "metadata": {
    "collapsed": true
   },
   "outputs": [],
   "source": [
    "%matplotlib inline\n",
    "import pandas as pd\n",
    "import geopandas as gpd"
   ]
  },
  {
   "cell_type": "code",
   "execution_count": 96,
   "metadata": {},
   "outputs": [
    {
     "data": {
      "text/plain": [
       "39146"
      ]
     },
     "execution_count": 96,
     "metadata": {},
     "output_type": "execute_result"
    }
   ],
   "source": [
    "gdf = gpd.GeoDataFrame.from_file(\"policies/plu/concord_general_plan.geojson\")\n",
    "gdf = gdf.to_crs(epsg=3857)\n",
    "len(gdf)"
   ]
  },
  {
   "cell_type": "code",
   "execution_count": 97,
   "metadata": {},
   "outputs": [],
   "source": [
    "recs = []\n",
    "for gpname, grp in gdf.groupby(\"general_plan_name\"):\n",
    "    geometry = grp.buffer(5).unary_union.buffer(-5)\n",
    "    if geometry.type == \"Polygon\":\n",
    "        recs.append((gpname, geometry))\n",
    "        continue\n",
    "    for polygon in geometry:\n",
    "        recs.append((gpname, polygon))\n",
    "recs = zip(*recs)\n",
    "gdf2 = gpd.GeoDataFrame({\"general_plan_name\": recs[0], \"geometry\": recs[1]}, crs={'init': 'epsg:3857'}).to_crs(epsg=4326)\n",
    "#print gdf2.plot()"
   ]
  },
  {
   "cell_type": "code",
   "execution_count": 98,
   "metadata": {
    "collapsed": true
   },
   "outputs": [],
   "source": [
    "open(\"foo.json\", \"w\").write(gdf2.to_json())"
   ]
  },
  {
   "cell_type": "code",
   "execution_count": 99,
   "metadata": {},
   "outputs": [
    {
     "data": {
      "text/plain": [
       "4218"
      ]
     },
     "execution_count": 99,
     "metadata": {},
     "output_type": "execute_result"
    }
   ],
   "source": [
    "len(gdf2)"
   ]
  },
  {
   "cell_type": "code",
   "execution_count": null,
   "metadata": {
    "collapsed": true
   },
   "outputs": [],
   "source": []
  }
 ],
 "metadata": {
  "kernelspec": {
   "display_name": "Python 2",
   "language": "python",
   "name": "python2"
  },
  "language_info": {
   "codemirror_mode": {
    "name": "ipython",
    "version": 2
   },
   "file_extension": ".py",
   "mimetype": "text/x-python",
   "name": "python",
   "nbconvert_exporter": "python",
   "pygments_lexer": "ipython2",
   "version": "2.7.13"
  }
 },
 "nbformat": 4,
 "nbformat_minor": 2
}
